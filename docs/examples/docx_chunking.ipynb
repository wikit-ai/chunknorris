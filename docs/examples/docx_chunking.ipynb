{
 "cells": [
  {
   "cell_type": "code",
   "execution_count": 2,
   "metadata": {},
   "outputs": [
    {
     "name": "stdout",
     "output_type": "stream",
     "text": [
      "Note: you may need to restart the kernel to use updated packages.\n"
     ]
    }
   ],
   "source": [
    "# If needed, install chunknorris\n",
    "%pip install chunknorris -q"
   ]
  },
  {
   "cell_type": "markdown",
   "metadata": {},
   "source": [
    "# HTML file chunking\n",
    "\n",
    "This notebook aims at showing a simple example of chunking for Microsoft Word documents (.docx).\n",
    "\n",
    "## Pipeline setup"
   ]
  },
  {
   "cell_type": "code",
   "execution_count": 3,
   "metadata": {},
   "outputs": [],
   "source": [
    "# imported the required chunknorris components\n",
    "from chunknorris.parsers import DocxParser\n",
    "from chunknorris.chunkers import MarkdownChunker\n",
    "from chunknorris.pipelines import BasePipeline"
   ]
  },
  {
   "cell_type": "markdown",
   "metadata": {},
   "source": [
    "3 components are needed to chunk a markdown file:\n",
    "\n",
    "- ``DocxParser``: Behind the scene, it will use ``mammoth`` and ``markfownify`` to convert the docx file to markdown, and perform extra cleaning of the content. It returns a ``MarkdownDoc``.\n",
    "\n",
    "- ``MarkdownChunker``: the chunker takes as input a ``MarkdownDoc`` and performs chunking in multiple ``Chunks`` objects.\n",
    "\n",
    "- ``BasePipeline``: this pipline just plugs together the parser and the chunker so that the output of the parser in fed to the chunker."
   ]
  },
  {
   "cell_type": "code",
   "execution_count": 5,
   "metadata": {},
   "outputs": [],
   "source": [
    "# instanciate\n",
    "pipeline = BasePipeline(DocxParser(), MarkdownChunker())"
   ]
  },
  {
   "cell_type": "code",
   "execution_count": 7,
   "metadata": {},
   "outputs": [
    {
     "name": "stderr",
     "output_type": "stream",
     "text": [
      "2025-02-21 15:17:ChunkNorris:INFO:Function \"chunk\" took 0.0014 seconds\n"
     ]
    },
    {
     "name": "stdout",
     "output_type": "stream",
     "text": [
      "Got 11 chunks !\n"
     ]
    }
   ],
   "source": [
    "# Get those chunks !\n",
    "path_to_file = \"../../tests/test_files/file.docx\"\n",
    "chunks = pipeline.chunk_file(path_to_file)\n",
    "print(f\"Got {len(chunks)} chunks !\")"
   ]
  },
  {
   "cell_type": "markdown",
   "metadata": {},
   "source": [
    "## View the chunks"
   ]
  },
  {
   "cell_type": "code",
   "execution_count": 9,
   "metadata": {},
   "outputs": [
    {
     "name": "stdout",
     "output_type": "stream",
     "text": [
      "\n",
      "------------- chunk 0 ----------------\n",
      "\n",
      "# Dummy Table\n",
      "\n",
      "| | Age | Likes Pdf | Likes AI |\n",
      "| --- | --- | --- | --- |\n",
      "| Marc | 20 | Yes ? | **Yes !** |\n",
      "| Alice | 30 | **No** |\n",
      "| Rob | 40 |\n",
      "| Julia | 50 |\n",
      "| The cat | 60 | **No** |\n",
      "\n",
      "This is a dummy table that has nothing to do with the rest of the content but is here for testing purposes\n",
      "\n",
      "------------- chunk 1 ----------------\n",
      "\n",
      "# Insérer une table des matières\n",
      "\n",
      "Pour ajouter une table des matières, décidez simplement de l’emplacement souhaité. Word se charge du reste.\n",
      "\n",
      "Essayez par vous-même : appuyez sur ENTRÉE après le premier paragraphe dans ce document pour obtenir une nouvelle ligne. Accédez ensuite à l’onglet **Références**, sélectionnez **Table des matières** et choisissez une table des matières dans la liste.\n",
      "\n",
      "Vous avez terminé ! Word a détecté tous les titres dans ce document et ajouté une table des matières.\n",
      "\n",
      "------------- chunk 2 ----------------\n",
      "\n",
      "# Mise à jour quand il y a des changements\n",
      "\n",
      "Le travail ne s’arrête avec simplement la création d’une table des matières. Word est suffisamment intelligent pour effectuer le suivi des éléments du document pour vous éviter ce soucis. Lorsque les choses changent, mettez simplement à jour la table des matières.\n",
      "\n",
      "Essayez par vous-même : Mettre à jour votre table des matières.\n",
      "\n",
      "1. Placez le curseur après le paragraphe qui se termine par, « lorsque les choses changent, mettez simplement à jour la table des matières » (ci-dessus), et appuyez sur Ctrl + Entrée pour « pousser » cette section sur la page 3.\n",
      "2. Accédez à votre table des matières et cliquez n’importe où dedans. Puis cliquez sur **Mettre à jour la table des matières**, puis cliquez sur **OK** (**Mettre à jour les numéros de page uniquement** est sélectionné par défaut).\n",
      "\n",
      "Word a mis à jour la ligne Mettre à jour quand il y a des changements de page 2 à page 3.\n",
      "\n",
      "Utiliser des styles pour les en-têtes\n",
      "\n",
      "La magie des tables des matières réside dans les styles qui servent à mettre en forme les titres. L’en-tête de cette section Utiliser des styles pour les en-têtes, peut ressembler à un titre, mais il ne fonctionne pas comme un titre. Il a été mis en forme morceau par morceau (taille de police, soulignement) au lieu d’être mis en forme avec un style. Vous notez comment il ne se trouve pas dans la table des matières que vous avez ajoutée ? Pour ajouter un titre à une table des matières, il doit être mis en forme avec le style Titre 1.\n",
      "\n",
      "Essayez par vous-même : Mettez à jour le style, puis mettez à jour la table des matières.\n",
      "\n",
      "1. Cliquez dans le titre ci-dessus (Utiliser des styles pour les en-têtes), veillez à cliquer simplement, ne sélectionnez aucun élément.\n",
      "2. Sous l’onglet **Accueil**, recherchez **Styles**, puis sélectionnez **Titre 1** (raccourci clavier Ctrl+Alt+1) : Alt+Ctrl+1).\n",
      "3. Mettez à jour votre table des matières comme vous l’avez fait précédemment, mais cette fois, sélectionnez **Mettre à jour toute la table** (au lieu de **Mettre à jour les numéros de page uniquement**) car il n’y a pas que les numéros de page qui ont changé.\n",
      "\n",
      "À présent, Word sait que ce paragraphe est un titre et l’inclut dans la table des matières.\n"
     ]
    }
   ],
   "source": [
    "# Let's look at the chunks\n",
    "for i, chunk in enumerate(chunks[1:4]): # we only look at the 2 first chunks\n",
    "    print(f\"\\n------------- chunk {i} ----------------\\n\")\n",
    "    print(chunk.get_text())"
   ]
  },
  {
   "cell_type": "markdown",
   "metadata": {},
   "source": [
    "## Save the chunks\n",
    "The pipeline as a method to save the chunks and their attributes as a json file. Here is how to use it."
   ]
  },
  {
   "cell_type": "code",
   "execution_count": null,
   "metadata": {},
   "outputs": [],
   "source": [
    "# Let's save the chunks. We can just pass the chunks we obtain and the filename we want\n",
    "pipeline.save_chunks(chunks, \"mychunk.json\")"
   ]
  }
 ],
 "metadata": {
  "kernelspec": {
   "display_name": "chunknorris",
   "language": "python",
   "name": "python3"
  },
  "language_info": {
   "codemirror_mode": {
    "name": "ipython",
    "version": 3
   },
   "file_extension": ".py",
   "mimetype": "text/x-python",
   "name": "python",
   "nbconvert_exporter": "python",
   "pygments_lexer": "ipython3",
   "version": "3.11.10"
  }
 },
 "nbformat": 4,
 "nbformat_minor": 2
}
