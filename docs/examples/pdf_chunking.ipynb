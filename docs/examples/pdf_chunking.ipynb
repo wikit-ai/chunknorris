{
 "cells": [
  {
   "cell_type": "code",
   "execution_count": null,
   "metadata": {},
   "outputs": [],
   "source": [
    "# If needed, install chunknorris\n",
    "%pip install chunknorris -q"
   ]
  },
  {
   "cell_type": "markdown",
   "metadata": {},
   "source": [
    "# PDF file chunking\n",
    "\n",
    "This notebook aims at showing a simple example of chunking for PDF files.\n",
    "\n",
    "**Note:** You may want to have a look at the tutorial [In-depth .pdf file parsing](https://wikit-ai.github.io/chunknorris/examples/pdf_parsing/#observe-the-detected-tables) to get more info about the functionnalities of the ``PdfParser``.\n",
    "\n",
    "\n",
    "## Pipeline setup"
   ]
  },
  {
   "cell_type": "code",
   "execution_count": 5,
   "metadata": {},
   "outputs": [],
   "source": [
    "from chunknorris.parsers import PdfParser\n",
    "from chunknorris.chunkers import MarkdownChunker\n",
    "from chunknorris.pipelines import PdfPipeline\n",
    "from IPython.display import Markdown"
   ]
  },
  {
   "cell_type": "markdown",
   "metadata": {},
   "source": [
    "Here we import the ``PdfPipeline``. \n",
    "\n",
    "Note that ``BasePipeline`` would work as well, but the **``PdfPipeline`` handles more advanced mechanics specific to PDF files**. For example, it will:\n",
    "- split by pages the documents derived from powerpoint in which no table of content have been found.\n",
    "- cleanup cached objects to avoid memory leaks\n",
    "\n",
    "As the ``PdfParser`` outputs a ``MarkdownDoc``, we use the ``MarkdownChunker`` to chunk the parsed document."
   ]
  },
  {
   "cell_type": "code",
   "execution_count": 3,
   "metadata": {},
   "outputs": [
    {
     "name": "stderr",
     "output_type": "stream",
     "text": [
      "2024-12-17 17:09:ChunkNorris:INFO:Function \"_create_spans\" took 0.4265 seconds\n",
      "2024-12-17 17:09:ChunkNorris:INFO:Function \"get_tables\" took 1.3100 seconds\n",
      "2024-12-17 17:09:ChunkNorris:INFO:Function \"parse_file\" took 2.1334 seconds\n",
      "2024-12-17 17:09:ChunkNorris:INFO:Function \"chunk\" took 0.0536 seconds\n"
     ]
    },
    {
     "name": "stdout",
     "output_type": "stream",
     "text": [
      "Got 217 chunks !\n"
     ]
    }
   ],
   "source": [
    "# Setup the pipe. Feel free to play with the parser and chunker's arguments.\n",
    "pipeline = PdfPipeline(\n",
    "    PdfParser(),\n",
    "    MarkdownChunker(),\n",
    ")\n",
    "\n",
    "chunks = pipeline.chunk_file(\"./data/sample.pdf\")\n",
    "print(f\"Got {len(chunks)} chunks !\")"
   ]
  },
  {
   "cell_type": "markdown",
   "metadata": {},
   "source": [
    "As we can see, the chunking of this 165 pages documents took around:\n",
    "- 2.1s for parsing (including 1.3s for parsing the tables)\n",
    "- 0.05s for chunking.\n",
    "\n",
    "--> around 2.2s total\n",
    "\n",
    "It led to 217 chunks.\n",
    "\n",
    "(Hardware : CPU - i7-13620H, 2.40 GHz, RAM - 16 Go)\n",
    "\n",
    "## View the chunks\n",
    "\n",
    "To look at the chunk's text, you may use the ``Chunk.get_text()`` method.\n",
    "\n",
    "Another thing : for pdf file chunking, **each chunk contains information about the pages this chunk comes from**."
   ]
  },
  {
   "cell_type": "code",
   "execution_count": 17,
   "metadata": {},
   "outputs": [
    {
     "name": "stdout",
     "output_type": "stream",
     "text": [
      "\n",
      "===== Start page: 11 --- End page: 12 ======\n",
      "\n",
      "# Mitel 6930/6930w SIP Phone User Guide\n",
      "\n",
      "## **Welcome**\n",
      "\n",
      "### 2.4 Requirements\n",
      "The 6930 requires the following environment:\n",
      "- SIP-based IP PBX system or network installed and running with a SIP account created for the 6930 phone\n",
      "- Access to a Trithroughl File Transfer Protocol (TFTP), File Transfer Protocol (FTP), Hypertext Transfer Protocol (HTTP) server, or Hyper Text Transfer Protocol over Secure Sockets Layer (SSL) (HTTPS)\n",
      "User Guide 6\n",
      "- Ethernet/Fast Ethernet LAN (10/100 Mbps) (Gigabit Ethernet LAN [1000 Mbps] recommended)\n",
      "- Category 5/5e straight-through cabling (Category 6 straight-through cabling required for optimum Gigabit Ethernet performance)\n",
      "- Power source:\n",
      "- For Ethernet networks that supply inline power to the phone (IEEE 802.3af) use an Ethernet cable to connect from the phone directly to the network for power (no 48V AC power adapter required if using Power-over-Ethernet [PoE])\n",
      "- For Ethernet networks that DO NOT supply power to the phone:\n",
      "- Use only the GlobTek Inc. Limited Power Source [LPS] adapter model no. GT-41080-1848(sold separately) to connect from the DC power port on the phone to a power source or\n",
      "- Use a PoE power injector or a PoE switch\n",
      "\n",
      "===== Start page: 12 --- End page: 13 ======\n",
      "\n",
      "# Mitel 6930/6930w SIP Phone User Guide\n",
      "\n",
      "## **Welcome**\n",
      "\n",
      "### 2.5 Installation and Setup\n",
      "If your System Administrator has not already setup your 6930 phone, please refer to the  **Mitel 6930 Installation Guide**  for basic installation and physical setup information. For more advanced administration and configuration information, System Administrators should refer to the  **Mitel SIP IP Phones Administrator Guide .**\n",
      "**IP Phone Keys 3**\n",
      "This chapter contains the following sections:\n",
      "- Key Description\n",
      "- Dialpad Keys\n",
      "- E.164 support\n",
      "**Key Panel**\n",
      "The following sections describe the various 6930 phone key functions and how they can help you make and manage your calls and caller information.\n",
      "|  q   |  Handset                        |  a   |  Goodbye Key                  |\n",
      "|:-----|:--------------------------------|:-----|:------------------------------|\n",
      "| w    | Speaker                         | s    | Redial Key                    |\n",
      "| e    | Message Waiting Indicator (MWI) | d    | Hold Key                      |\n",
      "| r    | Contacts Key                    | f    | Mute Key                      |\n",
      "| t    | Call History Key                | g    | Speaker/Headset Key           |\n",
      "| y    | Voicemail Key                   | h    | Navigation Keys/Select Button |\n",
      "User Guide 8\n"
     ]
    }
   ],
   "source": [
    "for chunk_idx in [10, 11]: # choose any\n",
    "    chunk = chunks[chunk_idx]\n",
    "    print(f\"\\n===== Start page: {chunk.start_page} --- End page: {chunk.end_page} ======\\n\")\n",
    "    print(chunk.get_text())"
   ]
  },
  {
   "cell_type": "markdown",
   "metadata": {},
   "source": [
    "## Save the chunks\n",
    "In order to save the chunks in a JSON file, just use this:"
   ]
  },
  {
   "cell_type": "code",
   "execution_count": 16,
   "metadata": {},
   "outputs": [],
   "source": [
    "pipeline.save_chunks(chunks, \"mychunks.json\")"
   ]
  }
 ],
 "metadata": {
  "kernelspec": {
   "display_name": "chunknorris",
   "language": "python",
   "name": "python3"
  },
  "language_info": {
   "codemirror_mode": {
    "name": "ipython",
    "version": 3
   },
   "file_extension": ".py",
   "mimetype": "text/x-python",
   "name": "python",
   "nbconvert_exporter": "python",
   "pygments_lexer": "ipython3",
   "version": "3.11.10"
  }
 },
 "nbformat": 4,
 "nbformat_minor": 2
}
