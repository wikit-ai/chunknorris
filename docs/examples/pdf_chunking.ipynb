{
 "cells": [
  {
   "cell_type": "code",
   "execution_count": null,
   "metadata": {},
   "outputs": [],
   "source": [
    "# If needed, install chunknorris\n",
    "%pip install chunknorris -q"
   ]
  },
  {
   "cell_type": "markdown",
   "metadata": {},
   "source": [
    "# PDF file chunking\n",
    "\n",
    "This notebook aims at showing a simple example of chunking for PDF files.\n",
    "\n",
    "**Note:** You may want to have a look at the tutorial [In-depth .pdf file parsing](https://wikit-ai.github.io/chunknorris/examples/pdf_parsing/#observe-the-detected-tables) to get more info about the functionnalities of the ``PdfParser``.\n",
    "\n",
    "\n",
    "## Pipeline setup"
   ]
  },
  {
   "cell_type": "code",
   "execution_count": 1,
   "metadata": {},
   "outputs": [],
   "source": [
    "from chunknorris.parsers import PdfParser\n",
    "from chunknorris.chunkers import MarkdownChunker\n",
    "from chunknorris.pipelines import BasePipeline\n",
    "from IPython.display import Markdown"
   ]
  },
  {
   "cell_type": "code",
   "execution_count": 4,
   "metadata": {},
   "outputs": [
    {
     "name": "stderr",
     "output_type": "stream",
     "text": [
      "2025-07-01 15:39:ChunkNorris:INFO:Function \"get_tables\" took 1.4941 seconds\n",
      "2025-07-01 15:39:ChunkNorris:INFO:Function \"parse_file\" took 2.3959 seconds\n",
      "2025-07-01 15:39:ChunkNorris:INFO:Function \"chunk\" took 0.0955 seconds\n"
     ]
    },
    {
     "name": "stdout",
     "output_type": "stream",
     "text": [
      "Got 218 chunks !\n"
     ]
    }
   ],
   "source": [
    "# Setup the pipe. Feel free to play with the parser and chunker's arguments.\n",
    "pipeline = BasePipeline(\n",
    "    PdfParser(),\n",
    "    MarkdownChunker(),\n",
    ")\n",
    "\n",
    "chunks = pipeline.chunk_file(\"./example_data/sample.pdf\")\n",
    "print(f\"Got {len(chunks)} chunks !\")"
   ]
  },
  {
   "cell_type": "markdown",
   "metadata": {},
   "source": [
    "As we can see, the chunking of this 165 pages documents took around:\n",
    "- 2.4s for parsing (including 1.3s for parsing the tables)\n",
    "- 0.1s for chunking.\n",
    "\n",
    "--> around 2.5s total\n",
    "\n",
    "It led to 218 chunks.\n",
    "\n",
    "(Hardware : CPU - i7-13620H, 2.40 GHz, RAM - 16 Go)\n",
    "\n",
    "## View the chunks\n",
    "\n",
    "To look at the chunk's text, you may use the ``Chunk.get_text()`` method.\n",
    "\n",
    "Another thing : for pdf file chunking, **each chunk contains information about the pages this chunk comes from**."
   ]
  },
  {
   "cell_type": "code",
   "execution_count": 5,
   "metadata": {},
   "outputs": [
    {
     "name": "stdout",
     "output_type": "stream",
     "text": [
      "\n",
      "===== Start page: 9 --- End page: 11 ======\n",
      "\n",
      "## **Welcome**\n",
      "\n",
      "### 2.3 Phone Features\n",
      "\n",
      "The following table describes the IP Phone features:\n",
      "User Guide 4\n",
      "**Welcome**\n",
      "|  Feature  |  6930 IP Phone  |  6930w IP Phone  |\n",
      "|:---|:---|:---|\n",
      "| Display  | 4.3” WQVGA (480x272) color TFT LCD display with brightness controls  | 4.3\" WQVGA (480x272) color TFT LCD display with brightness controls  |\n",
      "| Programmable Keys  | 12 top softkeys  | 12 top softkeys  |\n",
      "| Context Sensitive Keys  | 5 context-sensitive bottom softkeys  | 5 context-sensitive bottom softkeys  |\n",
      "| Ethernet  | Built-in-two-port, 10/100/1000 Gigabit Ethernet switch - lets you share a connection with your computer | Built-in-two-port, 10/100/1000 Gigabit Ethernet switch - lets you share a connection with your computer 802.3az (EEE)  |\n",
      "| Power-over-Ethernet (PoE) - LAN | 802.3af, 802.3at  | 802.3af, 802.3at  |\n",
      "| POE Class  | Class 3 with auto change to 4 when PKMs are attached.  | Class 3 with auto change to 4 when PKMs are attached. If an accessory is installed in the sidecar accessory port, the phone must be powered using a 48v power brick. |\n",
      "| Bluetooth Support  | Embedded Bluetooth 4.1  | Embedded Bluetooth 5.2  |\n",
      "| External USB Port  | 1x USB 2.0 (100mA) Host  | 1x USB 2.0 (500mA) Host  |\n",
      "| PC Link / Mobile Link  | Yes  | Yes  |\n",
      "| 802.11n Wi-Fi  | -  | Yes (built-in)  |\n",
      "| Antimicrobial Plastics  | No  | No  |\n",
      "| DHSG Headset Support (H20/40)  | Yes  | Yes  |\n",
      "5 User Guide\n",
      "**Welcome**\n",
      "|  Feature  |  6930 IP Phone  |  6930w IP Phone  |\n",
      "|:---|:---|:---|\n",
      "| USB Headset Support (H10/30/40)  | Yes  | Yes  |\n",
      "| S720 BT Speakerphone  | Yes  | Yes  |\n",
      "| Integrated DECT Headset  | Yes  | Yes  |\n",
      "| M695 Programmable Key Module  | Yes (3 max)  | Yes (3 max)  |\n",
      "| Press-and-hold Speed dial key configuration feature | Yes  | Yes  |\n",
      "| Call Lines  | Supports up to 24 call lines with LEDs | Supports up to 24 call lines with LEDs |\n",
      "| AC power adapter  | Yes. Sold separately  | Yes. Sold separately  |\n",
      "| Supports Cordless Bluetooth handset  | Yes  | Yes  |\n",
      "**Note**  :\n",
      "The  **6930L**  and  **6930Lt**  IP Phone variants do not contain Bluetooth circuitry and so do not support the related wireless functions. Any information within this document related to radio performance or functionality only relates to the fully functional 6930 IP Phone with Bluetooth capability.\n",
      "\n",
      "===== Start page: 11 --- End page: 12 ======\n",
      "\n",
      "## **Welcome**\n",
      "\n",
      "### 2.4 Requirements\n",
      "The 6930 requires the following environment:\n",
      "- SIP-based IP PBX system or network installed and running with a SIP account created for the 6930\n",
      "\n",
      " phone\n",
      "- Access to a Trithroughl File Transfer Protocol (TFTP), File Transfer Protocol (FTP), Hypertext Transfer\n",
      "\n",
      " Protocol (HTTP) server, or Hyper Text Transfer Protocol over Secure Sockets Layer (SSL) (HTTPS)\n",
      "User Guide 6\n",
      "- Ethernet/Fast Ethernet LAN (10/100 Mbps) (Gigabit Ethernet LAN [1000 Mbps] recommended)\n",
      "- Category 5/5e straight-through cabling (Category 6 straight-through cabling required for optimum\n",
      "\n",
      " Gigabit Ethernet performance)\n",
      "- Power source:\n",
      "- For Ethernet networks that supply inline power to the phone (IEEE 802.3af) use an Ethernet cable to\n",
      "\n",
      " connect from the phone directly to the network for power (no 48V AC power adapter required if using Power-over-Ethernet [PoE])\n",
      "- For Ethernet networks that DO NOT supply power to the phone:\n",
      "- Use only the GlobTek Inc. Limited Power Source [LPS] adapter model no. GT-41080-1848(sold\n",
      "\n",
      " separately) to connect from the DC power port on the phone to a power source or\n",
      "- Use a PoE power injector or a PoE switch\n"
     ]
    }
   ],
   "source": [
    "for chunk_idx in [10, 11]: # choose any\n",
    "    chunk = chunks[chunk_idx]\n",
    "    print(f\"\\n===== Start page: {chunk.start_page} --- End page: {chunk.end_page} ======\\n\")\n",
    "    print(chunk.get_text())"
   ]
  },
  {
   "cell_type": "markdown",
   "metadata": {},
   "source": [
    "## Save the chunks\n",
    "In order to save the chunks in a JSON file, just use this:"
   ]
  },
  {
   "cell_type": "code",
   "execution_count": 16,
   "metadata": {},
   "outputs": [],
   "source": [
    "pipeline.save_chunks(chunks, \"mychunks.json\")"
   ]
  }
 ],
 "metadata": {
  "kernelspec": {
   "display_name": "chunknorris",
   "language": "python",
   "name": "python3"
  },
  "language_info": {
   "codemirror_mode": {
    "name": "ipython",
    "version": 3
   },
   "file_extension": ".py",
   "mimetype": "text/x-python",
   "name": "python",
   "nbconvert_exporter": "python",
   "pygments_lexer": "ipython3",
   "version": "3.11.12"
  }
 },
 "nbformat": 4,
 "nbformat_minor": 2
}
