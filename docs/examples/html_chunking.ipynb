{
 "cells": [
  {
   "cell_type": "code",
   "execution_count": 2,
   "metadata": {},
   "outputs": [
    {
     "name": "stdout",
     "output_type": "stream",
     "text": [
      "Note: you may need to restart the kernel to use updated packages.\n"
     ]
    }
   ],
   "source": [
    "# If needed, install chunknorris\n",
    "%pip install chunknorris -q"
   ]
  },
  {
   "cell_type": "markdown",
   "metadata": {},
   "source": [
    "# HTML file chunking\n",
    "\n",
    "This notebook aims at showing a simple example of chunking for markdown (.md) files.\n",
    "\n",
    "## Pipeline setup"
   ]
  },
  {
   "cell_type": "code",
   "execution_count": 4,
   "metadata": {},
   "outputs": [],
   "source": [
    "# imported the required chunknorris components\n",
    "from chunknorris.parsers import HTMLParser\n",
    "from chunknorris.chunkers import MarkdownChunker\n",
    "from chunknorris.pipelines import BasePipeline"
   ]
  },
  {
   "cell_type": "markdown",
   "metadata": {},
   "source": [
    "3 components are needed to chunk a HTML file:\n",
    "\n",
    "- ``HTMLParser``: Behind the scene, it will use ``markdownify`` to convert the html to markdown, and perform extra cleaning of the content. It returns a ``MarkdownDoc``.\n",
    "\n",
    "- ``MarkdownChunker``: the chunker takes as input a ``MarkdownDoc`` and performs chunking in multiple ``Chunks`` objects.\n",
    "\n",
    "- ``BasePipeline``: this pipline just plugs together the parser and the chunker so that the output of the parser in fed to the chunker."
   ]
  },
  {
   "cell_type": "code",
   "execution_count": 5,
   "metadata": {},
   "outputs": [],
   "source": [
    "# instanciate\n",
    "pipeline = BasePipeline(HTMLParser(), MarkdownChunker())"
   ]
  },
  {
   "cell_type": "code",
   "execution_count": 6,
   "metadata": {},
   "outputs": [
    {
     "name": "stderr",
     "output_type": "stream",
     "text": [
      "2024-12-17 17:33:ChunkNorris:INFO:Function \"chunk\" took 0.0032 seconds\n"
     ]
    },
    {
     "name": "stdout",
     "output_type": "stream",
     "text": [
      "Got 17 chunks !\n"
     ]
    }
   ],
   "source": [
    "# Get those chunks !\n",
    "path_to_html_file = \"../../tests/test_files/file.html\"\n",
    "chunks = pipeline.chunk_file(path_to_html_file)\n",
    "print(f\"Got {len(chunks)} chunks !\")"
   ]
  },
  {
   "cell_type": "markdown",
   "metadata": {},
   "source": [
    "## View the chunks"
   ]
  },
  {
   "cell_type": "code",
   "execution_count": 8,
   "metadata": {},
   "outputs": [
    {
     "name": "stdout",
     "output_type": "stream",
     "text": [
      "\n",
      "------------- chunk 0 ----------------\n",
      "\n",
      "# Le Jardin\n",
      "\n",
      "Un [jardin japonais](https://fr.wikipedia.org/wiki/Jardin_japonais \"Jardin japonais\").\n",
      "\n",
      "Une femme de 87 ans en train de cultiver son jardin. [Comté de Harju](https://fr.wikipedia.org/wiki/Comt%C3%A9_de_Harju \"Comté de Harju\"), Estonie, juin 2016.\n",
      "\n",
      "Un **jardin** est un lieu durablement et hypothétiquement aménagé où l'on cultive\n",
      "de façon ordonnée des [plantes](https://fr.wikipedia.org/wiki/Plante \"Plante\") domestiquées ou\n",
      "sélectionnées. Il est le produit de\n",
      "la technique du [jardinage](https://fr.wikipedia.org/wiki/Jardinage \"Jardinage\") et, comme elle, il\n",
      "remonte au moins à l'Antiquité. Les différentes cultures humaines dans le monde, au\n",
      "fil des époques,\n",
      "ont inventé de nombreux types et styles de jardins. Lieux d'agrément, de repos, de\n",
      "rêverie solitaire ou partagée, les jardins ont aussi été revêtus dès l'Antiquité\n",
      "d'une valeur symbolique. Ils apparaissent dans les mythologies et les religions, et\n",
      "ils ont été fréquemment évoqués dans les arts.\n",
      "\n",
      "------------- chunk 1 ----------------\n",
      "\n",
      "# Le Jardin\n",
      "\n",
      "## Étymologie\n",
      "\n",
      "Le terme *jardin* est attesté au [XIIe siècle](https://fr.wikipedia.org/wiki/XIIe_si%C3%A8cle \"XIIe siècle\") au sens de\n",
      "« terrain, généralement clos, où l'on cultive des végétaux utiles ou\n",
      "d'agrément » (Grand mal fit Adam, éd. H. Suchier, 88). Il remonte à un\n",
      "gallo-roman **hortus gardinus* (autrement *HORTU GARDINU,\n",
      "*gardinium* étant attesté au IXe siècle en [latin médiéval](https://fr.wikipedia.org/wiki/Latin_m%C3%A9di%C3%A9val \"Latin médiéval\")), ce qui signifie littéralement\n",
      "« jardin entouré d'une clôture », composé du latin *hortus*\n",
      "« jardin » et du [vieux bas francique](https://fr.wikipedia.org/wiki/Vieux-francique \"Vieux-francique\") **gart* ou **gardo*\n",
      "« clôture » (d'où l'ancien français *jart, gart* « jardin »\n",
      "et le russe город, *gorot*)[[1]](https://fr.wikipedia.org/wiki/Jardin#cite_note-%C3%A9tym_CNRTL-1). Le terme vieux bas francique,\n",
      "langue non attestée, est reconstitué d'après le [vieux haut allemand](https://fr.wikipedia.org/wiki/Vieux_haut_allemand \"Vieux haut allemand\") *gart, garto*\n",
      "« jardin », l'ancien néerlandais *gaert* et le gotique\n",
      "*garda*[[1]](https://fr.wikipedia.org/wiki/Jardin#cite_note-%C3%A9tym_CNRTL-1). Cette étymologie suggère que le\n",
      "jardin se doit d'être clos pour être protégé de l'extérieur et bien entretenu à\n",
      "l'intérieur.\n",
      "\n",
      "Le mot s'est diffusé dans les autres langues romanes à partir du français\n",
      "*jardin*, ainsi qu'en anglais (*garden*) via le normand *gardin*,\n",
      "semblable au picard *gardin*[[1]](https://fr.wikipedia.org/wiki/Jardin#cite_note-%C3%A9tym_CNRTL-1).\n"
     ]
    }
   ],
   "source": [
    "# Let's look at the chunks\n",
    "for i, chunk in enumerate(chunks[:2]): # we only look at the 2 first chunks\n",
    "    print(f\"\\n------------- chunk {i} ----------------\\n\")\n",
    "    print(chunk.get_text())"
   ]
  },
  {
   "cell_type": "markdown",
   "metadata": {},
   "source": [
    "## Save the chunks\n",
    "The pipeline as a method to save the chunks and their attributes as a json file. Here is how to use it."
   ]
  },
  {
   "cell_type": "code",
   "execution_count": null,
   "metadata": {},
   "outputs": [],
   "source": [
    "# Let's save the chunks. We can just pass the chunks we obtain and the filename we want\n",
    "pipeline.save_chunks(chunks, \"mychunk.json\")"
   ]
  }
 ],
 "metadata": {
  "kernelspec": {
   "display_name": "chunknorris",
   "language": "python",
   "name": "python3"
  },
  "language_info": {
   "codemirror_mode": {
    "name": "ipython",
    "version": 3
   },
   "file_extension": ".py",
   "mimetype": "text/x-python",
   "name": "python",
   "nbconvert_exporter": "python",
   "pygments_lexer": "ipython3",
   "version": "3.11.10"
  }
 },
 "nbformat": 4,
 "nbformat_minor": 2
}
