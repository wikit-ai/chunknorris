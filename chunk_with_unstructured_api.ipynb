{
 "cells": [
  {
   "cell_type": "code",
   "execution_count": 1,
   "metadata": {},
   "outputs": [
    {
     "data": {
      "text/plain": [
       "True"
      ]
     },
     "execution_count": 1,
     "metadata": {},
     "output_type": "execute_result"
    }
   ],
   "source": [
    "import os\n",
    "from unstructured_client import UnstructuredClient\n",
    "from unstructured_client.models import shared\n",
    "from unstructured_client.models.errors import SDKError\n",
    "from dotenv import load_dotenv\n",
    "\n",
    "\n",
    "load_dotenv()"
   ]
  },
  {
   "cell_type": "code",
   "execution_count": 4,
   "metadata": {},
   "outputs": [
    {
     "name": "stdout",
     "output_type": "stream",
     "text": [
      "{'type': 'CompositeElement', 'element_id': '42f2e9ecd69c4bf8f1ecd1305bff2428', 'text': 'Catégorie tarifaire\\n\\nGESTION COMMERCIALE LIVE\\n\\nVersion 14.50.100. - Mise à jour : 12/10/2023 - Groupe ISAGRI Avenue des Censives - BP 50333 - 60026 BEAUVAIS Cedex - SAS au capital de 5 100 000 € - 327 733 432 RCS Beauvais\\n\\nCatégorie Tarifaire\\n\\nSOMMAIRE\\n\\n1. OBJECTIF : ........................................................................................................................................................................... 3\\n\\n2. COMMENT CREER UNE CATEGORIE TARIFAIRE ? ................................................................................................................. 3\\n\\n3. COMMENT AFFECTER UNE CATEGORIE TARIFAIRE SUR LES FICHES CLIENTS ? ..................................................................... 4\\n\\n3.1 Comment affecter une catagorie tarifaire sur une fiche client ?............................................................................................. 4\\n\\n3.2 Comment affecter une catégorie tarifaire à une ensemble de clients ? ................................................................................. 5\\n\\n4. COMMENT AFFECTER UNE CATEGORIE TARIFAIRE A UN ARTICLE ? ..................................................................................... 6\\n\\n14.50.100\\n\\nGESTION COMMERCIALE LIVE - v14.50.100. - Mise à jour : 12/10/2023 - Groupe ISAGRI', 'metadata': {'languages': ['eng'], 'page_number': 1, 'filename': 'FAH DIVERS_Catégorie tarifaire.pdf', 'filetype': 'application/pdf'}}\n"
     ]
    }
   ],
   "source": [
    "s = UnstructuredClient(api_key_auth=os.environ.get(\"UNSTRUCTURED_API_KEY\"))\n",
    "\n",
    "#filename = \"./data/raw/Wikit_Charte Teletravail_01 08 2023.pdf\"\n",
    "#filename = \"./data/raw/1702465761.691289-Organigramme_DSIN_04.01.2024.pdf\"\n",
    "#filename = \"./data/raw/Reglement_interieur_de_la_collectivite_en_vigueur_au_23_01_2020.pdf\"\n",
    "#filename = \"./data/raw/FAH DIVERS_Catégorie tarifaire.pdf\"\n",
    "file = open(filename, \"rb\")\n",
    "\n",
    "req = shared.PartitionParameters(\n",
    "    # Note that this currently only supports a single file\n",
    "    files=shared.Files(\n",
    "        content=file.read(),\n",
    "        file_name=filename,\n",
    "    ),\n",
    "    # Other partition params\n",
    "    strategy=\"auto\",\n",
    "    coordinates=False,\n",
    "    languages=[\"fr\"],\n",
    "    pdf_infer_table_structure=True,\n",
    "    chunking_strategy=\"by_title\",\n",
    "    multipage_sections=True,\n",
    "    combine_under_n_chars=0,\n",
    "    new_after_n_chars=1500\n",
    ")\n",
    "\n",
    "try:\n",
    "    res = s.general.partition(req)\n",
    "    print(res.elements[0])\n",
    "except SDKError as e:\n",
    "    print(e)"
   ]
  },
  {
   "cell_type": "code",
   "execution_count": 5,
   "metadata": {},
   "outputs": [
    {
     "data": {
      "text/plain": [
       "[{'type': 'CompositeElement',\n",
       "  'element_id': '42f2e9ecd69c4bf8f1ecd1305bff2428',\n",
       "  'text': 'Catégorie tarifaire\\n\\nGESTION COMMERCIALE LIVE\\n\\nVersion 14.50.100. - Mise à jour : 12/10/2023 - Groupe ISAGRI Avenue des Censives - BP 50333 - 60026 BEAUVAIS Cedex - SAS au capital de 5 100 000 € - 327 733 432 RCS Beauvais\\n\\nCatégorie Tarifaire\\n\\nSOMMAIRE\\n\\n1. OBJECTIF : ........................................................................................................................................................................... 3\\n\\n2. COMMENT CREER UNE CATEGORIE TARIFAIRE ? ................................................................................................................. 3\\n\\n3. COMMENT AFFECTER UNE CATEGORIE TARIFAIRE SUR LES FICHES CLIENTS ? ..................................................................... 4\\n\\n3.1 Comment affecter une catagorie tarifaire sur une fiche client ?............................................................................................. 4\\n\\n3.2 Comment affecter une catégorie tarifaire à une ensemble de clients ? ................................................................................. 5\\n\\n4. COMMENT AFFECTER UNE CATEGORIE TARIFAIRE A UN ARTICLE ? ..................................................................................... 6\\n\\n14.50.100\\n\\nGESTION COMMERCIALE LIVE - v14.50.100. - Mise à jour : 12/10/2023 - Groupe ISAGRI',\n",
       "  'metadata': {'languages': ['eng'],\n",
       "   'page_number': 1,\n",
       "   'filename': 'FAH DIVERS_Catégorie tarifaire.pdf',\n",
       "   'filetype': 'application/pdf'}},\n",
       " {'type': 'CompositeElement',\n",
       "  'element_id': 'bc011a9ba79717d50a282754288246c2',\n",
       "  'text': 'Page 2/8\\n\\nCatégorie Tarifaire\\n\\n1. OBJECTIF :\\n\\nGérer différents prix de vente en fonction de la catégorie du client.\\n\\n2. COMMENT CREER UNE CATEGORIE TARIFAIRE ?\\n\\nÉTAPE 1 : aller dans le menu Paramètres\\\\Tiers\\\\Catégories Tarifaires\\n\\n2\\n\\nÉTAPE 2 : taper le code et le libellé de la catégorie tarifaire à créer dans les colonnes « Code » et\\n\\n« Libellé »\\n\\n2\\n\\n2\\n\\nPar défaut, la catégorie tarifaire est en HT. Il est possible de la passer en TTC. De ce fait, les prix de cette\\n\\ncatégorie seront exprimés en TTC.\\n\\nÉTAPE 3 : cliquer sur le bouton « Fermer »\\n\\n3\\n\\nÉTAPE 4 : la fenêtre suivante apparaît. Cliquer sur le bouton « Oui » pour enregistrer la création de la ou',\n",
       "  'metadata': {'languages': ['eng'],\n",
       "   'page_number': 2,\n",
       "   'filename': 'FAH DIVERS_Catégorie tarifaire.pdf',\n",
       "   'filetype': 'application/pdf'}},\n",
       " {'type': 'CompositeElement',\n",
       "  'element_id': '5383ccb6dd34d6ccc8abae4c7a729de3',\n",
       "  'text': 'des catégories tarifaires.\\n\\n14.50.100\\n\\nGESTION COMMERCIALE LIVE - v14.50.100. - Mise à jour : 12/10/2023 - Groupe ISAGRI\\n\\nPage 3/8\\n\\nCatégorie Tarifaire\\n\\n4\\n\\n3. COMMENT AFFECTER UNE CATEGORIE TARIFAIRE SUR LES FICHES CLIENTS ?\\n\\nIl est possible de renseigner une catégorie tarifaire fiche par fiche ou sur un ensemble de clients sans devoir passer fiche par fiche.\\n\\n3.1 Comment affecter une catégorie tarifaire sur une fiche client ?\\n\\nPour renseigner une catégorie tarifaire d’un client uniquement, il faut :\\n\\nÉTAPE 1 : aller dans le menu Ventes\\\\Clients\\\\Clients.\\n\\n1\\n\\nÉTAPE 2 : après avoir sélectionné votre client à modifier, cliquer sur la ligne « Informations facturation »\\n\\n2\\n\\nÉTAPE 3 : renseigner la catégorie tarifaire dans la zone « Catégorie tarifaire »\\n\\n3\\n\\n14.50.100\\n\\nGESTION COMMERCIALE LIVE - v14.50.100. - Mise à jour : 12/10/2023 - Groupe ISAGRI',\n",
       "  'metadata': {'languages': ['eng'],\n",
       "   'page_number': 3,\n",
       "   'filename': 'FAH DIVERS_Catégorie tarifaire.pdf',\n",
       "   'filetype': 'application/pdf'}},\n",
       " {'type': 'CompositeElement',\n",
       "  'element_id': '6c7ace5076e7d74ff8c84b471d791d05',\n",
       "  'text': 'Page 4/8\\n\\nCatégorie Tarifaire\\n\\nÉTAPE 4 : enregistrer les modifications\\n\\n3.2 Comment affecter une catégorie tarifaire à un ensemble de clients ?\\n\\nIl est possible de faire une mise à groupée pour affecter une catégorie tarifaire à un ensemble de clients.\\n\\nÉTAPE 1 : aller dans le menu Ventes\\\\Clients\\\\Liste / Travaux.\\n\\n1\\n\\nÉTAPE 2 : après avoir créé les filtres pour obtenir les clients à mettre à jour et avoir cliqué sur le bouton\\n\\n« Filtrer », faire un clic droit « Modifier clients ».\\n\\n2\\n\\nÉTAPE 3 : sur la fenêtre qui apparaît, rechercher la ligne « Catégorie tarifaire » qui se trouve dans la partie « Informations de facturation ». Renseigner la catégorie tarifaire en la sélectionnant dans la liste.\\n\\n3',\n",
       "  'metadata': {'languages': ['eng'],\n",
       "   'page_number': 4,\n",
       "   'filename': 'FAH DIVERS_Catégorie tarifaire.pdf',\n",
       "   'filetype': 'application/pdf'}},\n",
       " {'type': 'CompositeElement',\n",
       "  'element_id': '44a8071ec5a07251c0c4a0bdcdb12b61',\n",
       "  'text': 'À la suite de la modification, la ligne devient bleu ciel\\n\\n14.50.100\\n\\nGESTION COMMERCIALE LIVE - v14.50.100. - Mise à jour : 12/10/2023 - Groupe ISAGRI\\n\\nPage 5/8\\n\\nCatégorie Tarifaire\\n\\nÉTAPE 4 : cliquer sur le bouton « Ok » pour valider la mise à jour\\n\\n4\\n\\nÉTAPE 5 : une fenêtre de confirmation apparaît. Cliquer sur le bouton « Oui » pour valider la modification.\\n\\n5\\n\\n4. COMMENT AFFECTER UNE CATEGORIE TARIFAIRE A UN ARTICLE ?\\n\\nÉTAPE 1 : aller dans le menu Articles\\\\Articles\\n\\n1\\n\\nÉTAPE 2 : après avoir sélectionné votre article, cliquer sur la ligne « Tarifs ».\\n\\n2\\n\\n14.50.100\\n\\nGESTION COMMERCIALE LIVE - v14.50.100. - Mise à jour : 12/10/2023 - Groupe ISAGRI',\n",
       "  'metadata': {'languages': ['eng'],\n",
       "   'page_number': 5,\n",
       "   'filename': 'FAH DIVERS_Catégorie tarifaire.pdf',\n",
       "   'filetype': 'application/pdf'}},\n",
       " {'type': 'CompositeElement',\n",
       "  'element_id': '4ec29e146548d5dffc5dda1d838947f2',\n",
       "  'text': 'Page 6/8\\n\\nCatégorie Tarifaire\\n\\nÉTAPE 3 : cliquer sur le + dans l’onglet « Catégorie Tarifaire » pour ajouter la catégorie tarifaire.\\n\\nPour ajouter une catégorie tarifaire, il faut que le tarif de base soit renseigné ainsi que la code de TVA.\\n\\nÉTAPE 4 : dans la fenêtre « Nouveau tarif préférentiel », renseigner :\\n\\n✓ La catégorie tarifaire dans la zone « Catégorie tarifaire »\\n\\n3\\n\\n✓ La quantité mini à appliquer sur la catégorie tarifaire dans la zone Quantité mini\\n\\n✓ Le prix de vente HT de la catégorie tarifaire dans la zone « Prix de vente HT »\\n\\n4\\n\\n4\\n\\n4\\n\\nLa zone « Remise » se calcule selon le « Type de remise ».\\n\\nÉTAPE 5 : cliquer sur le bouton « Créer » pour ajouter la nouvelle catégorie tarifaire dans la fiche de',\n",
       "  'metadata': {'languages': ['eng'],\n",
       "   'page_number': 6,\n",
       "   'filename': 'FAH DIVERS_Catégorie tarifaire.pdf',\n",
       "   'filetype': 'application/pdf'}},\n",
       " {'type': 'CompositeElement',\n",
       "  'element_id': '1c10ddcba27485b686ac24eca902f23a',\n",
       "  'text': 'l’article\\n\\n5\\n\\nIl est possible de créer plusieurs lignes pour la même catégorie tarifaire. Il suffira de changer la quantité\\n\\nmini et le prix de vente HT.\\n\\n14.50.100\\n\\nGESTION COMMERCIALE LIVE - v14.50.100. - Mise à jour : 12/10/2023 - Groupe ISAGRI\\n\\nPage 7/8\\n\\nCatégorie Tarifaire\\n\\nPour supprimer une ligne, cliquer sur la ligne à supprimer puis cliquer sur le -.\\n\\nPour modifier une ligne, cliquer sur la ligne puis cliquer sur le crayon bleu.\\n\\nÉTAPE 6 : enregistrer la fiche article en cliquant sur la disquette\\n\\n6\\n\\nCette documentation correspond à la version 14.50.100 Entre deux versions, des mises à jour du logiciel peuvent être opérées sans modification de la documentation. Elles sont présentées dans la documentation des nouveautés de la version sur votre espace client.\\n\\nGESTION COMMERCIALE LIVE - v14.50.100. - Mise à jour : 12/10/2023 - Groupe ISAGRI',\n",
       "  'metadata': {'languages': ['eng'],\n",
       "   'page_number': 7,\n",
       "   'filename': 'FAH DIVERS_Catégorie tarifaire.pdf',\n",
       "   'filetype': 'application/pdf'}},\n",
       " {'type': 'CompositeElement',\n",
       "  'element_id': 'be57f53b3717804a4df35ef11061ff12',\n",
       "  'text': 'Page 8/8',\n",
       "  'metadata': {'languages': ['eng'],\n",
       "   'page_number': 8,\n",
       "   'filename': 'FAH DIVERS_Catégorie tarifaire.pdf',\n",
       "   'filetype': 'application/pdf'}}]"
      ]
     },
     "execution_count": 5,
     "metadata": {},
     "output_type": "execute_result"
    }
   ],
   "source": [
    "res.elements"
   ]
  },
  {
   "cell_type": "code",
   "execution_count": 28,
   "metadata": {},
   "outputs": [],
   "source": [
    "import tiktoken"
   ]
  },
  {
   "cell_type": "code",
   "execution_count": null,
   "metadata": {},
   "outputs": [],
   "source": []
  }
 ],
 "metadata": {
  "kernelspec": {
   "display_name": "langchain",
   "language": "python",
   "name": "python3"
  },
  "language_info": {
   "codemirror_mode": {
    "name": "ipython",
    "version": 3
   },
   "file_extension": ".py",
   "mimetype": "text/x-python",
   "name": "python",
   "nbconvert_exporter": "python",
   "pygments_lexer": "ipython3",
   "version": "3.10.13"
  }
 },
 "nbformat": 4,
 "nbformat_minor": 2
}
