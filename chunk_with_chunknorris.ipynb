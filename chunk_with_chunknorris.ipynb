{
 "cells": [
  {
   "cell_type": "code",
   "execution_count": 1,
   "metadata": {},
   "outputs": [],
   "source": [
    "import os\n",
    "from src.chunkers import HTMLChunkNorris, MarkdownChunkNorris\n",
    "from src.custom_chunkers import WikitChunkNorris"
   ]
  },
  {
   "cell_type": "markdown",
   "metadata": {},
   "source": [
    "### Chunk with chunk Norris"
   ]
  },
  {
   "cell_type": "code",
   "execution_count": 6,
   "metadata": {},
   "outputs": [
    {
     "name": "stdout",
     "output_type": "stream",
     "text": [
      "# Formations\n",
      "## Bachelor in Mechanical, Materials and Aerospace Engineering\n",
      "Cette formation, de niveau bac+3, permet d’acquérir un profil international basé sur l’ingénierie mécanique et aéronautique.\n",
      "Conçu pour correspondre aux standards internationaux de formation, le Bachelor est compatible avec le système européen licence-master-doctorat (LMD). La formation a pour volonté d’inscrire les étudiants dans la réalité du terrain de la mécanique aéronautique en trois années.\n",
      "Les deux premières années sont consacrées à la consolidation des connaissances scientifiques, et la troisième, articulée autour d’un projet de fin d’année, est dédiée à la science appliquée.\n",
      "Deux stages sont obligatoires et les étudiants doivent effectuer un semestre d’études en ingénierie aéronautique soit à l’Université de Strathclyde en Écosse soit à l’Université de Twente au Pays-Bas.\n",
      "Le Bachelor International de l’INSA Lyon est accréditée par la Commission des Titres d’Ingénieur et le Ministère de l’Enseignement Supérieur et de la Recherche pour délivrer le diplôme national de grade licence.\n",
      "\\\\_\\\\_\\\\_\\\\_\\\\_\\\\_\\\\_\\\\_\\\\_\\\\_\\\\_\\\\_\\\\_\\\\_\\\\_\\\\_\\\\_\\\\_\\\\_\\\\_\\\\_\\\\_\\\\_\\\\_\n",
      "A programme in cooperation with ECAM Lyon, the University of Strathclyde (Glasgow, UK) and the University of Twente (The Netherlands), two leading European technological universities.\n",
      "The Bachelor in Mechanical, Materials and Aerospace Engineering is tailored to English-speaking students of all nationalities who have an interest in Technology, Applied Sciences and Aeronautics. A good level in Mathematics and Physics is a pre-requisite.\n",
      "This three-year course offers a unique opportunity to acquire a solid grounding in these highly-valued engineering fields, gain first-hand professional experience and develop a truly international profile.\n",
      "All classes are taught exclusively in English by an international team of experienced lecturers and dedicated professionals.\n",
      "The IBMMAE programme has received accreditation from the French ‘Commission des Titres d’Ingénieur’ and the Ministry of Higher Education to award the national ‘Grade de Licence’ degree.\n",
      "ibmmae.insa-lyon.org/\n",
      "J’ai été conquis par le concept d’études courtes, les cours dispensés exclusivement en anglais et la mention internationale du diplôme \n",
      " Paul – élève de l’international bachelor\n",
      "Bachelor / documents\n",
      "Bachelor in Mechanical, Materials and Aerospace Engineering\n",
      "Application form 2023-2024\n",
      "<\n",
      ">\n",
      "\n",
      "\n",
      "======================================\n",
      "\n"
     ]
    }
   ],
   "source": [
    "## LaDrome\n",
    "DATA_SOURCE = \"C://Users/mathi/Wikit/Data\"\n",
    "SOURCE_FOLDER = DATA_SOURCE + \"/D26/ladrome-2023-12-22-page/\"\n",
    "\n",
    "# FILE = \"ladrome-page-13830.json\"\n",
    "# FILE = \"ladrome-page-10516.json\"\n",
    "# FILE = \"ladrome-page-61504.json\"\n",
    "# FILE = \"ladrome-page-504967.json\"\n",
    "# FILE = \"ladrome-page-567239.json\"\n",
    "# FILE = \"ladrome-page-13718.json\"\n",
    "# FILE = \"ladrome-page-10516.json\"\n",
    "# FILE = \"ladrome-page-547344.json\" # big chunks\n",
    "# FILE = \"ladrome-page-574603.json\" # no title, just a list of links\n",
    "# FILE = \"ladrome-page-581681.json\" # plein de petits titres\n",
    "# FILE = \"ladrome-page-10787.json\"\n",
    "FILE = \"ladrome-page-11020.json\"\n",
    "\n",
    "# INSALyon\n",
    "SOURCE_FOLDER = \"../../data/INSALyon/insalyon-2023-12-13-page/\"\n",
    "\n",
    "\n",
    "# FILE = \"rejoindreinsalyon-page-500.json\"\n",
    "# FILE = \"rejoindreinsalyon-page-160.json\"\n",
    "# FILE = \"rejoindreinsalyon-page-4314.json\"\n",
    "# FILE = \"rejoindreinsalyon-page-3908.json\"\n",
    "\n",
    "SOURCE_FOLDER = DATA_SOURCE + \"/INSALyon/insalyon-2023-11-27-formations/\"\n",
    "\n",
    "FILE = \"bachelor.json\"\n",
    "\n",
    "\n",
    "html_cn = WikitChunkNorris()\n",
    "text = WikitChunkNorris.read_file(os.path.join(SOURCE_FOLDER, FILE))\n",
    "\n",
    "chunks = html_cn(\n",
    "    text,\n",
    "    max_title_level_to_use=\"h3\",\n",
    "    max_chunk_word_length=200,\n",
    "    link_placement=\"in_sentence\",\n",
    "    chunk_tokens_exceeded_handling=\"split\",\n",
    "    header_style=\"setext\"\n",
    "    )\n",
    "for c in chunks:\n",
    "    print(c[\"text\"])\n",
    "    print(\"\\n======================================\\n\")\n"
   ]
  },
  {
   "cell_type": "markdown",
   "metadata": {},
   "source": [
    "### Chunk entire folder"
   ]
  },
  {
   "cell_type": "code",
   "execution_count": 1,
   "metadata": {},
   "outputs": [],
   "source": [
    "from src.custom_chunkers import WikitChunkNorris\n",
    "\n",
    "INPUT_FOLDER = \"C://Users/mathi/Wikit/Data/Télécom saint-étienne copy/telecom-st-etienne-2024-01-24-raw\"\n",
    "\n",
    "html_cn = WikitChunkNorris()\n",
    "html_cn.chunk_directory(\n",
    "    INPUT_FOLDER,\n",
    "    max_title_level_to_use=\"h4\",\n",
    "    max_chunk_word_length=250,\n",
    "    link_placement=\"in_sentence\",\n",
    "    chunk_tokens_exceeded_handling=\"split\"\n",
    "    )"
   ]
  },
  {
   "cell_type": "markdown",
   "metadata": {},
   "source": [
    "### Analyse chunks"
   ]
  },
  {
   "cell_type": "code",
   "execution_count": 1,
   "metadata": {},
   "outputs": [
    {
     "name": "stdout",
     "output_type": "stream",
     "text": [
      "Filename : cd859266-8e2f-4d32-a48d-7d72b24766f0_retour-hackathon-open-data-departement-de-loire.json\n",
      "Chunk position : 0\n",
      "# Retour sur le Hackathon «Open Data» avec le Département de La Loire\n",
      "23 janvier 2020\n",
      "Un peu avant les vacances de Noël, les étudiants de Télécom Saint-Etienne issus des promotions Data Engineering, Licence Information et Communication et Design Tech Académie ont travaillé en mode hackathon sur des thématiques proposées par le Département de La Loire.\n",
      "L’objectif ?  \n",
      "Travailler en équipe mixtes avec des représentants de chaque promotions pendant 48h sur une thématique parmi : santé, environnement, autonomie, lecture publique.\n",
      "À l’issue des 2 jours, les équipes ont présenté leur projet face à un jury.\n",
      "\n"
     ]
    }
   ],
   "source": [
    "import random\n",
    "import os\n",
    "import glob\n",
    "import json\n",
    "\n",
    "CHUNKS_FOLDER = \"c://Users/mathi/Wikit/Data/Télécom saint-étienne/telecom-st-etienne-2024-01-24-chunked\"\n",
    "FILES = [subdir for dir in os.walk(CHUNKS_FOLDER) for subdir in glob.glob(os.path.join(dir[0], '*.json'))]\n",
    "\n",
    "random_filepath = FILES[random.randint(0, len(FILES)-1)] \n",
    "with open(random_filepath) as f:\n",
    "    chunks = json.load(f)[\"hasPart\"]\n",
    "    random_chunk_id = random.randint(0, len(chunks)-1)\n",
    "    print(os.path.basename(random_filepath))\n",
    "    print(\"Chunk position :\", random_chunk_id)\n",
    "    print(chunks[random_chunk_id][\"text\"])"
   ]
  }
 ],
 "metadata": {
  "kernelspec": {
   "display_name": "d26",
   "language": "python",
   "name": "python3"
  },
  "language_info": {
   "codemirror_mode": {
    "name": "ipython",
    "version": 3
   },
   "file_extension": ".py",
   "mimetype": "text/x-python",
   "name": "python",
   "nbconvert_exporter": "python",
   "pygments_lexer": "ipython3",
   "version": "3.10.13"
  }
 },
 "nbformat": 4,
 "nbformat_minor": 2
}
