{
 "cells": [
  {
   "cell_type": "markdown",
   "metadata": {},
   "source": [
    "### Chunk with chunk Norris"
   ]
  },
  {
   "cell_type": "code",
   "execution_count": null,
   "metadata": {},
   "outputs": [],
   "source": [
    "import os\n",
    "from pprint import pprint\n",
    "from src.custom_chunkers import WikitChunkNorris\n",
    "from src.chunkers import MarkdownChunkNorris\n",
    "\n",
    "DATA_SOURCE = \"C://Users/mathi/Wikit/Data\"\n",
    "SOURCE_FOLDER = DATA_SOURCE + \"/D26/ladrome-2023-12-22-page/\"\n",
    "\n",
    "# FILE = \"ladrome-page-13830.json\"\n",
    "# FILE = \"ladrome-page-61504.json\"\n",
    "# FILE = \"ladrome-page-504967.json\"\n",
    "# FILE = \"ladrome-page-567239.json\" # terre de jeux JO\n",
    "# FILE = \"ladrome-page-13718.json\" # politique cookies\n",
    "FILE = \"ladrome-page-10516.json\" # filière d'excellence\n",
    "# FILE = \"ladrome-page-547344.json\" # big chunks\n",
    "# FILE = \"ladrome-page-574603.json\" # no title, just a list of links\n",
    "# FILE = \"ladrome-page-581681.json\" # plein de petits titres\n",
    "# FILE = \"ladrome-page-10787.json\"\n",
    "# FILE = \"ladrome-page-11020.json\"\n",
    "\n",
    "# INSALyon\n",
    "#SOURCE_FOLDER = \"../../data/INSALyon/insalyon-2023-12-13-page/\"\n",
    "\n",
    "\n",
    "# FILE = \"rejoindreinsalyon-page-500.json\"\n",
    "# FILE = \"rejoindreinsalyon-page-160.json\"\n",
    "# FILE = \"rejoindreinsalyon-page-4314.json\"\n",
    "#FILE = \"rejoindreinsalyon-page-3908.json\"\n",
    "\n",
    "\n",
    "cn = WikitChunkNorris()\n",
    "text = WikitChunkNorris.read_file(os.path.join(SOURCE_FOLDER, FILE))\n",
    "text = WikitChunkNorris.apply_markdownify(text)\n",
    "chunks = cn(text, max_chunk_word_length=200)\n",
    "\n",
    "for c in chunks:\n",
    "    print(c)\n",
    "    print(\"\\n---------------------\\n\")"
   ]
  },
  {
   "cell_type": "markdown",
   "metadata": {},
   "source": [
    "### Chunk entire folder"
   ]
  },
  {
   "cell_type": "code",
   "execution_count": null,
   "metadata": {},
   "outputs": [],
   "source": [
    "from src.custom_chunkers import WikitChunkNorris\n",
    "\n",
    "INPUT_FOLDER = \"C://Users/mathi/Wikit/Data/Télécom saint-étienne/telecom-st-etienne-2024-01-24-raw/recrutement/\"\n",
    "\n",
    "html_cn = WikitChunkNorris()\n",
    "html_cn.chunk_directory(\n",
    "    INPUT_FOLDER,\n",
    "    max_title_level_to_use=\"h4\",\n",
    "    max_chunk_word_length=250,\n",
    "    link_placement=\"in_sentence\",\n",
    "    chunk_tokens_exceeded_handling=\"split\"\n",
    "    )"
   ]
  }
 ],
 "metadata": {
  "kernelspec": {
   "display_name": "d26",
   "language": "python",
   "name": "python3"
  },
  "language_info": {
   "codemirror_mode": {
    "name": "ipython",
    "version": 3
   },
   "file_extension": ".py",
   "mimetype": "text/x-python",
   "name": "python",
   "nbconvert_exporter": "python",
   "pygments_lexer": "ipython3",
   "version": "3.10.13"
  }
 },
 "nbformat": 4,
 "nbformat_minor": 2
}
