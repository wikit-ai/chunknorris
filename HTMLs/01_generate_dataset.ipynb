{
 "cells": [
  {
   "cell_type": "code",
   "execution_count": 1,
   "metadata": {},
   "outputs": [],
   "source": [
    "import json\n",
    "import os\n",
    "import pandas as pd\n",
    "from src.RAG_dataset_generator import RAGDatasetGenerator"
   ]
  },
  {
   "cell_type": "code",
   "execution_count": 2,
   "metadata": {},
   "outputs": [],
   "source": [
    "CHUNKS_FOLDER = \"../../data\\D26\\ladrome-2023-12-22-page-chunked-v1\""
   ]
  },
  {
   "cell_type": "code",
   "execution_count": 3,
   "metadata": {},
   "outputs": [
    {
     "name": "stderr",
     "output_type": "stream",
     "text": [
      "  1%|▏         | 1/79 [00:07<09:36,  7.40s/it]"
     ]
    },
    {
     "name": "stdout",
     "output_type": "stream",
     "text": [
      "Generated content is not list of strings : [ \"accueillants familiaux\", \"personnes âgées\", \"Département\", \"agréés\", \"Drôme\" ] \n",
      "\n",
      "These keywords allow to answer the question because they are related to the context of the question and provide information about who can be accueillants familiaux. . \n",
      "Retrying...\n",
      "Generated content is not list of strings : [ \"accueillants familiaux\", \"personnes âgées\", \"Département\", \"agréés\", \"Drome\" ] . \n",
      "Retrying...\n",
      "Generated content is not list of strings : [ \"accueillants familiaux\", \"personnes âgées\", \"Département\", \"agréés\", \"Drôme\" ] . \n",
      "Retrying...\n"
     ]
    },
    {
     "name": "stderr",
     "output_type": "stream",
     "text": [
      "  3%|▎         | 2/79 [00:22<15:12, 11.85s/it]"
     ]
    },
    {
     "name": "stdout",
     "output_type": "stream",
     "text": [
      "Generated content is not list of strings : [ \"février\", \"horaires\", \"fermeture annuelle\" ] . \n",
      "Retrying...\n",
      "Generated content is not list of strings : [{\"museum\", \"february\", \"closure\", \"annual\"}] . \n",
      "Retrying...\n",
      "Generated content is not list of strings : [{\"museum\", \"open\", \"february\", \"except\", \"annual\", \"closure\"}] . \n",
      "Retrying...\n",
      "Generated content is not list of strings : [ \"février\", \"horaires\", \"ouverture\" ] . \n",
      "Retrying...\n"
     ]
    },
    {
     "name": "stderr",
     "output_type": "stream",
     "text": [
      "  4%|▍         | 3/79 [00:41<19:03, 15.05s/it]"
     ]
    },
    {
     "name": "stdout",
     "output_type": "stream",
     "text": [
      "Generated content is not list of strings : [ \"november\", \"march\", \"hors période de fermeture annuelle\", \"mercredi\", \"dimanche\", \"14h\", \"17h\", \"février\" ]\n",
      "\n",
      "The keywords \"november\", \"march\", \"hors période de fermeture annuelle\", \"mercredi\", \"dimanche\", \"14h\", \"17h\", and \"février\" are relevant to determining the museum's opening status in February, outside of its annual closure. The museum is open from November to March, except for its annual closure, on Wednesdays to Sundays from 14h to 17h. However, it is mentioned that the museum is closed from the end of the Christmas holidays to the beginning of the February holidays. Thus, the museum may not be open in February depending on the exact dates of these holidays. . \n",
      "Retrying...\n",
      "Generated content is not list of strings : [[\"RGAA\", \"4.1\", \"audit\", \"Temesis\"], [\"89.58%\", \"des critères RGAA sont respectés\"], [\"43\", \"critères conformes\"], [\"56\", \"critères non applicables\"], [\"5\", \"critères non conformes\"]] . \n",
      "Retrying...\n"
     ]
    },
    {
     "name": "stderr",
     "output_type": "stream",
     "text": [
      "  5%|▌         | 4/79 [00:46<14:08, 11.32s/it]"
     ]
    },
    {
     "name": "stdout",
     "output_type": "stream",
     "text": [
      "Generated content is not list of strings : [ \"La Poudrière\", \"Ministère de la Culture\", \"Cartoucherie de Bourg-lès-Valence\" ] . \n",
      "Retrying...\n",
      "Generated content is not list of strings : [ \"La Poudrière\", \"Ministère de la Culture\", \"Cartoucherie de Bourg-lès-Valence\" ] . \n",
      "Retrying...\n",
      "Generated content is not list of strings : [ \"La Poudrière\", \"Ministère de la Culture\", \"Cartoucherie de Bourg-lès-Valence\" ] . \n",
      "Retrying...\n",
      "Generated content is not list of strings : [ \"La Poudrière\", \"Ministère de la Culture\", \"Cartoucherie de Bourg-lès-Valence\" ] . \n",
      "Retrying...\n"
     ]
    },
    {
     "name": "stderr",
     "output_type": "stream",
     "text": [
      "  6%|▋         | 5/79 [00:54<12:24, 10.06s/it]"
     ]
    },
    {
     "name": "stdout",
     "output_type": "stream",
     "text": [
      "Generated content is not list of strings : [ \"cookie\", \"politique de cookies\", \"petit fichier\", \"stocké par votre navigateur\", \"informations stockées\", \"renvoyées à nos serveurs\" ] . \n",
      "Retrying...\n",
      "Generated content is not list of strings : [ \"cookie\", \"petit fichier\", \"stocké\", \"navigateur\", \"disque dur\", \"ordinateur\", \"appareil\", \"informations\", \"renvoyées\", \"serveurs\", \"tierces parties\" ] . \n",
      "Retrying...\n",
      "Generated content is not list of strings : [ \"cookie\", \"política de cookies\", \"petit fichier\", \"stocké par votre navigateur\", \"disque dur\", \"informations\", \"renvoyée à nos serveurs\" ] . \n",
      "Retrying...\n",
      "Generated content is not list of strings : [[\"politique de cookies\"], [\"cookie\"], [\"petit fichier\"], [\"stocké\"], [\"navigateur\"], [\"disque dur\"], [\"informations\"], [\"renvoyées\"], [\"serveurs\"]] . \n",
      "Retrying...\n"
     ]
    },
    {
     "name": "stderr",
     "output_type": "stream",
     "text": [
      "  8%|▊         | 6/79 [01:06<13:02, 10.72s/it]"
     ]
    },
    {
     "name": "stdout",
     "output_type": "stream",
     "text": [
      "Generated content is not list of strings : [{\"keywords\": [\"Que sont les cookies?\", \"petit fichier\", \"stocké\", \"navigateur\", \"disque dur\", \"ordinateur\", \"appareil\", \"informations\", \"renvoyées\", \"serveurs\", \"tierces parties\"]}] . \n",
      "Retrying...\n",
      "Generated content is not list of strings : [\n",
      "\"Quand le rapport de la CLIGEET sur le projet AMC2 Orano a-t-il été publié?\"\n",
      "] . \n",
      "Retrying...\n",
      "Generated content is not list of strings : Based on the information provided, the keyword that is most relevant to answering the question is \"AMC2 Orano\". The report containing the information the question asks for is likely to have this project name in its title or in the content of the report. Here is the formatted answer:\n",
      "\n",
      "[\"AMC2 Orano\"] . \n",
      "Retrying...\n",
      "Generated content is not list of strings : Based on the information provided, the following keywords would be helpful in finding the answer to \"When was the CLIGEET report on the AMC2 Orano project published?\":\n",
      "\n",
      "[\"CLIGEET\", \"report\", \"AMC2 Orano\", \"projet\", \"Janvier 2022\"]\n",
      "\n",
      "The reason for these keywords is that the report in question is a report from the CLIGEET on the AMC2 Orano project, and the information provided states that this report was published in January 2022. The French words \"report\" and \"projet\" are included because the titles of the reports are provided in French. The keyword \"AMC2 Orano\" is included to help narrow down the search to the report in question, since there are multiple CLIGEET reports listed. Finally, the keyword \"Janvier 2022\" is included because the question asks when the report was published, and this is the date provided in the information. . \n",
      "Retrying...\n",
      "Generated content is not list of strings : Based on the information provided, the keyword that is most relevant to answering the question is \"AMC2 Orano\". This project name is mentioned in the title of the report published by the CLIGEET in January 2022, which is the most recent report related to any project concerning the nuclear installations in the Tricastin or Romans sur Isère area. Therefore, the generated answer in JSON format would be:\n",
      "\n",
      "[\"AMC2 Orano\"] . \n",
      "Retrying...\n",
      "Generated content is not list of strings : [ \"CLIGEET\", \"projet AMC2 Orano\", \"rapport\", \"Janvier 2022\" ] . \n",
      "Retrying...\n"
     ]
    },
    {
     "name": "stderr",
     "output_type": "stream",
     "text": [
      "  9%|▉         | 7/79 [01:23<15:15, 12.71s/it]"
     ]
    },
    {
     "name": "stdout",
     "output_type": "stream",
     "text": [
      "Generated content is not list of strings : Based on the information provided, the keyword that can be used to find the answer to the question is \"AMC2 Orano\". A group of words can be helpful to find the report more precisely, but since only one keyword for each information is requested, we will only provide \"AMC2 Orano\".\n",
      "\n",
      "So, the JSON array of keywords is:\n",
      "\n",
      "[\n",
      "\"AMC2 Orano\"\n",
      "] . \n",
      "Retrying...\n",
      "Generated content is not list of strings : [ \"rôle des Commissions Locales d'Information\", \"suivi des installations nucléaires\", \"loi TSN\", \"instance de débat et de vigilance\", \"sûreté nucléaire\", \"radioprotection\", \"impact sur les personnes et l'environnement\", \"représentative des populations riveraines\", \"élus locaux\", \"associations environnementales\", \"experts\", \"représentants du monde économique\", \"règlement intérieur\" ] . \n",
      "Retrying...\n",
      "Generated content is not list of strings : [ \"rôle des Commissions Locales d'Information\", \"suivi des installations nucléaires\", \"loi Transparence et Sécurité Nucléaire\", \"mission générale de suivi\", \"sûreté nucléaire\", \"radioprotection\", \"impact sur les personnes et l'environnement\", \"représentative des populations riveraines\", \"débats et vigilance\" ] . \n",
      "Retrying...\n"
     ]
    },
    {
     "name": "stderr",
     "output_type": "stream",
     "text": [
      " 10%|█         | 8/79 [01:34<14:13, 12.03s/it]"
     ]
    },
    {
     "name": "stdout",
     "output_type": "stream",
     "text": [
      "Generated content is not list of strings : [ \"coût mensuel\", \"abonnement\", \"Drôme Téléassistance\" ] . \n",
      "Retrying...\n",
      "Generated content is not list of strings : [ \"coût\", \"mensuel\", \"abonnement\", \"Drôme Téléassistance\" ] . \n",
      "Retrying...\n"
     ]
    },
    {
     "name": "stderr",
     "output_type": "stream",
     "text": [
      " 11%|█▏        | 9/79 [01:37<11:02,  9.47s/it]"
     ]
    },
    {
     "name": "stdout",
     "output_type": "stream",
     "text": [
      "Generated content is not list of strings : Based on the information provided, the keywords that would help answer the question \"When did the Framatome nuclear safety exercise on March 1, 2023 take place?\" are:\n",
      "\n",
      "[`\"Exercice de sûreté nucléaire Framatome du 1er mars 2023\"`, `\"20232505-ap-cli-presentation-framatome\"`]\n",
      "\n",
      "These keywords correspond to the title of the presentation about the nuclear safety exercise that took place on March 1, 2023 in the \"Pleinière du 25 mai 2023\" section. . \n",
      "Retrying...\n"
     ]
    },
    {
     "name": "stderr",
     "output_type": "stream",
     "text": [
      " 13%|█▎        | 10/79 [01:46<10:33,  9.19s/it]"
     ]
    },
    {
     "name": "stdout",
     "output_type": "stream",
     "text": [
      "Generated content is not list of strings : [\n",
      "\"accompagner\",\n",
      "\"soutenir\",\n",
      "\"bibliothèques communales\",\n",
      "\"formation\",\n",
      "\"aide technique\",\n",
      "\"prêt de documents\",\n",
      "\"conseil aux élus\"\n",
      "] . \n",
      "Retrying...\n",
      "Generated content is not list of strings : [\n",
      "\"accompagner\",\n",
      "\"soutenir\",\n",
      "\"bibliothèques communales\",\n",
      "\"formation\",\n",
      "\"aide technique\",\n",
      "\"prêt de documents\",\n",
      "\"conseil aux élus\"\n",
      "] . \n",
      "Retrying...\n",
      "Generated content is not list of strings : [\n",
      "\"accompagner\",\n",
      "\"soutenir\",\n",
      "\"bibliothèques communales\",\n",
      "\"formation\",\n",
      "\"aide technique\",\n",
      "\"prêt de documents\",\n",
      "\"conseil aux élus\"\n",
      "] . \n",
      "Retrying...\n",
      "Generated content is not list of strings : [\n",
      "\"accompagner\",\n",
      "\"soutenir\",\n",
      "\"bibliothèques communales\",\n",
      "\"formation\",\n",
      "\"aide technique\",\n",
      "\"prêt de documents\",\n",
      "\"conseil aux élus\"\n",
      "] . \n",
      "Retrying...\n"
     ]
    },
    {
     "name": "stderr",
     "output_type": "stream",
     "text": [
      " 14%|█▍        | 11/79 [01:57<11:06,  9.81s/it]"
     ]
    },
    {
     "name": "stdout",
     "output_type": "stream",
     "text": [
      "Generated content is not list of strings : [\n",
      "\"accompagner\",\n",
      "\"soutenir\",\n",
      "\"bibliothèques communales\",\n",
      "\"formation\",\n",
      "\"aide technique\",\n",
      "\"prêt de documents\",\n",
      "\"conseil aux élus\"\n",
      "] . \n",
      "Retrying...\n"
     ]
    },
    {
     "name": "stderr",
     "output_type": "stream",
     "text": [
      " 15%|█▌        | 12/79 [02:02<09:19,  8.36s/it]"
     ]
    },
    {
     "name": "stdout",
     "output_type": "stream",
     "text": [
      "Generated content is not list of strings : [ \"SAMSAH\", \"missions\", \"adultes\", \"handicap\", \"accompagnement\" ] . \n",
      "Retrying...\n"
     ]
    },
    {
     "name": "stderr",
     "output_type": "stream",
     "text": [
      " 18%|█▊        | 14/79 [02:18<08:57,  8.27s/it]"
     ]
    },
    {
     "name": "stdout",
     "output_type": "stream",
     "text": [
      "Generated content is not list of strings : [ \"Résistance\", \"tragédie\", \"maquis\", \"massif du Vercors\", \"Vassieux-en-Vercors\", \"musée départemental de la Résistance\", \"nécropole des Pionniers du Vercors\", \"mémorial national de la Résistance\", \"col de La Chau\", \"grotte de la Luire\" ] . \n",
      "Retrying...\n",
      "Generated content is not list of strings : [ \"Résistance\", \"tragédie\", \"maquis\", \"massif du Vercors\", \"musée départemental de la Résistance\", \"Vassieux-en-Vercors\", \"compagnon de la Libération\", \"nécropole des Pionniers du Vercors\", \"mémorial national de la Résistance\", \"col de La Chau\" ] . \n",
      "Retrying...\n"
     ]
    },
    {
     "name": "stderr",
     "output_type": "stream",
     "text": [
      " 19%|█▉        | 15/79 [02:28<09:31,  8.93s/it]"
     ]
    },
    {
     "name": "stdout",
     "output_type": "stream",
     "text": [
      "Generated content is not list of strings : [ \"Services d'Aide et d'Accompagnement à Domicile\", \"SAAD\", \"prestations\", \"services ménagers\", \"aide à la personne\", \"aide à domicile\", \"tâches quotidiennes\", \"entretien\", \"courses\", \"préparation des repas\", \"accompagnement en promenade\", \"Prestation de Compensation du Handicap\", \"PCH\", \"aide sociale\", \"aide à domicile intervenant\", \"MDA – Drôme Solidarités\", \"avantages fiscaux et sociaux\" ] . \n",
      "Retrying...\n",
      "Generated content is not list of strings : [ \"Services d'Aide et d'Accompagnement à Domicile\", \"SAAD\", \"prestations\", \"services ménagers\", \"aide à la personne\", \"tâches quotidiennes d'entretien\", \"courses\", \"préparation des repas\", \"accompagnement en promenade\", \"Prestation de Compensation du Handicap\", \"PCH\", \"aide sociale\", \"avantages fiscaux et sociaux\", \"organismes d'aide à domicile\" ] . \n",
      "Retrying...\n",
      "Generated content is not list of strings : [ \"Services d'Aide et d'Accompagnement à Domicile\", \"SAAD\", \"prestations\", \"services ménagers\", \"aide à la personne\", \"aide à domicile\", \"tâches quotidiennes\", \"entretien\", \"courses\", \"préparation des repas\", \"accompagnement en promenade\", \"Prestation de Compensation du Handicap\", \"PCH\", \"aide sociale\", \"avantages fiscaux et sociaux\", \"organismes d'aide à domicile\" ] . \n",
      "Retrying...\n",
      "Generated content is not list of strings : [ \"Services d'Aide et d'Accompagnement à Domicile\", \"SAAD\", \"prestations\", \"services ménagers\", \"aide à la personne\", \"aide à domicile\", \"tâches quotidiennes\", \"entretien\", \"courses\", \"préparation des repas\", \"accompagnement en promenade\", \"Prestation de Compensation du Handicap\", \"PCH\", \"aide sociale\", \"avantages fiscaux\", \"sociaux\", \"organismes d'aide à domicile\" ] . \n",
      "Retrying...\n"
     ]
    },
    {
     "name": "stderr",
     "output_type": "stream",
     "text": [
      " 20%|██        | 16/79 [02:49<13:04, 12.45s/it]"
     ]
    },
    {
     "name": "stdout",
     "output_type": "stream",
     "text": [
      "Generated content is not list of strings : [ \"Services d'Aide et d'Accompagnement à Domicile\", \"SAAD\", \"prestations\", \"services ménagers\", \"aide à la personne\", \"tâches quotidiennes\", \"entretien\", \"courses\", \"préparation des repas\", \"accompagnement en promenade\", \"Prestation de Compensation du Handicap\", \"PCH\", \"aide sociale\", \"avantages fiscaux et sociaux\", \"organismes d'aide à domicile\" ] . \n",
      "Retrying...\n"
     ]
    },
    {
     "name": "stderr",
     "output_type": "stream",
     "text": [
      " 22%|██▏       | 17/79 [02:52<09:48,  9.50s/it]"
     ]
    },
    {
     "name": "stdout",
     "output_type": "stream",
     "text": [
      "Generated content is not list of strings : [\n",
      "\"tarif réduit\",\n",
      "\"visite guidée\"\n",
      "] . \n",
      "Retrying...\n",
      "Generated content is not list of strings : [ \"tarif réduit\", \"visite guidée\" ] . \n",
      "Retrying...\n",
      "Generated content is not list of strings : [ \"tarif réduit\", \"visite guidée\" ] . \n",
      "Retrying...\n",
      "Generated content is not list of strings : [\n",
      "\"tarif réduit\",\n",
      "\"visite guidée\"\n",
      "] . \n",
      "Retrying...\n"
     ]
    },
    {
     "name": "stderr",
     "output_type": "stream",
     "text": [
      " 23%|██▎       | 18/79 [03:03<10:13, 10.05s/it]"
     ]
    },
    {
     "name": "stdout",
     "output_type": "stream",
     "text": [
      "Generated content is not list of strings : [ \"tarif réduit\", \"visite guidée\" ] . \n",
      "Retrying...\n",
      "Generated content is not list of strings : [ \"Département\", \"formation\", \"obligatoire\", \"120 heures\", \"assistants maternels\", \"Drôme\" ] . \n",
      "Retrying...\n",
      "Generated content is not list of strings : [ \"Département\", \"formation\", \"obligatoire\", \"120 heures\", \"assistants maternels\", \"Drôme\" ] . \n",
      "Retrying...\n",
      "Generated content is not list of strings : [ \"Département\", \"formation\", \"obligatoire\", \"120 heures\", \"assistants maternels\", \"Drôme\" ] . \n",
      "Retrying...\n",
      "Generated content is not list of strings : [ \"Département\", \"formation\", \"obligatoire\", \"120 heures\", \"assistants maternels\", \"Drôme\" ] . \n",
      "Retrying...\n"
     ]
    },
    {
     "name": "stderr",
     "output_type": "stream",
     "text": [
      " 24%|██▍       | 19/79 [03:13<10:00, 10.01s/it]"
     ]
    },
    {
     "name": "stdout",
     "output_type": "stream",
     "text": [
      "Generated content is not list of strings : [ \"Département\", \"formation obligatoire\", \"120 hours\", \"assistants maternels\", \"Drôme\" ] . \n",
      "Retrying...\n"
     ]
    },
    {
     "name": "stderr",
     "output_type": "stream",
     "text": [
      " 25%|██▌       | 20/79 [03:21<09:18,  9.46s/it]"
     ]
    },
    {
     "name": "stdout",
     "output_type": "stream",
     "text": [
      "Generated content is not list of strings : [\n",
      "\"20€\",\n",
      "\"sport\",\n",
      "\"carte Top Dép’Art\"\n",
      "] . \n",
      "Retrying...\n",
      "Generated content is not list of strings : [\n",
      "\"20€\",\n",
      "\"sport\",\n",
      "\"carte Top Dép’Art\"\n",
      "] . \n",
      "Retrying...\n",
      "Generated content is not list of strings : [\n",
      "\"20€\",\n",
      "\"sport\",\n",
      "\"carte Top Dép’Art\"\n",
      "] . \n",
      "Retrying...\n",
      "Generated content is not list of strings : Based on the question and the information provided, the following keyword may be useful to find the answer:\n",
      "\n",
      "[\"sport\", \"carte Top Dép’Art\"]\n",
      "\n",
      "The keyword \"sport\" is directly mentioned in the question and is also a major category of the Top Dép’Art card. The keyword \"carte Top Dép’Art\" is included to ensure that we are referring to the correct card and its designated values. By searching for these keywords, one may be able to find information about the value of the \"sport\" category on the Top Dép'Art card. . \n",
      "Retrying...\n"
     ]
    },
    {
     "name": "stderr",
     "output_type": "stream",
     "text": [
      " 27%|██▋       | 21/79 [03:28<08:19,  8.61s/it]"
     ]
    },
    {
     "name": "stdout",
     "output_type": "stream",
     "text": [
      "Generated content is not list of strings : [\n",
      "\"20€\",\n",
      "\"sport\",\n",
      "\"carte Top Dép’Art\"\n",
      "] . \n",
      "Retrying...\n",
      "Generated content is not list of strings : [ \"médiathèques\", \"bibliothèques\", \"livres audio\", \"Drôme\" ] . \n",
      "Retrying...\n",
      "Generated content is not list of strings : [ \"médiathèques et bibliothèques\", \"livres audio\", \"Drôme\" ] . \n",
      "Retrying...\n",
      "Generated content is not list of strings : [ \"médiathèques\", \"bibliothèques\", \"livres audio\", \"Drôme\" ] . \n",
      "Retrying...\n",
      "Generated content is not list of strings : [ \"livres audio\", \"médiathèques\", \"bibliothèques\", \"Drôme\" ] . \n",
      "Retrying...\n"
     ]
    },
    {
     "name": "stderr",
     "output_type": "stream",
     "text": [
      " 28%|██▊       | 22/79 [03:43<09:59, 10.52s/it]"
     ]
    },
    {
     "name": "stdout",
     "output_type": "stream",
     "text": [
      "Generated content is not list of strings : [ \"médiathèques\", \"bibliothèques\", \"livres audio\", \"Drôme\" ] . \n",
      "Retrying...\n",
      "Generated content is not list of strings : [{\"text\":\"Budget Participatif\", \"matching_positions\":[0,14]},\n",
      "{\"text\":\"Drôme\", \"matching_positions\":[55,59]},\n",
      "{\"text\":\"habitant\", \"matching_positions\":[71,77]},\n",
      "{\"text\":\"étudiant drômois\", \"matching_positions\":[80,95]}] . \n",
      "Retrying...\n"
     ]
    },
    {
     "name": "stderr",
     "output_type": "stream",
     "text": [
      " 30%|███       | 24/79 [03:58<07:59,  8.73s/it]"
     ]
    },
    {
     "name": "stdout",
     "output_type": "stream",
     "text": [
      "Generated content is not list of strings : [ \"Carte\", \"véloroutes\", \"voies vertes\", \"Drome\" ] . \n",
      "Retrying...\n",
      "Generated content is not list of strings : [ \"Carte\", \"véloroutes\", \"voies vertes\", \"Drome\" ] . \n",
      "Retrying...\n",
      "Generated content is not list of strings : [ \"Carte\", \"véloroutes\", \"voies vertes\", \"Drome\" ] . \n",
      "Retrying...\n",
      "Generated content is not list of strings : [ \"Carte\", \"véloroutes\", \"voies vertes\", \"Drome\" ] . \n",
      "Retrying...\n"
     ]
    },
    {
     "name": "stderr",
     "output_type": "stream",
     "text": [
      " 32%|███▏      | 25/79 [04:13<09:26, 10.49s/it]"
     ]
    },
    {
     "name": "stdout",
     "output_type": "stream",
     "text": [
      "Generated content is not list of strings : [\n",
      "\"séances publiques\",\n",
      "\"Valence\",\n",
      "\"Conseil départemental de la Drôme\",\n",
      "\"Salle Marius Moutet\"\n",
      "] . \n",
      "Retrying...\n",
      "Generated content is not list of strings : [{\"text\":\"séances publiques\", \"weight\":1.0}, {\"text\":\"Valence\", \"weight\":0.5}, {\"text\":\"Hôtel du Département\", \"weight\":0.5}] . \n",
      "Retrying...\n",
      "Generated content is not list of strings : [{\"text\": \"séances publiques\", \"confidence\": 0.9}, {\"text\": \"Valence\", \"confidence\": 0.7}, {\"text\": \"Hôtel du Département\", \"confidence\": 0.6}]\n",
      "\n",
      "The keywords that can be used to answer the question are:\n",
      "- \"séances publiques\" which is explicitly stated in the question and is the main subject.\n",
      "- \"Valence\" is the location where the Drôme Department's building is located.\n",
      "- \"Hôtel du Département\" is the name of the building where the public sessions take place.\n",
      "\n",
      "The \"confidence\" value is an arbitrary score I assign to the keywords, which reflects how crucial the keyword is in the answer. This value can vary based on the granularity of your application and how well it understands the input. . \n",
      "Retrying...\n",
      "Generated content is not list of strings : [{\"seances publiques\"}, {\"Hôtel du Département\"}, {\"Valence\"}] . \n",
      "Retrying...\n"
     ]
    },
    {
     "name": "stderr",
     "output_type": "stream",
     "text": [
      " 33%|███▎      | 26/79 [04:24<09:29, 10.75s/it]"
     ]
    },
    {
     "name": "stdout",
     "output_type": "stream",
     "text": [
      "Generated content is not list of strings : [\n",
      "\"séances publiques\",\n",
      "\"Valence\",\n",
      "\"Conseil départemental de la Drôme\",\n",
      "\"Hôtel du Département\",\n",
      "\"Salle Marius Moutet\"\n",
      "]\n",
      "\n",
      "These keywords are the most relevant to answer the question, as they directly refer to the location of the public sessions. . \n",
      "Retrying...\n",
      "Generated content is not list of strings : [\n",
      "\"Déploiement\",\n",
      "\"fibre optique\",\n",
      "\"hors\",\n",
      "\"Orange\",\n",
      "\"syndicat mixte Ardèche Drôme Numérique\"\n",
      "] . \n",
      "Retrying...\n",
      "Generated content is not list of strings : [\n",
      "\"Déploiement\",\n",
      "\"fibre optique\",\n",
      "\"hors\",\n",
      "\"Orange\",\n",
      "\"Ardèche Drôme Numérique\"\n",
      "] . \n",
      "Retrying...\n",
      "Generated content is not list of strings : [\n",
      "\"Déploiement\",\n",
      "\"fibre optique\",\n",
      "\"zones non couvertes\",\n",
      "\"Orange\",\n",
      "\"syndicat mixte Ardèche Drôme Numérique\"\n",
      "] . \n",
      "Retrying...\n",
      "Generated content is not list of strings : [\n",
      "\"Déploiement\",\n",
      "\"fibre optique\",\n",
      "\"hors\",\n",
      "\"Orange\",\n",
      "\"syndicat mixte Ardèche Drôme Numérique\"\n",
      "] . \n",
      "Retrying...\n"
     ]
    },
    {
     "name": "stderr",
     "output_type": "stream",
     "text": [
      " 34%|███▍      | 27/79 [04:35<09:24, 10.85s/it]"
     ]
    },
    {
     "name": "stdout",
     "output_type": "stream",
     "text": [
      "Generated content is not list of strings : [\n",
      "\"Déploiement\",\n",
      "\"fibre optique\",\n",
      "\"hors\",\n",
      "\"Orange\",\n",
      "\"Ardèche Drôme Numérique\"\n",
      "] . \n",
      "Retrying...\n",
      "Generated content is not list of strings : [ \"téléphone\", \"MDA\", \"04 75 79 70 09\", \"Du lundi au vendredi\", \"de 9h à 12h30 et de 13h30 à 17h\", \"fermeture le jeudi après-midi\" ] . \n",
      "Retrying...\n",
      "Generated content is not list of strings : [\n",
      "\"Tel\",\n",
      "\"04 75 79 70 09\",\n",
      "\"Du lundi au vendredi\",\n",
      "\"De 9h à 12h30 et de 13h30 à 17h\",\n",
      "\"Fermeture le jeudi après-midi\"\n",
      "] . \n",
      "Retrying...\n",
      "Generated content is not list of strings : [\n",
      "\"Tel\",\n",
      "\"04 75 79 70 09\",\n",
      "\"Du lundi au vendredi\",\n",
      "\"De 9h à 12h30 et de 13h30 à 17h\",\n",
      "\"Fermeture le jeudi après-midi\"\n",
      "] . \n",
      "Retrying...\n",
      "Generated content is not list of strings : [{\"telephone\"}, {\"MDA\"}, {\"Du lundi au vendredi\"}, {\"de 9h à 12h30 et de 13h30 à 17h\"}, {\"fermeture le jeudi après-midi\"}, {\"04 75 79 70 09\"}] . \n",
      "Retrying...\n"
     ]
    },
    {
     "name": "stderr",
     "output_type": "stream",
     "text": [
      " 35%|███▌      | 28/79 [04:49<09:53, 11.63s/it]"
     ]
    },
    {
     "name": "stdout",
     "output_type": "stream",
     "text": [
      "Generated content is not list of strings : [« Téléphone », »04 75 79 70 09 », »Du lundi au vendredi », »De 9h à 12h30 et de 13h30 à 17h », »Fermeture le jeudi après-midi »] . \n",
      "Retrying...\n",
      "Generated content is not list of strings : [ \"marchés publics\", \"Département de la Drôme\", \"www.marcel26.fr\" ] . \n",
      "Retrying...\n",
      "Generated content is not list of strings : [ \"marchés publics\", \"Département de la Drôme\", \"www.marcel26.fr\" ] . \n",
      "Retrying...\n",
      "Generated content is not list of strings : [ \"marchés publics\", \"Département de la Drôme\", \"www.marcel26.fr\" ] . \n",
      "Retrying...\n",
      "Generated content is not list of strings : [ \"marchés publics\", \"Département de la Drôme\", \"www.marcel26.fr\" ] . \n",
      "Retrying...\n"
     ]
    },
    {
     "name": "stderr",
     "output_type": "stream",
     "text": [
      " 37%|███▋      | 29/79 [05:00<09:37, 11.55s/it]"
     ]
    },
    {
     "name": "stdout",
     "output_type": "stream",
     "text": [
      "Generated content is not list of strings : [ \"marchés publics\", \"Département de la Drôme\", \"www.marcel26.fr\" ] . \n",
      "Retrying...\n",
      "Generated content is not list of strings : [ \"Charte d'utilisation\", \"logotype\", \"Département de la Drôme\" ] would be the keywords allowing to answer the question. These keywords are present in the hyperlink associated with the text \"Charte d'utilisation du logotype du Département de la Drôme\", which is the recommended resource to answer the question. . \n",
      "Retrying...\n",
      "Generated content is not list of strings : [ \"Charte d'utilisation du logotype du Département de la Drôme\", \"télécharger\" ] . \n",
      "Retrying...\n",
      "Generated content is not list of strings : [ \"Charte d'utilisation\", \"logotype\", \"Département de la Drôme\" ] . \n",
      "Retrying...\n",
      "Generated content is not list of strings : [ \"Charte d'utilisation du logotype du Département de la Drôme\", \"télécharger\" ] . \n",
      "Retrying...\n"
     ]
    },
    {
     "name": "stderr",
     "output_type": "stream",
     "text": [
      " 38%|███▊      | 30/79 [05:16<10:35, 12.98s/it]"
     ]
    },
    {
     "name": "stdout",
     "output_type": "stream",
     "text": [
      "Generated content is not list of strings : [ \"Charte d'utilisation\", \"logotype\", \"Département de la Drôme\" ] . \n",
      "Retrying...\n",
      "Generated content is not list of strings : [ \"pour les 5èmes, 4èmes et 3èmes\", \"qui ont déjà leur carte Top Dép'Art\", \"leur établissement scolaire se charge de renouveler leurs droits\" ] . \n",
      "Retrying...\n",
      "Generated content is not list of strings : [ \"pour les 5èmes\", \"pour les 4èmes et 3èmes\", \"qui ont déjà leur carte Top Dép'Art\", \"leur établissement scolaire se charge de renouveler leurs droits\" ] . \n",
      "Retrying...\n"
     ]
    },
    {
     "name": "stderr",
     "output_type": "stream",
     "text": [
      " 39%|███▉      | 31/79 [05:21<08:31, 10.66s/it]"
     ]
    },
    {
     "name": "stdout",
     "output_type": "stream",
     "text": [
      "Generated content is not list of strings : [\n",
      "\"Département\",\n",
      "\"soutient\",\n",
      "\"plus de 200 associations sportives locales\"\n",
      "] . \n",
      "Retrying...\n",
      "Generated content is not list of strings : [\n",
      "\"Département\",\n",
      "\"plus de 200 associations sportives locales\"\n",
      "] . \n",
      "Retrying...\n",
      "Generated content is not list of strings : [\n",
      "\"Département\",\n",
      "\"plus de 200 associations sportives locales\"\n",
      "] . \n",
      "Retrying...\n",
      "Generated content is not list of strings : [\n",
      "\"Département\",\n",
      "\"200 associations sportives locales\"\n",
      "] . \n",
      "Retrying...\n"
     ]
    },
    {
     "name": "stderr",
     "output_type": "stream",
     "text": [
      " 41%|████      | 32/79 [05:30<07:48,  9.96s/it]"
     ]
    },
    {
     "name": "stdout",
     "output_type": "stream",
     "text": [
      "Generated content is not list of strings : [\n",
      "\"Département\",\n",
      "\"plus de 200 associations sportives locales\"\n",
      "] . \n",
      "Retrying...\n",
      "Generated content is not list of strings : [ \"reglement\", \"budget participatif\", \"https://budgetparticipatif.ladrome.fr/pages/reglement\" ] . \n",
      "Retrying...\n",
      "Generated content is not list of strings : [ \"Budget Participatif\", \"reglement complet\", \"https://budgetparticipatif.ladrome.fr/pages/reglement\" ] . \n",
      "Retrying...\n",
      "Generated content is not list of strings : [ \"Budget Participatif\", \"reglement complet\", \"https://budgetparticipatif.ladrome.fr/pages/reglement\" ] . \n",
      "Retrying...\n",
      "Generated content is not list of strings : [ \"Budget Participatif\", \"reglement complet\", \"https://budgetparticipatif.ladrome.fr/pages/reglement\" ] . \n",
      "Retrying...\n"
     ]
    },
    {
     "name": "stderr",
     "output_type": "stream",
     "text": [
      " 43%|████▎     | 34/79 [05:51<07:32, 10.06s/it]"
     ]
    },
    {
     "name": "stdout",
     "output_type": "stream",
     "text": [
      "Generated content is not list of strings : [ \"flamme olympique\", \"dernier ville\", \"notre département\", \"20 juin 2 . \n",
      "Retrying...\n",
      "Generated content is not list of strings : [ \"flamme olympique\", \"dernier ville\", \"traversée\", \"Département\", \"20 juin 2024\" ]\n",
      "\n",
      "Explanation: The keywords allowing to answer the question are \"last city\", \"olympic flame\", \"pass through\", \"our department\" which translates to \"dernière ville\", \"flamme olympique\", \"traversée\", \"Département\" in French, along with the specific date of the event mentioned in the information. Therefore, the generated answer must include these keywords in a JSON array with string keywords, AND ONLY THAT. . \n",
      "Retrying...\n",
      "Generated content is not list of strings : [ \"flamme olympique\", \"dernier ville\", \"notre département\", \"20 juin 2 . \n",
      "Retrying...\n",
      "Generated content is not list of strings : [ \"flamme olympique\", \"notre département\", \"dernière ville\", \"20 juin 2024\" , \"Sept étapes\" , \"Valence\" ] \n",
      "\n",
      "The keywords are \"Valence\" as it is the last city the flame will pass through, \"flamme olympique\" and \"notre département\" to specify the context, \"dernière ville\" and \"Sept étapes\" to indicate it is the last city of the 7 step tour, and \"20 juin 2024\" as the date when the flame will pass through the department. . \n",
      "Retrying...\n"
     ]
    },
    {
     "name": "stderr",
     "output_type": "stream",
     "text": [
      " 44%|████▍     | 35/79 [06:04<07:51, 10.73s/it]"
     ]
    },
    {
     "name": "stdout",
     "output_type": "stream",
     "text": [
      "Generated content is not list of strings : [ \"flamme olympique\", \"passage dans notre département\", \"dernière ville\", \"Valence\" ] . \n",
      "Retrying...\n"
     ]
    },
    {
     "name": "stderr",
     "output_type": "stream",
     "text": [
      " 46%|████▌     | 36/79 [06:08<06:22,  8.90s/it]"
     ]
    },
    {
     "name": "stdout",
     "output_type": "stream",
     "text": [
      "Generated content is not list of strings : [ \"Délégué du Défenseur des droits\", \"sa région\" ] . \n",
      "Retrying...\n",
      "Generated content is not list of strings : [ \"Délégué du Défenseur des droits\", \"votre région\" ] . \n",
      "Retrying...\n",
      "Generated content is not list of strings : [ \"Délégué du Défenseur des droits\", \"sa région\" ] . \n",
      "Retrying...\n",
      "Generated content is not list of strings : [ \"Délégué du Défenseur des droits\", \"sa région\" ] . \n",
      "Retrying...\n"
     ]
    },
    {
     "name": "stderr",
     "output_type": "stream",
     "text": [
      " 47%|████▋     | 37/79 [06:19<06:44,  9.63s/it]"
     ]
    },
    {
     "name": "stdout",
     "output_type": "stream",
     "text": [
      "Generated content is not list of strings : [ \"Délégué du Défenseur des droits\", \"sa région\" ] . \n",
      "Retrying...\n",
      "Generated content is not list of strings : [ \"Conseil Départemental des Jeunes\", \"commissions\", \"projets citoyens\", \"santé\", \"mieux être au collège\", \"égalité filles-garçons\", \"culture\", \"sport\", \"environnement\" ] . \n",
      "Retrying...\n",
      "Generated content is not list of strings : [ \"Conseil Départemental des Jeunes\", \"commissions\", \"élus\", \"collégiens\", \"projets citoyens\", \"santé\", \"mieux être au collège\", \"égalité filles-garçons\", \"culture\", \"sport\", \"environnement\" ] . \n",
      "Retrying...\n",
      "Generated content is not list of strings : [ \"Conseil Départemental des Jeunes\", \"commissions\", \"CDJ\", \"santé\", \"mieux être au collège\", \"égalité filles-garçons\", \"culture\", \"sport\", \"environnement\" ] . \n",
      "Retrying...\n",
      "Generated content is not list of strings : [ \"Conseil Départemental des Jeunes\", \"commissions\", \"élus\", \"projets citoyens\", \"santé\", \"mieux être au collège\", \"égalité filles-garçons\", \"culture\", \"sport\", \"environnement\" ] . \n",
      "Retrying...\n"
     ]
    },
    {
     "name": "stderr",
     "output_type": "stream",
     "text": [
      " 48%|████▊     | 38/79 [06:28<06:21,  9.31s/it]"
     ]
    },
    {
     "name": "stdout",
     "output_type": "stream",
     "text": [
      "Generated content is not list of strings : [ \"Conseil Départemental des Jeunes\", \"commissions\", \"sdquote;proposant des projets citoyensdquote;\" ] . \n",
      "Retrying...\n",
      "Generated content is not list of strings : [« Centres de Santé Sexuelle », « CSS », « planification familiale », « carte », « trouver », « proche de chez soi »] . \n",
      "Retrying...\n",
      "Generated content is not list of strings : [ \"Centres de Santé Sexuelle\", \"CSS\", \"proche\", \"de chez soi\" ] . \n",
      "Retrying...\n",
      "Generated content is not list of strings : [« Centres de Santé Sexuelle », « CSS », « planification familiale », « carte », « médecins », « sages-femmes », « conseillères conjugales »] . \n",
      "Retrying...\n",
      "Generated content is not list of strings : [« Centres de Santé Sexuelle », « CSS », « trouver », « proche », « chez soi »] . \n",
      "Retrying...\n"
     ]
    },
    {
     "name": "stderr",
     "output_type": "stream",
     "text": [
      " 49%|████▉     | 39/79 [06:37<06:12,  9.30s/it]"
     ]
    },
    {
     "name": "stdout",
     "output_type": "stream",
     "text": [
      "Generated content is not list of strings : [« Centres de Santé Sexuelle », « CSS », « planification familiale », « carte », « médecins », « sages-femmes », « conseillères conjugales »] . \n",
      "Retrying...\n"
     ]
    },
    {
     "name": "stderr",
     "output_type": "stream",
     "text": [
      " 52%|█████▏    | 41/79 [06:47<04:36,  7.28s/it]"
     ]
    },
    {
     "name": "stdout",
     "output_type": "stream",
     "text": [
      "Generated content is not list of strings : [\n",
      "\"logement social\",\n",
      "\"numéro départemental d'enregistrement\",\n",
      "\"demande de logement HLM\",\n",
      "\"numéro unique\",\n",
      "\"organisme d'HLM\",\n",
      "\"bailleurs\",\n",
      "\"dépôt de dossier\",\n",
      "\"formulaire demande de logement social\"\n",
      "] . \n",
      "Retrying...\n",
      "Generated content is not list of strings : [\n",
      "\"logement social\",\n",
      "\"numéro départemental d'enregistrement\",\n",
      "\"demande de logement HLM\",\n",
      "\"numéro unique\",\n",
      "\"organisme d'HLM\",\n",
      "\"bailleurs\",\n",
      "\"déposer un dossier\"\n",
      "] . \n",
      "Retrying...\n",
      "Generated content is not list of strings : [\n",
      "\"logement social\",\n",
      "\"numéro départemental d'enregistrement\",\n",
      "\"demande de logement HLM\",\n",
      "\"numéro unique\",\n",
      "\"organisme d'HLM\",\n",
      "\"déposer un dossier complet\",\n",
      "\"bailleurs\"\n",
      "] . \n",
      "Retrying...\n",
      "Generated content is not list of strings : [\n",
      "\"numéro départemental d'enregistrement\",\n",
      "\"demande de logement HLM\",\n",
      "\"numéro unique\",\n",
      "\"organisme d'HLM\",\n",
      "\"déposer un dossier\",\n",
      "\"bailleurs\",\n",
      "\"logement social\"\n",
      "] . \n",
      "Retrying...\n"
     ]
    },
    {
     "name": "stderr",
     "output_type": "stream",
     "text": [
      " 53%|█████▎    | 42/79 [06:59<05:18,  8.60s/it]"
     ]
    },
    {
     "name": "stdout",
     "output_type": "stream",
     "text": [
      "Generated content is not list of strings : [\n",
      "\"logement social\",\n",
      "\"numéro départemental d'enregistrement\",\n",
      "\"demande de logement HLM\",\n",
      "\"numéro unique\",\n",
      "\"organisme d'HLM\",\n",
      "\"bailleurs\",\n",
      "\"dossier complet\"\n",
      "] . \n",
      "Retrying...\n"
     ]
    },
    {
     "name": "stderr",
     "output_type": "stream",
     "text": [
      " 56%|█████▌    | 44/79 [07:09<04:01,  6.91s/it]"
     ]
    },
    {
     "name": "stdout",
     "output_type": "stream",
     "text": [
      "Generated content is not list of strings : [ \"Département\", \"formation\", \"obligatoire\", \"120 heures\", \"assistants maternels\", \"Drôme\" ] . \n",
      "Retrying...\n",
      "Generated content is not list of strings : [ \"Département\", \"formation\", \"obligatoire\", \"120 heures\", \"assistants maternels\", \"Drôme\" ] . \n",
      "Retrying...\n",
      "Generated content is not list of strings : [ \"Département\", \"formation\", \"obligatoire\", \"120 heures\", \"assistants maternels\", \"Drôme\" ] . \n",
      "Retrying...\n",
      "Generated content is not list of strings : [ \"Département\", \"formation\", \"obligatoire\", \"120 hours\", \"assistants maternels\", \"Drôme\" ] . \n",
      "Retrying...\n"
     ]
    },
    {
     "name": "stderr",
     "output_type": "stream",
     "text": [
      " 57%|█████▋    | 45/79 [07:20<04:36,  8.13s/it]"
     ]
    },
    {
     "name": "stdout",
     "output_type": "stream",
     "text": [
      "Generated content is not list of strings : [ \"(120 heures)\", \"assistants maternels\", \"Département\", \"Drôme\" ] \n",
      "\n",
      "The assistant maternal's mandatory 120-hour formation is dispensed by the Department of Drôme. . \n",
      "Retrying...\n",
      "Generated content is not list of strings : [« numéro de téléphone », « maltraitance », « adulte vulnérable »] . \n",
      "Retrying...\n",
      "Generated content is not list of strings : [ \"numéro\", \"téléphone\", \"maltraitance\", \"adulte\", \"vulnérable\" ] . \n",
      "Retrying...\n",
      "Generated content is not list of strings : [ \"numéro\", \"téléphone\", \"maltraitance\", \"adulte\", \"vulnérable\" ] . \n",
      "Retrying...\n",
      "Generated content is not list of strings : [ \"numéro de téléphone\", \"maltraitance\", \"adulte vulnérable\" ] . \n",
      "Retrying...\n"
     ]
    },
    {
     "name": "stderr",
     "output_type": "stream",
     "text": [
      " 58%|█████▊    | 46/79 [07:35<05:31, 10.06s/it]"
     ]
    },
    {
     "name": "stdout",
     "output_type": "stream",
     "text": [
      "Generated content is not list of strings : [ \"numéro\", \"téléphone\", \"maltraitance\", \"adulte\", \"vulnérable\" ] . \n",
      "Retrying...\n",
      "Generated content is not list of strings : [\",Mail, musee-resistance-vassieux@ladrome.fr\" ] . \n",
      "Retrying...\n"
     ]
    },
    {
     "name": "stderr",
     "output_type": "stream",
     "text": [
      " 59%|█████▉    | 47/79 [07:37<04:10,  7.83s/it]"
     ]
    },
    {
     "name": "stdout",
     "output_type": "stream",
     "text": [
      "Generated content is not list of strings : [« Association Départementale d’Information sur le Logement », « conseils juridiques gratuits », « location », « Valence », « Drôme »] . \n",
      "Retrying...\n",
      "Generated content is not list of strings : [« Association Départementale d’Information sur le Logement », « conseils juridiques gratuits », « location », « Valence », « Drôme »] . \n",
      "Retrying...\n",
      "Generated content is not list of strings : [« Association Départementale d’Information sur le Logement », « conseils juridiques gratuits », « location », « Valence », « Drôme »] . \n",
      "Retrying...\n",
      "Generated content is not list of strings : [ \"Association Départementale d’Information sur le Logement\", \"conseils juridiques gratuits\", \"Valence\", \"Drome\" ] . \n",
      "Retrying...\n"
     ]
    },
    {
     "name": "stderr",
     "output_type": "stream",
     "text": [
      " 61%|██████    | 48/79 [07:55<05:30, 10.66s/it]"
     ]
    },
    {
     "name": "stdout",
     "output_type": "stream",
     "text": [
      "Generated content is not list of strings : [« Association Départementale d’Information sur le Logement », « conseils juridiques gratuits », « location », « Valence », « Drôme »] . \n",
      "Retrying...\n",
      "Generated content is not list of strings : [ \"Mission numérique\", \"Département\", \"Le Moulin Digital\", \"tiers-lieux\", \"numérique\", \"association\" ] . \n",
      "Retrying...\n"
     ]
    },
    {
     "name": "stderr",
     "output_type": "stream",
     "text": [
      " 63%|██████▎   | 50/79 [08:07<04:02,  8.35s/it]"
     ]
    },
    {
     "name": "stdout",
     "output_type": "stream",
     "text": [
      "Generated content is not list of strings : [ \"satellite\", \"très haut débit\", \" alternatives\", \"fibre optique\", \"Drômois\" ]\n",
      "\n",
      "These keywords are the most relevant to answer the question, as they refer to the solution proposed (satellite and very high speed) as an alternative for the Drômois while waiting for the arrival of the fiber optic. . \n",
      "Retrying...\n"
     ]
    },
    {
     "name": "stderr",
     "output_type": "stream",
     "text": [
      " 65%|██████▍   | 51/79 [08:13<03:36,  7.72s/it]"
     ]
    },
    {
     "name": "stdout",
     "output_type": "stream",
     "text": [
      "Generated content is not list of strings : [“Département”, “agréer”, “postulants”, “adoption”, “9 months”] . \n",
      "Retrying...\n"
     ]
    },
    {
     "name": "stderr",
     "output_type": "stream",
     "text": [
      " 66%|██████▌   | 52/79 [08:16<02:50,  6.31s/it]"
     ]
    },
    {
     "name": "stdout",
     "output_type": "stream",
     "text": [
      "Generated content is not list of strings : [ \"aide à l'investissement\", \"immobilier d'entreprise\", \"développement foncier d'entreprise\", \"équipements économiques structurants\", \"SIAA\" ] . \n",
      "Retrying...\n",
      "Generated content is not list of strings : [ \"aide à l'investissement\", \"immobilier d'entreprises\", \"développement foncier d'entreprise\", \"SIAA\", \"économie solidaire de proximité\" ] . \n",
      "Retrying...\n",
      "Generated content is not list of strings : [ \"aide à l'investissement\", \"offre foncière optimale\", \"immobilier d'entreprises\", \"développement foncier d'entreprise\", \"équipements économiques structurants\", \"zones d'activités économiques\" ] . \n",
      "Retrying...\n",
      "Generated content is not list of strings : [ \"aide à l'investissement\", \"immobilier d'entreprise\", \"développement foncier d'entreprise\", \"équipements économiques structurants\", \"SIAA\" ] . \n",
      "Retrying...\n"
     ]
    },
    {
     "name": "stderr",
     "output_type": "stream",
     "text": [
      " 67%|██████▋   | 53/79 [08:29<03:31,  8.15s/it]"
     ]
    },
    {
     "name": "stdout",
     "output_type": "stream",
     "text": [
      "Generated content is not list of strings : [ \"aide à l'investissement\", \"implantation d'entreprise\", \"foncière optimale\", \"aide à l'immobilier d'entreprise\", \"développement foncier d'entreprise\", \"équipements économiques structurants\", \"zones d'activités économiques\" ] . \n",
      "Retrying...\n",
      "Generated content is not list of strings : [« Allocation Personnalisée Autonomie », « Département », « personnes âgées », « vivant à domicile »] . \n",
      "Retrying...\n",
      "Generated content is not list of strings : [\\\"Allocation Personnalisée Autonomie (APA)\\\", \\\"Département\\\", \\\"personnes âgées\\\", \\\"plus de 60 years old\\\", \\\"domicile\\\", \\\"Maison Départementale de l’Autonomie\\\", \\\"demande d’APA\\\", \\\"CCAS\\\", \\\"CIAS\\\", \\\"mairie\\\"] . \n",
      "Retrying...\n",
      "Generated content is not list of strings : [\t\"Allocation Personnalisée Autonomie\",\n",
      "\"APA\",\n",
      "\"Département\",\n",
      "\"personnes âgées\",\n",
      "\"plus de 60 ans\",\n",
      "\"vivant à domicile\",\n",
      "\"dossier de demande d’APA\",\n",
      "\"Centre Communal (CCAS)\",\n",
      "\"CIAS\",\n",
      "\"Maison Départementale de l’Autonomie\"\n",
      "] . \n",
      "Retrying...\n",
      "Generated content is not list of strings : [“Allocation Personnalisée Autonomie”, “APA”, “Département”, “personnes âgées”, “plus de 60 years old”, “domicile”] . \n",
      "Retrying...\n"
     ]
    },
    {
     "name": "stderr",
     "output_type": "stream",
     "text": [
      " 68%|██████▊   | 54/79 [08:40<03:44,  8.98s/it]"
     ]
    },
    {
     "name": "stdout",
     "output_type": "stream",
     "text": [
      "Generated content is not list of strings : [« Allocation Personnalisée Autonomie », « APA », « Département », « personnes âgées », « vivant à domicile »] . \n",
      "Retrying...\n",
      "Generated content is not list of strings : [« Allocation Personnalisée Autonomie », « Département », « personnes âgées », « plus de 60 ans », « vivant à domicile »] . \n",
      "Retrying...\n",
      "Generated content is not list of strings : [„Allocation Personnalisée Autonomie“, „APA“, „Département“, „personnes âgées“, „plus de 60 ans“] . \n",
      "Retrying...\n",
      "Generated content is not list of strings : [“Allocation Personnalisée Autonomie (APA)”, “Département”, “personnes âgées”, “plus de 60 years old”] . \n",
      "Retrying...\n",
      "Generated content is not list of strings : [“Allocation Personnalisée Autonomie”, “APA”, “Département”, “personnes âgées”, “plus de 60 years old”] . \n",
      "Retrying...\n"
     ]
    },
    {
     "name": "stderr",
     "output_type": "stream",
     "text": [
      " 70%|██████▉   | 55/79 [08:51<03:54,  9.77s/it]"
     ]
    },
    {
     "name": "stdout",
     "output_type": "stream",
     "text": [
      "Generated content is not list of strings : [« Allocation Personnalisée Autonomie », « Département », « personnes âgées », « plus de 60 ans », « vivant à domicile »] . \n",
      "Retrying...\n",
      "Generated content is not list of strings : [ \"Centres Médico-Psychologiques\", \"soins\", \"souffrance psychique\" ] . \n",
      "Retrying...\n",
      "Generated content is not list of strings : [ \"Centres Médico-Psychologiques (CMP)\", \"soins\", \"personnes\", \"souffrance\", \"psychique\" ] . \n",
      "Retrying...\n",
      "Generated content is not list of strings : [ \"Centres Médico-Psychologiques (CMP)\", \"personnes en souffrance psychique\" ] . \n",
      "Retrying...\n",
      "Generated content is not list of strings : [ \"Centres Medico-Psychologiques\", \"soins\", \"personnes\", \"souffrance\", \"psychique\" ] . \n",
      "Retrying...\n"
     ]
    },
    {
     "name": "stderr",
     "output_type": "stream",
     "text": [
      " 71%|███████   | 56/79 [09:05<04:08, 10.82s/it]"
     ]
    },
    {
     "name": "stdout",
     "output_type": "stream",
     "text": [
      "Generated content is not list of strings : [ \"Centres Medico-Psychologiques\", \"soins\", \"souffrance psychique\" ],\n",
      "User's question is asking for centers that offer \"soins\" (care) for people suffering from \"souffrance psychique\" (psychological distress), and the relevant information is provided for \"Centres Medico-Psychologiques (CMP )\", which are described as offering a \"offre de soins\" (an offer of care) for \"les personnes en souffrance psychique\" (people in psychological distress). . \n",
      "Retrying...\n",
      "Generated content is not list of strings : [ \"prendre rendez-vous\", \"04 75 79 70 09\", \"Maison Départementale de l’Autonomie\" ] . \n",
      "Retrying...\n",
      "Generated content is not list of strings : [ \"prendre rendez-vous\", \"04 75 79 70 09\", \"Maison Départementale de l’Autonomie\" ] . \n",
      "Retrying...\n",
      "Generated content is not list of strings : [[\"MDA\", \"rendez-vous\", \"téléphonique\"】](http://mda,%20rendez-vous,%20téléphonique%E3%80%8C) . \n",
      "Retrying...\n",
      "Generated content is not list of strings : [ \"prendre rendez-vous\", \"04 75 79 70 09\", \"Maison Départementale de l’Autonomie\" ] . \n",
      "Retrying...\n"
     ]
    },
    {
     "name": "stderr",
     "output_type": "stream",
     "text": [
      " 72%|███████▏  | 57/79 [09:27<05:13, 14.24s/it]"
     ]
    },
    {
     "name": "stdout",
     "output_type": "stream",
     "text": [
      "Generated content is not list of strings : [[\"MDA\", \"rendez-vous\", \"téléphonique\"], [\"Parc de Lautagne\", \"horaires\", \"contact\"], [\"accueil physique\", \"adresse\", \"coordonnées\"]]\n",
      "\n",
      "For this question, I have generated three keyword arrays as it is optional and there can be multiple relevant keyword sets.\n",
      "\n",
      "1. \"MDA\", \"rendez-vous\", \"téléphonique\" : This set focuses on the core question of making an appointment at the MDA, emphasizing both \"rendez-vous\" (appointment) and \"téléphonique\" (telephone), as it is recommended to book appointments via phone.\n",
      "2. \"Parc de Lautagne\", \"horaires\", \"contact\" : This set is more about gathering the MDA's opening hours and contact details, which can help users to reach out and schedule an appointment.\n",
      "3. \"accueil physique\", \"adresse\", \"coordonnées\" : This set contains relevant keywords that allow users to find the MDA location and have a physical appointment if necessary.\n",
      "\n",
      "These keyword sets aim to help NLP systems or users find, interpret, and extract information effectively from the provided text. . \n",
      "Retrying...\n",
      "Generated content is not list of strings : [ \"Carte Mobilité Inclusion\", \"MDA\", \"attributions\" ] . \n",
      "Retrying...\n",
      "Generated content is not list of strings : [ \"Carte Mobilité Inclusion\", \"MDA\", \"conditions d'attributions\" ] . \n",
      "Retrying...\n",
      "Generated content is not list of strings : [ \"Carte Mobilité Inclusion\", \"MDA\", \"conditions d'attributions\" ] . \n",
      "Retrying...\n",
      "Generated content is not list of strings : [ \"Carte Mobilité Inclusion\", \"MDA\", \"attributions conditions\" ] . \n",
      "Retrying...\n"
     ]
    },
    {
     "name": "stderr",
     "output_type": "stream",
     "text": [
      " 73%|███████▎  | 58/79 [09:41<05:00, 14.29s/it]"
     ]
    },
    {
     "name": "stdout",
     "output_type": "stream",
     "text": [
      "Generated content is not list of strings : [ \"Carte Mobilité Inclusion\", \"MDA\", \"attributions\" ] . \n",
      "Retrying...\n",
      "Generated content is not list of strings : [\n",
      "\"point d'accueil MDA\",\n",
      "\"votre lieu de résidence\",\n",
      "\"nom de votre ville\"\n",
      "] . \n",
      "Retrying...\n",
      "Generated content is not list of strings : [\n",
      "\"point d'accueil MDA\",\n",
      "\"rechercher par ville\",\n",
      "\"Centres Médico-Sociaux, Centres Communaux d'Action Sociale, Collectif Drôme Handicap\"\n",
      "] . \n",
      "Retrying...\n",
      "Generated content is not list of strings : [\n",
      "\"point d'accueil MDA\",\n",
      "\"rechercher\",\n",
      "\"votre ville\"\n",
      "] . \n",
      "Retrying...\n",
      "Generated content is not list of strings : [\n",
      "\"point d'accueil MDA\",\n",
      "\"votre lieu de résidence\",\n",
      "\"recherchez le point d'accueil MDA\"\n",
      "] . \n",
      "Retrying...\n"
     ]
    },
    {
     "name": "stderr",
     "output_type": "stream",
     "text": [
      " 75%|███████▍  | 59/79 [09:54<04:34, 13.72s/it]"
     ]
    },
    {
     "name": "stdout",
     "output_type": "stream",
     "text": [
      "Generated content is not list of strings : [\n",
      "\"point d'accueil MDA\",\n",
      "\"rechercher par ville\",\n",
      "\"Centres Médico-Sociaux, Centres Communaux d’Action Sociale, Collectif Drôme Handicap\"\n",
      "] . \n",
      "Retrying...\n",
      "Generated content is not list of strings : [“ajouter un bénéficiaire”, “compte Top Dép’Art”] . \n",
      "Retrying...\n"
     ]
    },
    {
     "name": "stderr",
     "output_type": "stream",
     "text": [
      " 76%|███████▌  | 60/79 [10:06<04:14, 13.37s/it]"
     ]
    },
    {
     "name": "stdout",
     "output_type": "stream",
     "text": [
      "Generated content is not list of strings : [ \"restaurants scolaires\", \"repas bio\", \"produits locaux\" ] . \n",
      "Retrying...\n",
      "Generated content is not list of strings : [ \"restaurants scolaires\", \"repas bio\", \"produits locaux\" ] . \n",
      "Retrying...\n",
      "Generated content is not list of strings : [[\"restaurants scolaires\"], [\"repas bio\"], [\"produits locaux\"]] . \n",
      "Retrying...\n",
      "Generated content is not list of strings : [[\"restaurants\", \"scolaires\", \"biolocaux\"], [\"manger\", \"drômois\", \"mieux\"], [\"PAT\", \"stratégie\", \"alimentaire\"]] . \n",
      "Retrying...\n"
     ]
    },
    {
     "name": "stderr",
     "output_type": "stream",
     "text": [
      " 77%|███████▋  | 61/79 [10:17<03:44, 12.49s/it]"
     ]
    },
    {
     "name": "stdout",
     "output_type": "stream",
     "text": [
      "Generated content is not list of strings : [[\"restaurants\", \"scolaires\", \"bio\"], {\"en\",\"fr\"}, [\"alimentation\", \"locale\", \"strategie\"}] . \n",
      "Retrying...\n",
      "Generated content is not list of strings : [\n",
      "\"médecins\",\n",
      "\"sages-femmes\",\n",
      "\"puéricultrices\"\n",
      "] . \n",
      "Retrying...\n",
      "Generated content is not list of strings : [\n",
      "\"médecins\",\n",
      "\"sages-femmes\",\n",
      "\"puéricultrices\"\n",
      "] . \n",
      "Retrying...\n",
      "Generated content is not list of strings : [\n",
      "\"médecins\",\n",
      "\"sages-femmes\",\n",
      "\"puéricultrices\"\n",
      "] . \n",
      "Retrying...\n",
      "Generated content is not list of strings : [\n",
      "\"médecins\",\n",
      "\"sages-femmes\",\n",
      "\"puéricultrices\"\n",
      "] . \n",
      "Retrying...\n"
     ]
    },
    {
     "name": "stderr",
     "output_type": "stream",
     "text": [
      " 78%|███████▊  | 62/79 [10:27<03:22, 11.91s/it]"
     ]
    },
    {
     "name": "stdout",
     "output_type": "stream",
     "text": [
      "Generated content is not list of strings : [\n",
      "\"médecins\",\n",
      "\"sages-femmes\",\n",
      "\"puéricultrices\"\n",
      "] . \n",
      "Retrying...\n",
      "Generated content is not list of strings : [ \"bourses départementales\", \"collégiens\", \"Drôme\" ] . \n",
      "Retrying...\n",
      "Generated content is not list of strings : [ \"bourses départementales\", \"collégiens Drôme\" ] . \n",
      "Retrying...\n",
      "Generated content is not list of strings : [ \"bourses départementales\", \"collégiens\", \"Drôme\" ] . \n",
      "Retrying...\n",
      "Generated content is not list of strings : [ \"bourses\", \"départementales\", \"collégiens\" ] . \n",
      "Retrying...\n"
     ]
    },
    {
     "name": "stderr",
     "output_type": "stream",
     "text": [
      " 80%|███████▉  | 63/79 [10:48<03:54, 14.68s/it]"
     ]
    },
    {
     "name": "stdout",
     "output_type": "stream",
     "text": [
      "Generated content is not list of strings : [« bourses départementales », « collégiens », « Drôme »] . \n",
      "Retrying...\n",
      "Generated content is not list of strings : [ \"CRIP Drôme\", \"Direction Enfance Famille Santé\", \"13 avenue Maurice Faure 26000 Valence\" ] . \n",
      "Retrying...\n",
      "Generated content is not list of strings : [ \"CRIP Drôme\", \"Direction Enfance Famille Santé\", \"dromeip@ladrome.fr\" ] . \n",
      "Retrying...\n",
      "Generated content is not list of strings : [ \"CRIP Drôme\", \"contact\", \"Département de la Drôme\" ] . \n",
      "Retrying...\n",
      "Generated content is not list of strings : [ \"CRIP Drôme\", \"Direction Enfance Famille Santé\", \"13 avenue Maurice Faure 26000 Valence\" ] . \n",
      "Retrying...\n"
     ]
    },
    {
     "name": "stderr",
     "output_type": "stream",
     "text": [
      " 81%|████████  | 64/79 [11:01<03:31, 14.09s/it]"
     ]
    },
    {
     "name": "stdout",
     "output_type": "stream",
     "text": [
      "Generated content is not list of strings : [ \"CRIP Drôme\", \"Direction Enfance Famille Santé\", \"13 avenue Maurice Faure 26000 Valence\" ] . \n",
      "Retrying...\n",
      "Generated content is not list of strings : [«maltraitance», «personnes âgées», «handicapées»] . \n",
      "Retrying...\n",
      "Generated content is not list of strings : [«maltraitance», «personnes âgées», «handicapées»] . \n",
      "Retrying...\n",
      "Generated content is not list of strings : [«maltraitance», «personnes âgées», «handicapées»] . \n",
      "Retrying...\n",
      "Generated content is not list of strings : [«maltraitance», «personnes âgées», «handicapées»] . \n",
      "Retrying...\n"
     ]
    },
    {
     "name": "stderr",
     "output_type": "stream",
     "text": [
      " 82%|████████▏ | 65/79 [11:08<02:47, 12.00s/it]"
     ]
    },
    {
     "name": "stdout",
     "output_type": "stream",
     "text": [
      "Generated content is not list of strings : [«maltraitance», «personnes âgées», «handicapées»] . \n",
      "Retrying...\n",
      "Generated content is not list of strings : [\"\"aides financières\"\", \"\"services à domicile\"\"\", \"\"Département\"\"] . \n",
      "Retrying...\n",
      "Generated content is not list of strings : [\"\"aides financières\"\", \"\"services à domicile\"\", \"\"Département\"\"] . \n",
      "Retrying...\n",
      "Generated content is not list of strings : [ \"services à la personne\", \"aides financières\", \"Allocation Personnalisée d'Autonomie\" ] . \n",
      "Retrying...\n",
      "Generated content is not list of strings : [{\"text\": \"aides financières\", \"weight\": 0.6}, {\"text\": \"emploi d'une personne à domicile\", \"weight\": 0.4}, {\"text\": \"Département\", \"weight\": 0.3}]\n",
      "The keywords that can answer the question are \"aides financières\", \"emploi d'une personne à domicile\" and \"Département\". The user can use these keywords to search for more information on the financial aids available for employing a person at home. The keyword \"Département\" is included because in the text, financial aids for employing a person at home are provided by this government body. . \n",
      "Retrying...\n"
     ]
    },
    {
     "name": "stderr",
     "output_type": "stream",
     "text": [
      " 84%|████████▎ | 66/79 [11:27<03:00, 13.90s/it]"
     ]
    },
    {
     "name": "stdout",
     "output_type": "stream",
     "text": [
      "Generated content is not list of strings : [[\"services à la personne\"], [\"aide financière\"], [\"Département\"]] . \n",
      "Retrying...\n",
      "Generated content is not list of strings : [\n",
      "\"activités toute l'année\",\n",
      "\"Font d'Urle\",\n",
      "\"randonnée, ski, raquettes...\"\n",
      "] . \n",
      "Retrying...\n",
      "Generated content is not list of strings : [« activités de montagne », « toute l'année », « Font d'Urle »] . \n",
      "Retrying...\n",
      "Generated content is not list of strings : [\n",
      "\"activités toute l'année\",\n",
      "\"Font d'Urle\",\n",
      "\"randonnée, ski, raquettes...\"\n",
      "] . \n",
      "Retrying...\n",
      "Generated content is not list of strings : [\n",
      "\"activités toute l'année\",\n",
      "\"Font d'Urle\",\n",
      "\"randonnée, ski, raquettes...\"\n",
      "] . \n",
      "Retrying...\n"
     ]
    },
    {
     "name": "stderr",
     "output_type": "stream",
     "text": [
      " 85%|████████▍ | 67/79 [11:34<02:24, 12.04s/it]"
     ]
    },
    {
     "name": "stdout",
     "output_type": "stream",
     "text": [
      "Generated content is not list of strings : [\"\"Font d'Urle\"\", \"\"activités toute l'année\"\", \"\"randonnée, ski, raquettes...\"\"\"] . \n",
      "Retrying...\n",
      "Generated content is not list of strings : [ \"formulaire CERFA\", \"Centre Technique Départemental\", \"autorisation de voirie\" ] . \n",
      "Retrying...\n",
      "Generated content is not list of strings : [ \"demande d'autorisation de voirie\", \"particuliers\", \"Centre Technique Départemental (CTD)\" ] . \n",
      "Retrying...\n",
      "Generated content is not list of strings : [ \"demande d'autorisation de voirie\", \"particuliers\", \"formulaire CERFA\" ] . \n",
      "Retrying...\n",
      "Generated content is not list of strings : [\n",
      "\"formulaire CERFA\",\n",
      "\"Centre Technique Départemental\",\n",
      "\"autorisation de voirie\"\n",
      "] . \n",
      "Retrying...\n"
     ]
    },
    {
     "name": "stderr",
     "output_type": "stream",
     "text": [
      " 86%|████████▌ | 68/79 [11:50<02:23, 13.02s/it]"
     ]
    },
    {
     "name": "stdout",
     "output_type": "stream",
     "text": [
      "Generated content is not list of strings : [ \"demande d'autorisation de voirie\", \"particuliers\", \"CERFA n°1402301\" ] . \n",
      "Retrying...\n",
      "Generated content is not list of strings : [\n",
      "\"étude technique\",\n",
      "\"octobre 2023\",\n",
      "\"Département\"\n",
      "] . \n",
      "Retrying...\n"
     ]
    },
    {
     "name": "stderr",
     "output_type": "stream",
     "text": [
      " 87%|████████▋ | 69/79 [11:57<01:54, 11.47s/it]"
     ]
    },
    {
     "name": "stdout",
     "output_type": "stream",
     "text": [
      "Generated content is not list of strings : [ \"MDA - Drôme Solidarités\", \"contact\", \"04 75 79 70 09\" ] . \n",
      "Retrying...\n",
      "Generated content is not list of strings : [ \"MDA – Drôme Solidarités\", \"contact\", \"dromesolidarites@ladrome.fr\" ] . \n",
      "Retrying...\n",
      "Generated content is not list of strings : [ \"MDA - Drôme Solidarités\", \"contact\", \"04 75 79 70 09\" ] . \n",
      "Retrying...\n",
      "Generated content is not list of strings : [« MDA – Drôme Solidarités », « 04 75 79 70 09 », « dromesolidarites@ladrome.fr »] . \n",
      "Retrying...\n"
     ]
    },
    {
     "name": "stderr",
     "output_type": "stream",
     "text": [
      " 89%|████████▊ | 70/79 [12:12<01:50, 12.27s/it]"
     ]
    },
    {
     "name": "stdout",
     "output_type": "stream",
     "text": [
      "Generated content is not list of strings : [ \"MDA - Drôme Solidarités\", \"contact\", \"04 75 79 70 09\" ] . \n",
      "Retrying...\n",
      "Generated content is not list of strings : [\n",
      "\"Département\",\n",
      "\"formation\",\n",
      "\"assistants maternels\"\n",
      "] . \n",
      "Retrying...\n",
      "Generated content is not list of strings : [\n",
      "\"Département\",\n",
      "\"formation\",\n",
      "\"assistants maternels\"\n",
      "] . \n",
      "Retrying...\n",
      "Generated content is not list of strings : [\n",
      "\"Département\",\n",
      "\"formation\",\n",
      "\"assistants maternels\"\n",
      "] . \n",
      "Retrying...\n",
      "Generated content is not list of strings : [\n",
      "\"Département\",\n",
      "\"formation obligatoire\",\n",
      "\"assistants maternels\"\n",
      "] . \n",
      "Retrying...\n"
     ]
    },
    {
     "name": "stderr",
     "output_type": "stream",
     "text": [
      " 90%|████████▉ | 71/79 [12:29<01:49, 13.68s/it]"
     ]
    },
    {
     "name": "stdout",
     "output_type": "stream",
     "text": [
      "Generated content is not list of strings : [ \"Département\", \"formation\", \"assistants maternels\" ] . \n",
      "Retrying...\n",
      "Generated content is not list of strings : [ \"Mission numérique\", \"Le Moulin Digital\", \"tiers-lieux\" ] . \n",
      "Retrying...\n",
      "Generated content is not list of strings : [ \"Mission numérique\", \"Le Moulin Digital\", \"tiers-lieux\" ] . \n",
      "Retrying...\n",
      "Generated content is not list of strings : [ \"Mission numérique\", \"Le Moulin Digital\", \"tiers-lieux\" ] . \n",
      "Retrying...\n",
      "Generated content is not list of strings : [ \"Mission numérique\", \"Le Moulin Digital\", \"tiers-lieux\" ] . \n",
      "Retrying...\n"
     ]
    },
    {
     "name": "stderr",
     "output_type": "stream",
     "text": [
      " 91%|█████████ | 72/79 [12:42<01:34, 13.50s/it]"
     ]
    },
    {
     "name": "stdout",
     "output_type": "stream",
     "text": [
      "Generated content is not list of strings : [ \"Mission numérique\", \"Le Moulin Digital\", \"tiers-lieux\" ] . \n",
      "Retrying...\n",
      "Generated content is not list of strings : [« nouvelle stratégie », « filière forêt-bois », « 4 M€ »] . \n",
      "Retrying...\n",
      "Generated content is not list of strings : [« nouvelle stratégie », « filière forêt-bois », « 4 M€ »] . \n",
      "Retrying...\n",
      "Generated content is not list of strings : [« nouvelle stratégie », « filière forêt-bois », « 4 M€ »] . \n",
      "Retrying...\n",
      "Generated content is not list of strings : [« nouvelle stratégie », « filière forêt-bois », « 2023-2028 »] . \n",
      "Retrying...\n"
     ]
    },
    {
     "name": "stderr",
     "output_type": "stream",
     "text": [
      " 92%|█████████▏| 73/79 [12:52<01:15, 12.53s/it]"
     ]
    },
    {
     "name": "stdout",
     "output_type": "stream",
     "text": [
      "Generated content is not list of strings : [ \"nouvelle stratégie\", \"filière forêt-bois\", \"2023-2028\" ] . \n",
      "Retrying...\n",
      "Generated content is not list of strings : [ \"allocation insertion\", \"bénéficiaires RSA\", \"contrat d'engagement\" ] . \n",
      "Retrying...\n",
      "Generated content is not list of strings : [[\"allocation insertion\", \"bénéficiaires\", \"RSA\"], [\"contrat engagement réciproque\", \"PPAE\"], [\"Fonds d'aides au Jeunes\"]] . \n",
      "Retrying...\n",
      "Generated content is not list of strings : [[\"allocation insertion\", \"RSA\", \"contrat d'engagement réciproque\"], [\"Pack retour à l'emploi\", \"FAJ\", \"18/25 ans\")]\n",
      "\n",
      "In this case, I provide two set of keywords because the initial question does not mention any age range. Therefore, it is not clear whether the question refers to the first or the second information provided (the first information concerns 18-25 years old). However, to answer the literal question about the documents for RSA beneficiaries, the correct keywords are [\"allocation insertion\", \"RSA\", \"contrat d'engagement réciproque\"]. The other set of keywords may be useful for other people in the same age range. . \n",
      "Retrying...\n",
      "Generated content is not list of strings : [[\"allocation insertion\", \"bénéficiaires\", \"RSA\"], [\"contrat d'engagement réciproque\"], [\"projet personnalisé d'accès à l'emploi\", \"PPAE\"], [\"Pôle emploi\"]] . \n",
      "Retrying...\n"
     ]
    },
    {
     "name": "stderr",
     "output_type": "stream",
     "text": [
      " 94%|█████████▎| 74/79 [13:04<01:01, 12.29s/it]"
     ]
    },
    {
     "name": "stdout",
     "output_type": "stream",
     "text": [
      "Generated content is not list of strings : [ \"allocation insertion\", \"bénéficiaires du RSA\", \"contrat d’engagement réciproque\" ] . \n",
      "Retrying...\n",
      "Generated content is not list of strings : [\n",
      "\"centres médico-sociaux\",\n",
      "\"centres de santé sexuelle\",\n",
      "\"carte ci-dessous\"\n",
      "] . \n",
      "Retrying...\n",
      "Generated content is not list of strings : [\n",
      "\"centres médico-sociaux\",\n",
      "\"centres de santé sexuelle\",\n",
      "\"carte ci-dessous\"\n",
      "] . \n",
      "Retrying...\n",
      "Generated content is not list of strings : [\n",
      "\"centres médico-sociaux\",\n",
      "\"centres de santé sexuelle\",\n",
      "\"carte ci-dessous\"\n",
      "] . \n",
      "Retrying...\n",
      "Generated content is not list of strings : [\n",
      "\"centres médico-sociaux\",\n",
      "\"centres de santé sexuelle\",\n",
      "\"carte\"\n",
      "] . \n",
      "Retrying...\n"
     ]
    },
    {
     "name": "stderr",
     "output_type": "stream",
     "text": [
      " 95%|█████████▍| 75/79 [13:10<00:41, 10.46s/it]"
     ]
    },
    {
     "name": "stdout",
     "output_type": "stream",
     "text": [
      "Generated content is not list of strings : [\n",
      "\"carte\",\n",
      "\"centres médico-sociaux\",\n",
      "\"centres de santé sexuelle\"\n",
      "] . \n",
      "Retrying...\n",
      "Generated content is not list of strings : [\n",
      "\"sectorisation des collèges\",\n",
      "\"Département de la Drôme\",\n",
      "\"Direction des services départementaux de l'Education nationale\"\n",
      "] . \n",
      "Retrying...\n",
      "Generated content is not list of strings : [\n",
      "\"sectorisation des collèges\",\n",
      "\"Département de la Drôme\",\n",
      "\"Direction des services départementaux\"\n",
      "] . \n",
      "Retrying...\n",
      "Generated content is not list of strings : [\n",
      "\"sectorisation des collèges\",\n",
      "\"Département de la Drôme\",\n",
      "\"Direction des services départementaux de l'Education nationale\"\n",
      "] . \n",
      "Retrying...\n",
      "Generated content is not list of strings : [\n",
      "\"sectorisation des collèges\",\n",
      "\"Département de la Drôme\",\n",
      "\"Direction des services départementaux de la Drôme\"\n",
      "] . \n",
      "Retrying...\n"
     ]
    },
    {
     "name": "stderr",
     "output_type": "stream",
     "text": [
      " 96%|█████████▌| 76/79 [13:31<00:40, 13.58s/it]"
     ]
    },
    {
     "name": "stdout",
     "output_type": "stream",
     "text": [
      "Generated content is not list of strings : [\n",
      "\"sectorisation des collèges\",\n",
      "\"Département de la Drôme\",\n",
      "\"Direction des services départementaux\"\n",
      "] . \n",
      "Retrying...\n",
      "Generated content is not list of strings : [[\"Pont du Tram\"], [\"réouverture\"], [\"modes doux\"]] . \n",
      "Retrying...\n",
      "Generated content is not list of strings : [[\"Pont du Tram\"], [\"réouverture\"], [\"modes doux\"]] . \n",
      "Retrying...\n",
      "Generated content is not list of strings : [[\"Pont du Tram\"], [\"réouverture\"], [\"modes doux\"]] . \n",
      "Retrying...\n",
      "Generated content is not list of strings : [[\"Pont du Tram\"], [\"réouverture\"], [\"modes doux\"]] . \n",
      "Retrying...\n"
     ]
    },
    {
     "name": "stderr",
     "output_type": "stream",
     "text": [
      " 97%|█████████▋| 77/79 [13:46<00:28, 14.04s/it]"
     ]
    },
    {
     "name": "stdout",
     "output_type": "stream",
     "text": [
      "Generated content is not list of strings : [[\"Pont du Tram\"], [\"réouverture\"], [\"modes doux\"]] . \n",
      "Retrying...\n",
      "Generated content is not list of strings : [ \"forêt de Saoû\", \"surface\", \"hectares\" ] . \n",
      "Retrying...\n",
      "Generated content is not list of strings : [ \"forêt de Saoû\", \"s'étendent\", \"hectares\" ] . \n",
      "Retrying...\n",
      "Generated content is not list of strings : [ \"forêt de Saoû\", \"étendent\", \"2 500 hectares\" ] . \n",
      "Retrying...\n",
      "Generated content is not list of strings : [ \"forêt de Saoû\", \"s'étendent\", \"hectares\" ] . \n",
      "Retrying...\n"
     ]
    },
    {
     "name": "stderr",
     "output_type": "stream",
     "text": [
      " 99%|█████████▊| 78/79 [13:59<00:13, 13.85s/it]"
     ]
    },
    {
     "name": "stdout",
     "output_type": "stream",
     "text": [
      "Generated content is not list of strings : [« Forêt de Saoû », « s’étendent », « hectares »] . \n",
      "Retrying...\n",
      "Generated content is not list of strings : [\n",
      "\"site\",\n",
      "\"stations de la Drôme\",\n",
      "\"ouverture\"\n",
      "] . \n",
      "Retrying...\n",
      "Generated content is not list of strings : [\n",
      "\"site\",\n",
      "\"stations de la Drôme\",\n",
      "\"état d'ouverture\"\n",
      "] . \n",
      "Retrying...\n",
      "Generated content is not list of strings : [\n",
      "\"site\",\n",
      "\"stations de la Drôme\",\n",
      "\"ouverture\"\n",
      "] . \n",
      "Retrying...\n",
      "Generated content is not list of strings : [\n",
      "\"site\",\n",
      "\"stations de la Drôme\",\n",
      "\"ouverture\"\n",
      "] . \n",
      "Retrying...\n"
     ]
    },
    {
     "name": "stderr",
     "output_type": "stream",
     "text": [
      "100%|██████████| 79/79 [14:17<00:00, 10.85s/it]"
     ]
    },
    {
     "name": "stdout",
     "output_type": "stream",
     "text": [
      "Generated content is not list of strings : [\n",
      "\"site\",\n",
      "\"stations de la Drôme\",\n",
      "\"ouverture\"\n",
      "] . \n",
      "Retrying...\n",
      "Dataset saved at : ../../data\\D26\\generated_data_mistral-small.json\n"
     ]
    },
    {
     "name": "stderr",
     "output_type": "stream",
     "text": [
      "\n"
     ]
    }
   ],
   "source": [
    "handmade_dataset = pd.read_excel(\"../../data/D26/D26_dataset_handmade.xlsx\")\n",
    "handmade_dataset[\"relevant_chunk_ids\"] = handmade_dataset[\"relevant_chunk_ids\"].str.split(\" \")\n",
    "handmade_dataset.dropna(subset=\"relevant_chunk_ids\", inplace=True)\n",
    "\n",
    "filenames = handmade_dataset[\"relevant_chunk_ids\"].tolist()\n",
    "filenames = [fn[0] for fn in filenames]\n",
    "\n",
    "dataset_generator = RAGDatasetGenerator(\"mistral\", model=\"mistral-small\")\n",
    "dataset_generator.generate_RAG_dataset(CHUNKS_FOLDER, filenames, max_retries=5)"
   ]
  },
  {
   "cell_type": "code",
   "execution_count": 1,
   "metadata": {},
   "outputs": [
    {
     "data": {
      "text/html": [
       "<div>\n",
       "<style scoped>\n",
       "    .dataframe tbody tr th:only-of-type {\n",
       "        vertical-align: middle;\n",
       "    }\n",
       "\n",
       "    .dataframe tbody tr th {\n",
       "        vertical-align: top;\n",
       "    }\n",
       "\n",
       "    .dataframe thead th {\n",
       "        text-align: right;\n",
       "    }\n",
       "</style>\n",
       "<table border=\"1\" class=\"dataframe\">\n",
       "  <thead>\n",
       "    <tr style=\"text-align: right;\">\n",
       "      <th></th>\n",
       "      <th>query</th>\n",
       "      <th>long_answer</th>\n",
       "      <th>short_answer</th>\n",
       "      <th>relevant_ids</th>\n",
       "    </tr>\n",
       "  </thead>\n",
       "  <tbody>\n",
       "    <tr>\n",
       "      <th>0</th>\n",
       "      <td>Quelle est l'enveloppe du Fonds de Soutien aux...</td>\n",
       "      <td>L'enveloppe du Fonds de Soutien aux Œuvres Ani...</td>\n",
       "      <td>[enveloppe]</td>\n",
       "      <td>ladrome-page-573222-1.json</td>\n",
       "    </tr>\n",
       "    <tr>\n",
       "      <th>1</th>\n",
       "      <td>Combien d'accueillants familiaux sont agréés d...</td>\n",
       "      <td>88 accueillants familiaux sont agréés dans la ...</td>\n",
       "      <td>[88]</td>\n",
       "      <td>ladrome-page-13929-0.json</td>\n",
       "    </tr>\n",
       "    <tr>\n",
       "      <th>2</th>\n",
       "      <td>Quels sont les horaires d'ouverture en septembre?</td>\n",
       "      <td>En septembre, le musée départemental de la Rés...</td>\n",
       "      <td>[septembre]</td>\n",
       "      <td>ladrome-page-10958-3.json</td>\n",
       "    </tr>\n",
       "    <tr>\n",
       "      <th>3</th>\n",
       "      <td>Quel est le pourcentage de critères RGAA respe...</td>\n",
       "      <td>Le pourcentage de critères RGAA respectés est ...</td>\n",
       "      <td>[89,58%]</td>\n",
       "      <td>ladrome-page-479533-2.json</td>\n",
       "    </tr>\n",
       "    <tr>\n",
       "      <th>4</th>\n",
       "      <td>Quelles écoles sont présentes à la Cartoucherie?</td>\n",
       "      <td>Les écoles présentes à la Cartoucherie sont l'...</td>\n",
       "      <td>[écoles]</td>\n",
       "      <td>ladrome-page-10516-3.json</td>\n",
       "    </tr>\n",
       "  </tbody>\n",
       "</table>\n",
       "</div>"
      ],
      "text/plain": [
       "                                               query  \\\n",
       "0  Quelle est l'enveloppe du Fonds de Soutien aux...   \n",
       "1  Combien d'accueillants familiaux sont agréés d...   \n",
       "2  Quels sont les horaires d'ouverture en septembre?   \n",
       "3  Quel est le pourcentage de critères RGAA respe...   \n",
       "4   Quelles écoles sont présentes à la Cartoucherie?   \n",
       "\n",
       "                                         long_answer short_answer  \\\n",
       "0  L'enveloppe du Fonds de Soutien aux Œuvres Ani...  [enveloppe]   \n",
       "1  88 accueillants familiaux sont agréés dans la ...         [88]   \n",
       "2  En septembre, le musée départemental de la Rés...  [septembre]   \n",
       "3  Le pourcentage de critères RGAA respectés est ...     [89,58%]   \n",
       "4  Les écoles présentes à la Cartoucherie sont l'...     [écoles]   \n",
       "\n",
       "                 relevant_ids  \n",
       "0  ladrome-page-573222-1.json  \n",
       "1   ladrome-page-13929-0.json  \n",
       "2   ladrome-page-10958-3.json  \n",
       "3  ladrome-page-479533-2.json  \n",
       "4   ladrome-page-10516-3.json  "
      ]
     },
     "execution_count": 1,
     "metadata": {},
     "output_type": "execute_result"
    }
   ],
   "source": [
    "import pandas as pd\n",
    "\n",
    "dataset = pd.read_json(\"../data/D26/generated_data_gpt-3-5-turbo.json\")\n",
    "dataset.head()"
   ]
  },
  {
   "cell_type": "code",
   "execution_count": 2,
   "metadata": {},
   "outputs": [],
   "source": [
    "from markdownify import markdownify\n",
    "\n",
    "text = markdownify(\"<h1>Les projets en cours</h1>\\n\\n\\n<p>L’ambition est de conjuguer la mise en valeur du territoire avec sa préservation. Les aménagements créés dans l’initiative des Sublimes Routes proposeront au visiteur une nouvelle expérience de visite, sensible et artistique, pour un face-à-face en immersion dans ces paysages sublimes. Une attention particulière a été apportée à l’accessibilité de chacun des belvédères, des places de stationnement sont réservées au plus près des aménagements.</p>\\n\\n\\n\\n<h3><strong>Col de la Bataille</strong></h3>\\n<p>A voir dès à présent : la passerelle du belvédère de l’Arche et le belvédère de l’Aubasse. Deux ouvrages intégrés aux sites, qui ouvrent aux visiteurs un nouvel espace de contemplation sur la combe de Bouvante et le milieu vertical environnant. Les deux ouvrages sont en acier Corten (aspect rouillé), un matériau spécialement conçu pour l’extérieur, tout comme le belvédère sur le site des Lames en passe d’être prochainement terminé. Une passerelle métallique en encorbellement et une table d’orientation singulière l’«anneau de pierre» compléteront l’ensemble au col de la Bataille.</p>\\n\\n\\n\\n<h4 class=\\\"wp-block-heading\\\">Où en est-on ?</h4>\\n\\n\\n\\n<figure data-wp-context=\\\"{ &quot;core&quot;:\\n\\t\\t\\t\\t{ &quot;image&quot;:\\n\\t\\t\\t\\t\\t{   &quot;imageLoaded&quot;: false,\\n\\t\\t\\t\\t\\t\\t&quot;initialized&quot;: false,\\n\\t\\t\\t\\t\\t\\t&quot;lightboxEnabled&quot;: false,\\n\\t\\t\\t\\t\\t\\t&quot;hideAnimationEnabled&quot;: false,\\n\\t\\t\\t\\t\\t\\t&quot;preloadInitialized&quot;: false,\\n\\t\\t\\t\\t\\t\\t&quot;lightboxAnimation&quot;: &quot;zoom&quot;,\\n\\t\\t\\t\\t\\t\\t&quot;imageUploadedSrc&quot;: &quot;https://www.ladrome.fr/wp-content/uploads/2023/12/calendrier-colbataille.jpg&quot;,\\n\\t\\t\\t\\t\\t\\t&quot;imageCurrentSrc&quot;: &quot;&quot;,\\n\\t\\t\\t\\t\\t\\t&quot;targetWidth&quot;: &quot;1189&quot;,\\n\\t\\t\\t\\t\\t\\t&quot;targetHeight&quot;: &quot;550&quot;,\\n\\t\\t\\t\\t\\t\\t&quot;scaleAttr&quot;: &quot;&quot;,\\n\\t\\t\\t\\t\\t\\t&quot;dialogLabel&quot;: &quot;Image agrandie&quot;\\n\\t\\t\\t\\t\\t}\\n\\t\\t\\t\\t}\\n\\t\\t\\t}\\\" data-wp-interactive class=\\\"wp-block-image size-full wp-lightbox-container\\\"><img loading=\\\"lazy\\\" decoding=\\\"async\\\" width=\\\"1189\\\" height=\\\"550\\\" data-wp-effect--setStylesOnResize=\\\"effects.core.image.setStylesOnResize\\\" data-wp-effect=\\\"effects.core.image.setButtonStyles\\\" data-wp-init=\\\"effects.core.image.initOriginImage\\\" data-wp-on--click=\\\"actions.core.image.showLightbox\\\" data-wp-on--load=\\\"actions.core.image.handleLoad\\\" src=\\\"https://www.ladrome.fr/wp-content/uploads/2023/12/calendrier-colbataille.jpg\\\" alt=\\\"\\\" class=\\\"wp-image-582086\\\" srcset=\\\"https://www.ladrome.fr/wp-content/uploads/2023/12/calendrier-colbataille.jpg 1189w, https://www.ladrome.fr/wp-content/uploads/2023/12/calendrier-colbataille-850x393.jpg 850w, https://www.ladrome.fr/wp-content/uploads/2023/12/calendrier-colbataille-300x139.jpg 300w, https://www.ladrome.fr/wp-content/uploads/2023/12/calendrier-colbataille-768x355.jpg 768w\\\" sizes=\\\"(max-width: 1189px) 100vw, 1189px\\\" /><button\\n\\t\\t\\tclass=\\\"lightbox-trigger\\\"\\n\\t\\t\\ttype=\\\"button\\\"\\n\\t\\t\\taria-haspopup=\\\"dialog\\\"\\n\\t\\t\\taria-label=\\\"Agrandir l‘image\\\"\\n\\t\\t\\tdata-wp-on--click=\\\"actions.core.image.showLightbox\\\"\\n\\t\\t\\tdata-wp-style--right=\\\"context.core.image.imageButtonRight\\\"\\n\\t\\t\\tdata-wp-style--top=\\\"context.core.image.imageButtonTop\\\"\\n\\t\\t>\\n\\t\\t\\t<svg xmlns=\\\"http://www.w3.org/2000/svg\\\" width=\\\"12\\\" height=\\\"12\\\" fill=\\\"none\\\" viewBox=\\\"0 0 12 12\\\">\\n\\t\\t\\t\\t<path fill=\\\"#fff\\\" d=\\\"M2 0a2 2 0 0 0-2 2v2h1.5V2a.5.5 0 0 1 .5-.5h2V0H2Zm2 10.5H2a.5.5 0 0 1-.5-.5V8H0v2a2 2 0 0 0 2 2h2v-1.5ZM8 12v-1.5h2a.5.5 0 0 0 .5-.5V8H12v2a2 2 0 0 1-2 2H8Zm2-12a2 2 0 0 1 2 2v2h-1.5V2a.5.5 0 0 0-.5-.5H8V0h2Z\\\" />\\n\\t\\t\\t</svg>\\n\\t\\t</button>        <div data-wp-body=\\\"\\\" class=\\\"wp-lightbox-overlay zoom\\\"\\n            data-wp-bind--role=\\\"selectors.core.image.roleAttribute\\\"\\n            data-wp-bind--aria-label=\\\"selectors.core.image.dialogLabel\\\"\\n            data-wp-class--initialized=\\\"context.core.image.initialized\\\"\\n            data-wp-class--active=\\\"context.core.image.lightboxEnabled\\\"\\n            data-wp-class--hideAnimationEnabled=\\\"context.core.image.hideAnimationEnabled\\\"\\n            data-wp-bind--aria-modal=\\\"selectors.core.image.ariaModal\\\"\\n            data-wp-effect=\\\"effects.core.image.initLightbox\\\"\\n            data-wp-on--keydown=\\\"actions.core.image.handleKeydown\\\"\\n            data-wp-on--touchstart=\\\"actions.core.image.handleTouchStart\\\"\\n            data-wp-on--touchmove=\\\"actions.core.image.handleTouchMove\\\"\\n            data-wp-on--touchend=\\\"actions.core.image.handleTouchEnd\\\"\\n            data-wp-on--click=\\\"actions.core.image.hideLightbox\\\"\\n            tabindex=\\\"-1\\\"\\n            >\\n                <button type=\\\"button\\\" aria-label=\\\"Fermer\\\" style=\\\"fill: #000\\\" class=\\\"close-button\\\" data-wp-on--click=\\\"actions.core.image.hideLightbox\\\">\\n                    <svg xmlns=\\\"http://www.w3.org/2000/svg\\\" viewBox=\\\"0 0 24 24\\\" width=\\\"20\\\" height=\\\"20\\\" aria-hidden=\\\"true\\\" focusable=\\\"false\\\"><path d=\\\"M13 11.8l6.1-6.3-1-1-6.1 6.2-6.1-6.2-1 1 6.1 6.3-6.5 6.7 1 1 6.5-6.6 6.5 6.6 1-1z\\\"></path></svg>\\n                </button>\\n                <div class=\\\"lightbox-image-container\\\">\\n<figure class=\\\"wp-block-image size-full responsive-image\\\"><img decoding=\\\"async\\\" data-wp-bind--src=\\\"context.core.image.imageCurrentSrc\\\" data-wp-style--object-fit=\\\"selectors.core.image.lightboxObjectFit\\\" src=\\\"\\\" alt=\\\"\\\" class=\\\"wp-image-582086\\\"/></figure>\\n</div>\\n                <div class=\\\"lightbox-image-container\\\">\\n<figure class=\\\"wp-block-image size-full enlarged-image\\\"><img decoding=\\\"async\\\" data-wp-bind--src=\\\"selectors.core.image.enlargedImgSrc\\\" data-wp-style--object-fit=\\\"selectors.core.image.lightboxObjectFit\\\" src=\\\"\\\" alt=\\\"\\\" class=\\\"wp-image-582086\\\"/></figure>\\n</div>\\n                <div class=\\\"scrim\\\" style=\\\"background-color: #fff\\\" aria-hidden=\\\"true\\\"></div>\\n        </div></figure>\\n\\n\\n\\n<figure class=\\\"wp-block-gallery has-nested-images columns-default is-cropped wp-block-gallery-2 is-layout-flex wp-block-gallery-is-layout-flex\\\">\\n<figure data-wp-context=\\\"{ &quot;core&quot;:\\n\\t\\t\\t\\t{ &quot;image&quot;:\\n\\t\\t\\t\\t\\t{   &quot;imageLoaded&quot;: false,\\n\\t\\t\\t\\t\\t\\t&quot;initialized&quot;: false,\\n\\t\\t\\t\\t\\t\\t&quot;lightboxEnabled&quot;: false,\\n\\t\\t\\t\\t\\t\\t&quot;hideAnimationEnabled&quot;: false,\\n\\t\\t\\t\\t\\t\\t&quot;preloadInitialized&quot;: false,\\n\\t\\t\\t\\t\\t\\t&quot;lightboxAnimation&quot;: &quot;zoom&quot;,\\n\\t\\t\\t\\t\\t\\t&quot;imageUploadedSrc&quot;: &quot;https://www.ladrome.fr/wp-content/uploads/2023/12/pas-de-laubasse-claire-matras-017.jpg&quot;,\\n\\t\\t\\t\\t\\t\\t&quot;imageCurrentSrc&quot;: &quot;&quot;,\\n\\t\\t\\t\\t\\t\\t&quot;targetWidth&quot;: &quot;1600&quot;,\\n\\t\\t\\t\\t\\t\\t&quot;targetHeight&quot;: &quot;1067&quot;,\\n\\t\\t\\t\\t\\t\\t&quot;scaleAttr&quot;: &quot;&quot;,\\n\\t\\t\\t\\t\\t\\t&quot;dialogLabel&quot;: &quot;Image agrandie&quot;\\n\\t\\t\\t\\t\\t}\\n\\t\\t\\t\\t}\\n\\t\\t\\t}\\\" data-wp-interactive class=\\\"wp-block-image size-large wp-lightbox-container\\\"><img loading=\\\"lazy\\\" decoding=\\\"async\\\" width=\\\"1600\\\" height=\\\"1067\\\" data-wp-effect--setStylesOnResize=\\\"effects.core.image.setStylesOnResize\\\" data-wp-effect=\\\"effects.core.image.setButtonStyles\\\" data-wp-init=\\\"effects.core.image.initOriginImage\\\" data-wp-on--click=\\\"actions.core.image.showLightbox\\\" data-wp-on--load=\\\"actions.core.image.handleLoad\\\" data-id=\\\"582087\\\" src=\\\"https://www.ladrome.fr/wp-content/uploads/2023/12/pas-de-laubasse-claire-matras-017.jpg\\\" alt=\\\"\\\" class=\\\"wp-image-582087\\\" srcset=\\\"https://www.ladrome.fr/wp-content/uploads/2023/12/pas-de-laubasse-claire-matras-017.jpg 1600w, https://www.ladrome.fr/wp-content/uploads/2023/12/pas-de-laubasse-claire-matras-017-850x567.jpg 850w, https://www.ladrome.fr/wp-content/uploads/2023/12/pas-de-laubasse-claire-matras-017-300x200.jpg 300w, https://www.ladrome.fr/wp-content/uploads/2023/12/pas-de-laubasse-claire-matras-017-768x512.jpg 768w, https://www.ladrome.fr/wp-content/uploads/2023/12/pas-de-laubasse-claire-matras-017-1536x1024.jpg 1536w, https://www.ladrome.fr/wp-content/uploads/2023/12/pas-de-laubasse-claire-matras-017-1320x880.jpg 1320w\\\" sizes=\\\"(max-width: 1600px) 100vw, 1600px\\\" /><button\\n\\t\\t\\tclass=\\\"lightbox-trigger\\\"\\n\\t\\t\\ttype=\\\"button\\\"\\n\\t\\t\\taria-haspopup=\\\"dialog\\\"\\n\\t\\t\\taria-label=\\\"Agrandir l‘image\\\"\\n\\t\\t\\tdata-wp-on--click=\\\"actions.core.image.showLightbox\\\"\\n\\t\\t\\tdata-wp-style--right=\\\"context.core.image.imageButtonRight\\\"\\n\\t\\t\\tdata-wp-style--top=\\\"context.core.image.imageButtonTop\\\"\\n\\t\\t>\\n\\t\\t\\t<svg xmlns=\\\"http://www.w3.org/2000/svg\\\" width=\\\"12\\\" height=\\\"12\\\" fill=\\\"none\\\" viewBox=\\\"0 0 12 12\\\">\\n\\t\\t\\t\\t<path fill=\\\"#fff\\\" d=\\\"M2 0a2 2 0 0 0-2 2v2h1.5V2a.5.5 0 0 1 .5-.5h2V0H2Zm2 10.5H2a.5.5 0 0 1-.5-.5V8H0v2a2 2 0 0 0 2 2h2v-1.5ZM8 12v-1.5h2a.5.5 0 0 0 .5-.5V8H12v2a2 2 0 0 1-2 2H8Zm2-12a2 2 0 0 1 2 2v2h-1.5V2a.5.5 0 0 0-.5-.5H8V0h2Z\\\" />\\n\\t\\t\\t</svg>\\n\\t\\t</button><figcaption class=\\\"wp-element-caption\\\">Belvédère de l’Aubasse</figcaption>        <div data-wp-body=\\\"\\\" class=\\\"wp-lightbox-overlay zoom\\\"\\n            data-wp-bind--role=\\\"selectors.core.image.roleAttribute\\\"\\n            data-wp-bind--aria-label=\\\"selectors.core.image.dialogLabel\\\"\\n            data-wp-class--initialized=\\\"context.core.image.initialized\\\"\\n            data-wp-class--active=\\\"context.core.image.lightboxEnabled\\\"\\n            data-wp-class--hideAnimationEnabled=\\\"context.core.image.hideAnimationEnabled\\\"\\n            data-wp-bind--aria-modal=\\\"selectors.core.image.ariaModal\\\"\\n            data-wp-effect=\\\"effects.core.image.initLightbox\\\"\\n            data-wp-on--keydown=\\\"actions.core.image.handleKeydown\\\"\\n            data-wp-on--touchstart=\\\"actions.core.image.handleTouchStart\\\"\\n            data-wp-on--touchmove=\\\"actions.core.image.handleTouchMove\\\"\\n            data-wp-on--touchend=\\\"actions.core.image.handleTouchEnd\\\"\\n            data-wp-on--click=\\\"actions.core.image.hideLightbox\\\"\\n            tabindex=\\\"-1\\\"\\n            >\\n                <button type=\\\"button\\\" aria-label=\\\"Fermer\\\" style=\\\"fill: #000\\\" class=\\\"close-button\\\" data-wp-on--click=\\\"actions.core.image.hideLightbox\\\">\\n                    <svg xmlns=\\\"http://www.w3.org/2000/svg\\\" viewBox=\\\"0 0 24 24\\\" width=\\\"20\\\" height=\\\"20\\\" aria-hidden=\\\"true\\\" focusable=\\\"false\\\"><path d=\\\"M13 11.8l6.1-6.3-1-1-6.1 6.2-6.1-6.2-1 1 6.1 6.3-6.5 6.7 1 1 6.5-6.6 6.5 6.6 1-1z\\\"></path></svg>\\n                </button>\\n                <div class=\\\"lightbox-image-container\\\">\\n<figure class=\\\"wp-block-image size-large responsive-image\\\"><img decoding=\\\"async\\\" data-wp-bind--src=\\\"context.core.image.imageCurrentSrc\\\" data-wp-style--object-fit=\\\"selectors.core.image.lightboxObjectFit\\\" data-id=\\\"582087\\\" src=\\\"\\\" alt=\\\"\\\" class=\\\"wp-image-582087\\\"/><figcaption class=\\\"wp-element-caption\\\">Belvédère de l’Aubasse</figcaption></figure>\\n</div>\\n                <div class=\\\"lightbox-image-container\\\">\\n<figure class=\\\"wp-block-image size-large enlarged-image\\\"><img decoding=\\\"async\\\" data-wp-bind--src=\\\"selectors.core.image.enlargedImgSrc\\\" data-wp-style--object-fit=\\\"selectors.core.image.lightboxObjectFit\\\" data-id=\\\"582087\\\" src=\\\"\\\" alt=\\\"\\\" class=\\\"wp-image-582087\\\"/><figcaption class=\\\"wp-element-caption\\\">Belvédère de l’Aubasse</figcaption></figure>\\n</div>\\n                <div class=\\\"scrim\\\" style=\\\"background-color: #fff\\\" aria-hidden=\\\"true\\\"></div>\\n        </div></figure>\\n\\n\\n\\n<figure data-wp-context=\\\"{ &quot;core&quot;:\\n\\t\\t\\t\\t{ &quot;image&quot;:\\n\\t\\t\\t\\t\\t{   &quot;imageLoaded&quot;: false,\\n\\t\\t\\t\\t\\t\\t&quot;initialized&quot;: false,\\n\\t\\t\\t\\t\\t\\t&quot;lightboxEnabled&quot;: false,\\n\\t\\t\\t\\t\\t\\t&quot;hideAnimationEnabled&quot;: false,\\n\\t\\t\\t\\t\\t\\t&quot;preloadInitialized&quot;: false,\\n\\t\\t\\t\\t\\t\\t&quot;lightboxAnimation&quot;: &quot;zoom&quot;,\\n\\t\\t\\t\\t\\t\\t&quot;imageUploadedSrc&quot;: &quot;https://www.ladrome.fr/wp-content/uploads/2023/12/col-de-la-bataille-claire-matras-009.jpg&quot;,\\n\\t\\t\\t\\t\\t\\t&quot;imageCurrentSrc&quot;: &quot;&quot;,\\n\\t\\t\\t\\t\\t\\t&quot;targetWidth&quot;: &quot;1600&quot;,\\n\\t\\t\\t\\t\\t\\t&quot;targetHeight&quot;: &quot;1067&quot;,\\n\\t\\t\\t\\t\\t\\t&quot;scaleAttr&quot;: &quot;&quot;,\\n\\t\\t\\t\\t\\t\\t&quot;dialogLabel&quot;: &quot;Image agrandie&quot;\\n\\t\\t\\t\\t\\t}\\n\\t\\t\\t\\t}\\n\\t\\t\\t}\\\" data-wp-interactive class=\\\"wp-block-image size-large wp-lightbox-container\\\"><img loading=\\\"lazy\\\" decoding=\\\"async\\\" width=\\\"1600\\\" height=\\\"1067\\\" data-wp-effect--setStylesOnResize=\\\"effects.core.image.setStylesOnResize\\\" data-wp-effect=\\\"effects.core.image.setButtonStyles\\\" data-wp-init=\\\"effects.core.image.initOriginImage\\\" data-wp-on--click=\\\"actions.core.image.showLightbox\\\" data-wp-on--load=\\\"actions.core.image.handleLoad\\\" data-id=\\\"582088\\\" src=\\\"https://www.ladrome.fr/wp-content/uploads/2023/12/col-de-la-bataille-claire-matras-009.jpg\\\" alt=\\\"\\\" class=\\\"wp-image-582088\\\" srcset=\\\"https://www.ladrome.fr/wp-content/uploads/2023/12/col-de-la-bataille-claire-matras-009.jpg 1600w, https://www.ladrome.fr/wp-content/uploads/2023/12/col-de-la-bataille-claire-matras-009-850x567.jpg 850w, https://www.ladrome.fr/wp-content/uploads/2023/12/col-de-la-bataille-claire-matras-009-300x200.jpg 300w, https://www.ladrome.fr/wp-content/uploads/2023/12/col-de-la-bataille-claire-matras-009-768x512.jpg 768w, https://www.ladrome.fr/wp-content/uploads/2023/12/col-de-la-bataille-claire-matras-009-1536x1024.jpg 1536w, https://www.ladrome.fr/wp-content/uploads/2023/12/col-de-la-bataille-claire-matras-009-1320x880.jpg 1320w\\\" sizes=\\\"(max-width: 1600px) 100vw, 1600px\\\" /><button\\n\\t\\t\\tclass=\\\"lightbox-trigger\\\"\\n\\t\\t\\ttype=\\\"button\\\"\\n\\t\\t\\taria-haspopup=\\\"dialog\\\"\\n\\t\\t\\taria-label=\\\"Agrandir l‘image\\\"\\n\\t\\t\\tdata-wp-on--click=\\\"actions.core.image.showLightbox\\\"\\n\\t\\t\\tdata-wp-style--right=\\\"context.core.image.imageButtonRight\\\"\\n\\t\\t\\tdata-wp-style--top=\\\"context.core.image.imageButtonTop\\\"\\n\\t\\t>\\n\\t\\t\\t<svg xmlns=\\\"http://www.w3.org/2000/svg\\\" width=\\\"12\\\" height=\\\"12\\\" fill=\\\"none\\\" viewBox=\\\"0 0 12 12\\\">\\n\\t\\t\\t\\t<path fill=\\\"#fff\\\" d=\\\"M2 0a2 2 0 0 0-2 2v2h1.5V2a.5.5 0 0 1 .5-.5h2V0H2Zm2 10.5H2a.5.5 0 0 1-.5-.5V8H0v2a2 2 0 0 0 2 2h2v-1.5ZM8 12v-1.5h2a.5.5 0 0 0 .5-.5V8H12v2a2 2 0 0 1-2 2H8Zm2-12a2 2 0 0 1 2 2v2h-1.5V2a.5.5 0 0 0-.5-.5H8V0h2Z\\\" />\\n\\t\\t\\t</svg>\\n\\t\\t</button><figcaption class=\\\"wp-element-caption\\\">Belvédère de l’Arche</figcaption>        <div data-wp-body=\\\"\\\" class=\\\"wp-lightbox-overlay zoom\\\"\\n            data-wp-bind--role=\\\"selectors.core.image.roleAttribute\\\"\\n            data-wp-bind--aria-label=\\\"selectors.core.image.dialogLabel\\\"\\n            data-wp-class--initialized=\\\"context.core.image.initialized\\\"\\n            data-wp-class--active=\\\"context.core.image.lightboxEnabled\\\"\\n            data-wp-class--hideAnimationEnabled=\\\"context.core.image.hideAnimationEnabled\\\"\\n            data-wp-bind--aria-modal=\\\"selectors.core.image.ariaModal\\\"\\n            data-wp-effect=\\\"effects.core.image.initLightbox\\\"\\n            data-wp-on--keydown=\\\"actions.core.image.handleKeydown\\\"\\n            data-wp-on--touchstart=\\\"actions.core.image.handleTouchStart\\\"\\n            data-wp-on--touchmove=\\\"actions.core.image.handleTouchMove\\\"\\n            data-wp-on--touchend=\\\"actions.core.image.handleTouchEnd\\\"\\n            data-wp-on--click=\\\"actions.core.image.hideLightbox\\\"\\n            tabindex=\\\"-1\\\"\\n            >\\n                <button type=\\\"button\\\" aria-label=\\\"Fermer\\\" style=\\\"fill: #000\\\" class=\\\"close-button\\\" data-wp-on--click=\\\"actions.core.image.hideLightbox\\\">\\n                    <svg xmlns=\\\"http://www.w3.org/2000/svg\\\" viewBox=\\\"0 0 24 24\\\" width=\\\"20\\\" height=\\\"20\\\" aria-hidden=\\\"true\\\" focusable=\\\"false\\\"><path d=\\\"M13 11.8l6.1-6.3-1-1-6.1 6.2-6.1-6.2-1 1 6.1 6.3-6.5 6.7 1 1 6.5-6.6 6.5 6.6 1-1z\\\"></path></svg>\\n                </button>\\n                <div class=\\\"lightbox-image-container\\\">\\n<figure class=\\\"wp-block-image size-large responsive-image\\\"><img decoding=\\\"async\\\" data-wp-bind--src=\\\"context.core.image.imageCurrentSrc\\\" data-wp-style--object-fit=\\\"selectors.core.image.lightboxObjectFit\\\" data-id=\\\"582088\\\" src=\\\"\\\" alt=\\\"\\\" class=\\\"wp-image-582088\\\"/><figcaption class=\\\"wp-element-caption\\\">Belvédère de l’Arche</figcaption></figure>\\n</div>\\n                <div class=\\\"lightbox-image-container\\\">\\n<figure class=\\\"wp-block-image size-large enlarged-image\\\"><img decoding=\\\"async\\\" data-wp-bind--src=\\\"selectors.core.image.enlargedImgSrc\\\" data-wp-style--object-fit=\\\"selectors.core.image.lightboxObjectFit\\\" data-id=\\\"582088\\\" src=\\\"\\\" alt=\\\"\\\" class=\\\"wp-image-582088\\\"/><figcaption class=\\\"wp-element-caption\\\">Belvédère de l’Arche</figcaption></figure>\\n</div>\\n                <div class=\\\"scrim\\\" style=\\\"background-color: #fff\\\" aria-hidden=\\\"true\\\"></div>\\n        </div></figure>\\n</figure>\\n\\n\\n\\n<p><strong>Informations équipe maîtrise d’œuvre / travaux</strong></p>\\n<ul>\\n<li>Équipe de maîtrise d’œuvre composée de BigBang (MOE Paysage) et Christophe Gonnet (artiste plasticien)</li>\\n<li>Réalisation du projet : C Cube (artisan ferronnier) et Laquet (Maçonnerie et mobilier Pierre)</li>\\n</ul>\\n\\n\\n\\n<div style=\\\"height:15px\\\" aria-hidden=\\\"true\\\" class=\\\"wp-block-spacer\\\"></div>\\n\\n\\n\\n<h3><strong>Col de Rousset</strong></h3>\\n<p>Ce projet vise à réaménager le belvédère existant côté Chamaloc correspondant à l’ancienne route (ouverture du tunnel actuel en 1976). Une grande place sera laissée au végétal pour cet aménagement, et l’ancien tunnel sera réhabilité pour permettre un accès piétons, reliant ainsi le cœur de station au belvédère. Une œuvre artistique sera également créée avec un cheminement dédié jusqu’au col naturel du Rousset. « <a href=\\\"https://www.ladrome.fr/actualites/sublimes-routes-une-oeuvre-dart-au-col-de-rousset/\\\">Le lieu Décisif</a> », œuvre paysagère et artistique conçue par Liliana Motta, offrira un lieu de contemplation du grand paysage du Vercors et du Diois.</p>\\n\\n\\n\\n<h4 class=\\\"wp-block-heading\\\">Où en est-on ?</h4>\\n\\n\\n\\n<figure data-wp-context=\\\"{ &quot;core&quot;:\\n\\t\\t\\t\\t{ &quot;image&quot;:\\n\\t\\t\\t\\t\\t{   &quot;imageLoaded&quot;: false,\\n\\t\\t\\t\\t\\t\\t&quot;initialized&quot;: false,\\n\\t\\t\\t\\t\\t\\t&quot;lightboxEnabled&quot;: false,\\n\\t\\t\\t\\t\\t\\t&quot;hideAnimationEnabled&quot;: false,\\n\\t\\t\\t\\t\\t\\t&quot;preloadInitialized&quot;: false,\\n\\t\\t\\t\\t\\t\\t&quot;lightboxAnimation&quot;: &quot;zoom&quot;,\\n\\t\\t\\t\\t\\t\\t&quot;imageUploadedSrc&quot;: &quot;https://www.ladrome.fr/wp-content/uploads/2023/12/calendrier-colrousset.jpg&quot;,\\n\\t\\t\\t\\t\\t\\t&quot;imageCurrentSrc&quot;: &quot;&quot;,\\n\\t\\t\\t\\t\\t\\t&quot;targetWidth&quot;: &quot;1189&quot;,\\n\\t\\t\\t\\t\\t\\t&quot;targetHeight&quot;: &quot;550&quot;,\\n\\t\\t\\t\\t\\t\\t&quot;scaleAttr&quot;: &quot;&quot;,\\n\\t\\t\\t\\t\\t\\t&quot;dialogLabel&quot;: &quot;Image agrandie&quot;\\n\\t\\t\\t\\t\\t}\\n\\t\\t\\t\\t}\\n\\t\\t\\t}\\\" data-wp-interactive class=\\\"wp-block-image size-full wp-lightbox-container\\\"><img loading=\\\"lazy\\\" decoding=\\\"async\\\" width=\\\"1189\\\" height=\\\"550\\\" data-wp-effect--setStylesOnResize=\\\"effects.core.image.setStylesOnResize\\\" data-wp-effect=\\\"effects.core.image.setButtonStyles\\\" data-wp-init=\\\"effects.core.image.initOriginImage\\\" data-wp-on--click=\\\"actions.core.image.showLightbox\\\" data-wp-on--load=\\\"actions.core.image.handleLoad\\\" src=\\\"https://www.ladrome.fr/wp-content/uploads/2023/12/calendrier-colrousset.jpg\\\" alt=\\\"\\\" class=\\\"wp-image-582090\\\" srcset=\\\"https://www.ladrome.fr/wp-content/uploads/2023/12/calendrier-colrousset.jpg 1189w, https://www.ladrome.fr/wp-content/uploads/2023/12/calendrier-colrousset-850x393.jpg 850w, https://www.ladrome.fr/wp-content/uploads/2023/12/calendrier-colrousset-300x139.jpg 300w, https://www.ladrome.fr/wp-content/uploads/2023/12/calendrier-colrousset-768x355.jpg 768w\\\" sizes=\\\"(max-width: 1189px) 100vw, 1189px\\\" /><button\\n\\t\\t\\tclass=\\\"lightbox-trigger\\\"\\n\\t\\t\\ttype=\\\"button\\\"\\n\\t\\t\\taria-haspopup=\\\"dialog\\\"\\n\\t\\t\\taria-label=\\\"Agrandir l‘image\\\"\\n\\t\\t\\tdata-wp-on--click=\\\"actions.core.image.showLightbox\\\"\\n\\t\\t\\tdata-wp-style--right=\\\"context.core.image.imageButtonRight\\\"\\n\\t\\t\\tdata-wp-style--top=\\\"context.core.image.imageButtonTop\\\"\\n\\t\\t>\\n\\t\\t\\t<svg xmlns=\\\"http://www.w3.org/2000/svg\\\" width=\\\"12\\\" height=\\\"12\\\" fill=\\\"none\\\" viewBox=\\\"0 0 12 12\\\">\\n\\t\\t\\t\\t<path fill=\\\"#fff\\\" d=\\\"M2 0a2 2 0 0 0-2 2v2h1.5V2a.5.5 0 0 1 .5-.5h2V0H2Zm2 10.5H2a.5.5 0 0 1-.5-.5V8H0v2a2 2 0 0 0 2 2h2v-1.5ZM8 12v-1.5h2a.5.5 0 0 0 .5-.5V8H12v2a2 2 0 0 1-2 2H8Zm2-12a2 2 0 0 1 2 2v2h-1.5V2a.5.5 0 0 0-.5-.5H8V0h2Z\\\" />\\n\\t\\t\\t</svg>\\n\\t\\t</button>        <div data-wp-body=\\\"\\\" class=\\\"wp-lightbox-overlay zoom\\\"\\n            data-wp-bind--role=\\\"selectors.core.image.roleAttribute\\\"\\n            data-wp-bind--aria-label=\\\"selectors.core.image.dialogLabel\\\"\\n            data-wp-class--initialized=\\\"context.core.image.initialized\\\"\\n            data-wp-class--active=\\\"context.core.image.lightboxEnabled\\\"\\n            data-wp-class--hideAnimationEnabled=\\\"context.core.image.hideAnimationEnabled\\\"\\n            data-wp-bind--aria-modal=\\\"selectors.core.image.ariaModal\\\"\\n            data-wp-effect=\\\"effects.core.image.initLightbox\\\"\\n            data-wp-on--keydown=\\\"actions.core.image.handleKeydown\\\"\\n            data-wp-on--touchstart=\\\"actions.core.image.handleTouchStart\\\"\\n            data-wp-on--touchmove=\\\"actions.core.image.handleTouchMove\\\"\\n            data-wp-on--touchend=\\\"actions.core.image.handleTouchEnd\\\"\\n            data-wp-on--click=\\\"actions.core.image.hideLightbox\\\"\\n            tabindex=\\\"-1\\\"\\n            >\\n                <button type=\\\"button\\\" aria-label=\\\"Fermer\\\" style=\\\"fill: #000\\\" class=\\\"close-button\\\" data-wp-on--click=\\\"actions.core.image.hideLightbox\\\">\\n                    <svg xmlns=\\\"http://www.w3.org/2000/svg\\\" viewBox=\\\"0 0 24 24\\\" width=\\\"20\\\" height=\\\"20\\\" aria-hidden=\\\"true\\\" focusable=\\\"false\\\"><path d=\\\"M13 11.8l6.1-6.3-1-1-6.1 6.2-6.1-6.2-1 1 6.1 6.3-6.5 6.7 1 1 6.5-6.6 6.5 6.6 1-1z\\\"></path></svg>\\n                </button>\\n                <div class=\\\"lightbox-image-container\\\">\\n<figure class=\\\"wp-block-image size-full responsive-image\\\"><img decoding=\\\"async\\\" data-wp-bind--src=\\\"context.core.image.imageCurrentSrc\\\" data-wp-style--object-fit=\\\"selectors.core.image.lightboxObjectFit\\\" src=\\\"\\\" alt=\\\"\\\" class=\\\"wp-image-582090\\\"/></figure>\\n</div>\\n                <div class=\\\"lightbox-image-container\\\">\\n<figure class=\\\"wp-block-image size-full enlarged-image\\\"><img decoding=\\\"async\\\" data-wp-bind--src=\\\"selectors.core.image.enlargedImgSrc\\\" data-wp-style--object-fit=\\\"selectors.core.image.lightboxObjectFit\\\" src=\\\"\\\" alt=\\\"\\\" class=\\\"wp-image-582090\\\"/></figure>\\n</div>\\n                <div class=\\\"scrim\\\" style=\\\"background-color: #fff\\\" aria-hidden=\\\"true\\\"></div>\\n        </div></figure>\\n\\n\\n\\n<figure class=\\\"wp-block-gallery has-nested-images columns-default is-cropped wp-block-gallery-3 is-layout-flex wp-block-gallery-is-layout-flex\\\">\\n<figure data-wp-context=\\\"{ &quot;core&quot;:\\n\\t\\t\\t\\t{ &quot;image&quot;:\\n\\t\\t\\t\\t\\t{   &quot;imageLoaded&quot;: false,\\n\\t\\t\\t\\t\\t\\t&quot;initialized&quot;: false,\\n\\t\\t\\t\\t\\t\\t&quot;lightboxEnabled&quot;: false,\\n\\t\\t\\t\\t\\t\\t&quot;hideAnimationEnabled&quot;: false,\\n\\t\\t\\t\\t\\t\\t&quot;preloadInitialized&quot;: false,\\n\\t\\t\\t\\t\\t\\t&quot;lightboxAnimation&quot;: &quot;zoom&quot;,\\n\\t\\t\\t\\t\\t\\t&quot;imageUploadedSrc&quot;: &quot;https://www.ladrome.fr/wp-content/uploads/2023/12/rousset-avp-photomontage-01-230614-scaled.jpg&quot;,\\n\\t\\t\\t\\t\\t\\t&quot;imageCurrentSrc&quot;: &quot;&quot;,\\n\\t\\t\\t\\t\\t\\t&quot;targetWidth&quot;: &quot;2560&quot;,\\n\\t\\t\\t\\t\\t\\t&quot;targetHeight&quot;: &quot;1707&quot;,\\n\\t\\t\\t\\t\\t\\t&quot;scaleAttr&quot;: &quot;&quot;,\\n\\t\\t\\t\\t\\t\\t&quot;dialogLabel&quot;: &quot;Image agrandie&quot;\\n\\t\\t\\t\\t\\t}\\n\\t\\t\\t\\t}\\n\\t\\t\\t}\\\" data-wp-interactive class=\\\"wp-block-image size-large wp-lightbox-container\\\"><img loading=\\\"lazy\\\" decoding=\\\"async\\\" width=\\\"2480\\\" height=\\\"1653\\\" data-wp-effect--setStylesOnResize=\\\"effects.core.image.setStylesOnResize\\\" data-wp-effect=\\\"effects.core.image.setButtonStyles\\\" data-wp-init=\\\"effects.core.image.initOriginImage\\\" data-wp-on--click=\\\"actions.core.image.showLightbox\\\" data-wp-on--load=\\\"actions.core.image.handleLoad\\\" data-id=\\\"582092\\\" src=\\\"https://www.ladrome.fr/wp-content/uploads/2023/12/rousset-avp-photomontage-01-230614-2480x1653.jpg\\\" alt=\\\"\\\" class=\\\"wp-image-582092\\\" srcset=\\\"https://www.ladrome.fr/wp-content/uploads/2023/12/rousset-avp-photomontage-01-230614-2480x1653.jpg 2480w, https://www.ladrome.fr/wp-content/uploads/2023/12/rousset-avp-photomontage-01-230614-850x567.jpg 850w, https://www.ladrome.fr/wp-content/uploads/2023/12/rousset-avp-photomontage-01-230614-300x200.jpg 300w, https://www.ladrome.fr/wp-content/uploads/2023/12/rousset-avp-photomontage-01-230614-768x512.jpg 768w, https://www.ladrome.fr/wp-content/uploads/2023/12/rousset-avp-photomontage-01-230614-1536x1024.jpg 1536w, https://www.ladrome.fr/wp-content/uploads/2023/12/rousset-avp-photomontage-01-230614-2048x1365.jpg 2048w, https://www.ladrome.fr/wp-content/uploads/2023/12/rousset-avp-photomontage-01-230614-1320x880.jpg 1320w\\\" sizes=\\\"(max-width: 2480px) 100vw, 2480px\\\" /><button\\n\\t\\t\\tclass=\\\"lightbox-trigger\\\"\\n\\t\\t\\ttype=\\\"button\\\"\\n\\t\\t\\taria-haspopup=\\\"dialog\\\"\\n\\t\\t\\taria-label=\\\"Agrandir l‘image\\\"\\n\\t\\t\\tdata-wp-on--click=\\\"actions.core.image.showLightbox\\\"\\n\\t\\t\\tdata-wp-style--right=\\\"context.core.image.imageButtonRight\\\"\\n\\t\\t\\tdata-wp-style--top=\\\"context.core.image.imageButtonTop\\\"\\n\\t\\t>\\n\\t\\t\\t<svg xmlns=\\\"http://www.w3.org/2000/svg\\\" width=\\\"12\\\" height=\\\"12\\\" fill=\\\"none\\\" viewBox=\\\"0 0 12 12\\\">\\n\\t\\t\\t\\t<path fill=\\\"#fff\\\" d=\\\"M2 0a2 2 0 0 0-2 2v2h1.5V2a.5.5 0 0 1 .5-.5h2V0H2Zm2 10.5H2a.5.5 0 0 1-.5-.5V8H0v2a2 2 0 0 0 2 2h2v-1.5ZM8 12v-1.5h2a.5.5 0 0 0 .5-.5V8H12v2a2 2 0 0 1-2 2H8Zm2-12a2 2 0 0 1 2 2v2h-1.5V2a.5.5 0 0 0-.5-.5H8V0h2Z\\\" />\\n\\t\\t\\t</svg>\\n\\t\\t</button><figcaption class=\\\"wp-element-caption\\\">Projection belvédère</figcaption>        <div data-wp-body=\\\"\\\" class=\\\"wp-lightbox-overlay zoom\\\"\\n            data-wp-bind--role=\\\"selectors.core.image.roleAttribute\\\"\\n            data-wp-bind--aria-label=\\\"selectors.core.image.dialogLabel\\\"\\n            data-wp-class--initialized=\\\"context.core.image.initialized\\\"\\n            data-wp-class--active=\\\"context.core.image.lightboxEnabled\\\"\\n            data-wp-class--hideAnimationEnabled=\\\"context.core.image.hideAnimationEnabled\\\"\\n            data-wp-bind--aria-modal=\\\"selectors.core.image.ariaModal\\\"\\n            data-wp-effect=\\\"effects.core.image.initLightbox\\\"\\n            data-wp-on--keydown=\\\"actions.core.image.handleKeydown\\\"\\n            data-wp-on--touchstart=\\\"actions.core.image.handleTouchStart\\\"\\n            data-wp-on--touchmove=\\\"actions.core.image.handleTouchMove\\\"\\n            data-wp-on--touchend=\\\"actions.core.image.handleTouchEnd\\\"\\n            data-wp-on--click=\\\"actions.core.image.hideLightbox\\\"\\n            tabindex=\\\"-1\\\"\\n            >\\n                <button type=\\\"button\\\" aria-label=\\\"Fermer\\\" style=\\\"fill: #000\\\" class=\\\"close-button\\\" data-wp-on--click=\\\"actions.core.image.hideLightbox\\\">\\n                    <svg xmlns=\\\"http://www.w3.org/2000/svg\\\" viewBox=\\\"0 0 24 24\\\" width=\\\"20\\\" height=\\\"20\\\" aria-hidden=\\\"true\\\" focusable=\\\"false\\\"><path d=\\\"M13 11.8l6.1-6.3-1-1-6.1 6.2-6.1-6.2-1 1 6.1 6.3-6.5 6.7 1 1 6.5-6.6 6.5 6.6 1-1z\\\"></path></svg>\\n                </button>\\n                <div class=\\\"lightbox-image-container\\\">\\n<figure class=\\\"wp-block-image size-large responsive-image\\\"><img decoding=\\\"async\\\" data-wp-bind--src=\\\"context.core.image.imageCurrentSrc\\\" data-wp-style--object-fit=\\\"selectors.core.image.lightboxObjectFit\\\" data-id=\\\"582092\\\" src=\\\"\\\" alt=\\\"\\\" class=\\\"wp-image-582092\\\"/><figcaption class=\\\"wp-element-caption\\\">Projection belvédère</figcaption></figure>\\n</div>\\n                <div class=\\\"lightbox-image-container\\\">\\n<figure class=\\\"wp-block-image size-large enlarged-image\\\"><img decoding=\\\"async\\\" data-wp-bind--src=\\\"selectors.core.image.enlargedImgSrc\\\" data-wp-style--object-fit=\\\"selectors.core.image.lightboxObjectFit\\\" data-id=\\\"582092\\\" src=\\\"\\\" alt=\\\"\\\" class=\\\"wp-image-582092\\\"/><figcaption class=\\\"wp-element-caption\\\">Projection belvédère</figcaption></figure>\\n</div>\\n                <div class=\\\"scrim\\\" style=\\\"background-color: #fff\\\" aria-hidden=\\\"true\\\"></div>\\n        </div></figure>\\n\\n\\n\\n<figure data-wp-context=\\\"{ &quot;core&quot;:\\n\\t\\t\\t\\t{ &quot;image&quot;:\\n\\t\\t\\t\\t\\t{   &quot;imageLoaded&quot;: false,\\n\\t\\t\\t\\t\\t\\t&quot;initialized&quot;: false,\\n\\t\\t\\t\\t\\t\\t&quot;lightboxEnabled&quot;: false,\\n\\t\\t\\t\\t\\t\\t&quot;hideAnimationEnabled&quot;: false,\\n\\t\\t\\t\\t\\t\\t&quot;preloadInitialized&quot;: false,\\n\\t\\t\\t\\t\\t\\t&quot;lightboxAnimation&quot;: &quot;zoom&quot;,\\n\\t\\t\\t\\t\\t\\t&quot;imageUploadedSrc&quot;: &quot;https://www.ladrome.fr/wp-content/uploads/2023/12/rousset-avp-photomontage-03-230614-scaled.jpg&quot;,\\n\\t\\t\\t\\t\\t\\t&quot;imageCurrentSrc&quot;: &quot;&quot;,\\n\\t\\t\\t\\t\\t\\t&quot;targetWidth&quot;: &quot;2560&quot;,\\n\\t\\t\\t\\t\\t\\t&quot;targetHeight&quot;: &quot;1707&quot;,\\n\\t\\t\\t\\t\\t\\t&quot;scaleAttr&quot;: &quot;&quot;,\\n\\t\\t\\t\\t\\t\\t&quot;dialogLabel&quot;: &quot;Image agrandie&quot;\\n\\t\\t\\t\\t\\t}\\n\\t\\t\\t\\t}\\n\\t\\t\\t}\\\" data-wp-interactive class=\\\"wp-block-image size-large wp-lightbox-container\\\"><img loading=\\\"lazy\\\" decoding=\\\"async\\\" width=\\\"2480\\\" height=\\\"1653\\\" data-wp-effect--setStylesOnResize=\\\"effects.core.image.setStylesOnResize\\\" data-wp-effect=\\\"effects.core.image.setButtonStyles\\\" data-wp-init=\\\"effects.core.image.initOriginImage\\\" data-wp-on--click=\\\"actions.core.image.showLightbox\\\" data-wp-on--load=\\\"actions.core.image.handleLoad\\\" data-id=\\\"582093\\\" src=\\\"https://www.ladrome.fr/wp-content/uploads/2023/12/rousset-avp-photomontage-03-230614-2480x1653.jpg\\\" alt=\\\"\\\" class=\\\"wp-image-582093\\\" srcset=\\\"https://www.ladrome.fr/wp-content/uploads/2023/12/rousset-avp-photomontage-03-230614-2480x1653.jpg 2480w, https://www.ladrome.fr/wp-content/uploads/2023/12/rousset-avp-photomontage-03-230614-850x567.jpg 850w, https://www.ladrome.fr/wp-content/uploads/2023/12/rousset-avp-photomontage-03-230614-300x200.jpg 300w, https://www.ladrome.fr/wp-content/uploads/2023/12/rousset-avp-photomontage-03-230614-768x512.jpg 768w, https://www.ladrome.fr/wp-content/uploads/2023/12/rousset-avp-photomontage-03-230614-1536x1024.jpg 1536w, https://www.ladrome.fr/wp-content/uploads/2023/12/rousset-avp-photomontage-03-230614-2048x1365.jpg 2048w, https://www.ladrome.fr/wp-content/uploads/2023/12/rousset-avp-photomontage-03-230614-1320x880.jpg 1320w\\\" sizes=\\\"(max-width: 2480px) 100vw, 2480px\\\" /><button\\n\\t\\t\\tclass=\\\"lightbox-trigger\\\"\\n\\t\\t\\ttype=\\\"button\\\"\\n\\t\\t\\taria-haspopup=\\\"dialog\\\"\\n\\t\\t\\taria-label=\\\"Agrandir l‘image\\\"\\n\\t\\t\\tdata-wp-on--click=\\\"actions.core.image.showLightbox\\\"\\n\\t\\t\\tdata-wp-style--right=\\\"context.core.image.imageButtonRight\\\"\\n\\t\\t\\tdata-wp-style--top=\\\"context.core.image.imageButtonTop\\\"\\n\\t\\t>\\n\\t\\t\\t<svg xmlns=\\\"http://www.w3.org/2000/svg\\\" width=\\\"12\\\" height=\\\"12\\\" fill=\\\"none\\\" viewBox=\\\"0 0 12 12\\\">\\n\\t\\t\\t\\t<path fill=\\\"#fff\\\" d=\\\"M2 0a2 2 0 0 0-2 2v2h1.5V2a.5.5 0 0 1 .5-.5h2V0H2Zm2 10.5H2a.5.5 0 0 1-.5-.5V8H0v2a2 2 0 0 0 2 2h2v-1.5ZM8 12v-1.5h2a.5.5 0 0 0 .5-.5V8H12v2a2 2 0 0 1-2 2H8Zm2-12a2 2 0 0 1 2 2v2h-1.5V2a.5.5 0 0 0-.5-.5H8V0h2Z\\\" />\\n\\t\\t\\t</svg>\\n\\t\\t</button><figcaption class=\\\"wp-element-caption\\\">Projection entrée du tunnel</figcaption>        <div data-wp-body=\\\"\\\" class=\\\"wp-lightbox-overlay zoom\\\"\\n            data-wp-bind--role=\\\"selectors.core.image.roleAttribute\\\"\\n            data-wp-bind--aria-label=\\\"selectors.core.image.dialogLabel\\\"\\n            data-wp-class--initialized=\\\"context.core.image.initialized\\\"\\n            data-wp-class--active=\\\"context.core.image.lightboxEnabled\\\"\\n            data-wp-class--hideAnimationEnabled=\\\"context.core.image.hideAnimationEnabled\\\"\\n            data-wp-bind--aria-modal=\\\"selectors.core.image.ariaModal\\\"\\n            data-wp-effect=\\\"effects.core.image.initLightbox\\\"\\n            data-wp-on--keydown=\\\"actions.core.image.handleKeydown\\\"\\n            data-wp-on--touchstart=\\\"actions.core.image.handleTouchStart\\\"\\n            data-wp-on--touchmove=\\\"actions.core.image.handleTouchMove\\\"\\n            data-wp-on--touchend=\\\"actions.core.image.handleTouchEnd\\\"\\n            data-wp-on--click=\\\"actions.core.image.hideLightbox\\\"\\n            tabindex=\\\"-1\\\"\\n            >\\n                <button type=\\\"button\\\" aria-label=\\\"Fermer\\\" style=\\\"fill: #000\\\" class=\\\"close-button\\\" data-wp-on--click=\\\"actions.core.image.hideLightbox\\\">\\n                    <svg xmlns=\\\"http://www.w3.org/2000/svg\\\" viewBox=\\\"0 0 24 24\\\" width=\\\"20\\\" height=\\\"20\\\" aria-hidden=\\\"true\\\" focusable=\\\"false\\\"><path d=\\\"M13 11.8l6.1-6.3-1-1-6.1 6.2-6.1-6.2-1 1 6.1 6.3-6.5 6.7 1 1 6.5-6.6 6.5 6.6 1-1z\\\"></path></svg>\\n                </button>\\n                <div class=\\\"lightbox-image-container\\\">\\n<figure class=\\\"wp-block-image size-large responsive-image\\\"><img decoding=\\\"async\\\" data-wp-bind--src=\\\"context.core.image.imageCurrentSrc\\\" data-wp-style--object-fit=\\\"selectors.core.image.lightboxObjectFit\\\" data-id=\\\"582093\\\" src=\\\"\\\" alt=\\\"\\\" class=\\\"wp-image-582093\\\"/><figcaption class=\\\"wp-element-caption\\\">Projection entrée du tunnel</figcaption></figure>\\n</div>\\n                <div class=\\\"lightbox-image-container\\\">\\n<figure class=\\\"wp-block-image size-large enlarged-image\\\"><img decoding=\\\"async\\\" data-wp-bind--src=\\\"selectors.core.image.enlargedImgSrc\\\" data-wp-style--object-fit=\\\"selectors.core.image.lightboxObjectFit\\\" data-id=\\\"582093\\\" src=\\\"\\\" alt=\\\"\\\" class=\\\"wp-image-582093\\\"/><figcaption class=\\\"wp-element-caption\\\">Projection entrée du tunnel</figcaption></figure>\\n</div>\\n                <div class=\\\"scrim\\\" style=\\\"background-color: #fff\\\" aria-hidden=\\\"true\\\"></div>\\n        </div></figure>\\n</figure>\\n\\n\\n\\n<p><strong>Informations équipe maîtrise d’œuvre / travaux</strong></p>\\n<ul>\\n<li>Pour l’aménagement du belvédère : Équipe de maîtrise d’œuvre composée de Wald, Bipolar Production, Ressources Events, Atelier Tombolo et Liliana Motta (<a href=\\\"https://www.instagram.com/laboratoiredudehors/\\\" target=\\\"_blank\\\" rel=\\\"noopener\\\">Laboratoire du Dehors</a>)</li>\\n<li>Pour la réouverture du tunnel : Maîtres d’œuvres : Les éclaireurs (mise en lumière) – Artélia (mise en sécurité)</li>\\n</ul>\\n\\n\\n\\n<div style=\\\"height:15px\\\" aria-hidden=\\\"true\\\" class=\\\"wp-block-spacer\\\"></div>\\n\\n\\n\\n<h3><strong>Le Claps</strong></h3>\\n<p>Ce projet vise à mettre en valeur ce site classé par le retrait des stationnements du cœur du site, le confortement et la création de cheminements. L’artiste Corène Caubel accompagne ce projet en y infusant des détails artistiques et proposera une installation présentant l’histoire marquant la création des lieux.</p>\\n\\n\\n\\n<h4 class=\\\"wp-block-heading\\\">Où en est-on ?</h4>\\n\\n\\n\\n<figure data-wp-context=\\\"{ &quot;core&quot;:\\n\\t\\t\\t\\t{ &quot;image&quot;:\\n\\t\\t\\t\\t\\t{   &quot;imageLoaded&quot;: false,\\n\\t\\t\\t\\t\\t\\t&quot;initialized&quot;: false,\\n\\t\\t\\t\\t\\t\\t&quot;lightboxEnabled&quot;: false,\\n\\t\\t\\t\\t\\t\\t&quot;hideAnimationEnabled&quot;: false,\\n\\t\\t\\t\\t\\t\\t&quot;preloadInitialized&quot;: false,\\n\\t\\t\\t\\t\\t\\t&quot;lightboxAnimation&quot;: &quot;zoom&quot;,\\n\\t\\t\\t\\t\\t\\t&quot;imageUploadedSrc&quot;: &quot;https://www.ladrome.fr/wp-content/uploads/2023/12/calendrier-claps.jpg&quot;,\\n\\t\\t\\t\\t\\t\\t&quot;imageCurrentSrc&quot;: &quot;&quot;,\\n\\t\\t\\t\\t\\t\\t&quot;targetWidth&quot;: &quot;1189&quot;,\\n\\t\\t\\t\\t\\t\\t&quot;targetHeight&quot;: &quot;550&quot;,\\n\\t\\t\\t\\t\\t\\t&quot;scaleAttr&quot;: &quot;&quot;,\\n\\t\\t\\t\\t\\t\\t&quot;dialogLabel&quot;: &quot;Image agrandie&quot;\\n\\t\\t\\t\\t\\t}\\n\\t\\t\\t\\t}\\n\\t\\t\\t}\\\" data-wp-interactive class=\\\"wp-block-image size-full wp-lightbox-container\\\"><img loading=\\\"lazy\\\" decoding=\\\"async\\\" width=\\\"1189\\\" height=\\\"550\\\" data-wp-effect--setStylesOnResize=\\\"effects.core.image.setStylesOnResize\\\" data-wp-effect=\\\"effects.core.image.setButtonStyles\\\" data-wp-init=\\\"effects.core.image.initOriginImage\\\" data-wp-on--click=\\\"actions.core.image.showLightbox\\\" data-wp-on--load=\\\"actions.core.image.handleLoad\\\" src=\\\"https://www.ladrome.fr/wp-content/uploads/2023/12/calendrier-claps.jpg\\\" alt=\\\"\\\" class=\\\"wp-image-582094\\\" srcset=\\\"https://www.ladrome.fr/wp-content/uploads/2023/12/calendrier-claps.jpg 1189w, https://www.ladrome.fr/wp-content/uploads/2023/12/calendrier-claps-850x393.jpg 850w, https://www.ladrome.fr/wp-content/uploads/2023/12/calendrier-claps-300x139.jpg 300w, https://www.ladrome.fr/wp-content/uploads/2023/12/calendrier-claps-768x355.jpg 768w\\\" sizes=\\\"(max-width: 1189px) 100vw, 1189px\\\" /><button\\n\\t\\t\\tclass=\\\"lightbox-trigger\\\"\\n\\t\\t\\ttype=\\\"button\\\"\\n\\t\\t\\taria-haspopup=\\\"dialog\\\"\\n\\t\\t\\taria-label=\\\"Agrandir l‘image\\\"\\n\\t\\t\\tdata-wp-on--click=\\\"actions.core.image.showLightbox\\\"\\n\\t\\t\\tdata-wp-style--right=\\\"context.core.image.imageButtonRight\\\"\\n\\t\\t\\tdata-wp-style--top=\\\"context.core.image.imageButtonTop\\\"\\n\\t\\t>\\n\\t\\t\\t<svg xmlns=\\\"http://www.w3.org/2000/svg\\\" width=\\\"12\\\" height=\\\"12\\\" fill=\\\"none\\\" viewBox=\\\"0 0 12 12\\\">\\n\\t\\t\\t\\t<path fill=\\\"#fff\\\" d=\\\"M2 0a2 2 0 0 0-2 2v2h1.5V2a.5.5 0 0 1 .5-.5h2V0H2Zm2 10.5H2a.5.5 0 0 1-.5-.5V8H0v2a2 2 0 0 0 2 2h2v-1.5ZM8 12v-1.5h2a.5.5 0 0 0 .5-.5V8H12v2a2 2 0 0 1-2 2H8Zm2-12a2 2 0 0 1 2 2v2h-1.5V2a.5.5 0 0 0-.5-.5H8V0h2Z\\\" />\\n\\t\\t\\t</svg>\\n\\t\\t</button>        <div data-wp-body=\\\"\\\" class=\\\"wp-lightbox-overlay zoom\\\"\\n            data-wp-bind--role=\\\"selectors.core.image.roleAttribute\\\"\\n            data-wp-bind--aria-label=\\\"selectors.core.image.dialogLabel\\\"\\n            data-wp-class--initialized=\\\"context.core.image.initialized\\\"\\n            data-wp-class--active=\\\"context.core.image.lightboxEnabled\\\"\\n            data-wp-class--hideAnimationEnabled=\\\"context.core.image.hideAnimationEnabled\\\"\\n            data-wp-bind--aria-modal=\\\"selectors.core.image.ariaModal\\\"\\n            data-wp-effect=\\\"effects.core.image.initLightbox\\\"\\n            data-wp-on--keydown=\\\"actions.core.image.handleKeydown\\\"\\n            data-wp-on--touchstart=\\\"actions.core.image.handleTouchStart\\\"\\n            data-wp-on--touchmove=\\\"actions.core.image.handleTouchMove\\\"\\n            data-wp-on--touchend=\\\"actions.core.image.handleTouchEnd\\\"\\n            data-wp-on--click=\\\"actions.core.image.hideLightbox\\\"\\n            tabindex=\\\"-1\\\"\\n            >\\n                <button type=\\\"button\\\" aria-label=\\\"Fermer\\\" style=\\\"fill: #000\\\" class=\\\"close-button\\\" data-wp-on--click=\\\"actions.core.image.hideLightbox\\\">\\n                    <svg xmlns=\\\"http://www.w3.org/2000/svg\\\" viewBox=\\\"0 0 24 24\\\" width=\\\"20\\\" height=\\\"20\\\" aria-hidden=\\\"true\\\" focusable=\\\"false\\\"><path d=\\\"M13 11.8l6.1-6.3-1-1-6.1 6.2-6.1-6.2-1 1 6.1 6.3-6.5 6.7 1 1 6.5-6.6 6.5 6.6 1-1z\\\"></path></svg>\\n                </button>\\n                <div class=\\\"lightbox-image-container\\\">\\n<figure class=\\\"wp-block-image size-full responsive-image\\\"><img decoding=\\\"async\\\" data-wp-bind--src=\\\"context.core.image.imageCurrentSrc\\\" data-wp-style--object-fit=\\\"selectors.core.image.lightboxObjectFit\\\" src=\\\"\\\" alt=\\\"\\\" class=\\\"wp-image-582094\\\"/></figure>\\n</div>\\n                <div class=\\\"lightbox-image-container\\\">\\n<figure class=\\\"wp-block-image size-full enlarged-image\\\"><img decoding=\\\"async\\\" data-wp-bind--src=\\\"selectors.core.image.enlargedImgSrc\\\" data-wp-style--object-fit=\\\"selectors.core.image.lightboxObjectFit\\\" src=\\\"\\\" alt=\\\"\\\" class=\\\"wp-image-582094\\\"/></figure>\\n</div>\\n                <div class=\\\"scrim\\\" style=\\\"background-color: #fff\\\" aria-hidden=\\\"true\\\"></div>\\n        </div></figure>\\n\\n\\n\\n<figure class=\\\"wp-block-gallery has-nested-images columns-default is-cropped wp-block-gallery-4 is-layout-flex wp-block-gallery-is-layout-flex\\\">\\n<figure data-wp-context=\\\"{ &quot;core&quot;:\\n\\t\\t\\t\\t{ &quot;image&quot;:\\n\\t\\t\\t\\t\\t{   &quot;imageLoaded&quot;: false,\\n\\t\\t\\t\\t\\t\\t&quot;initialized&quot;: false,\\n\\t\\t\\t\\t\\t\\t&quot;lightboxEnabled&quot;: false,\\n\\t\\t\\t\\t\\t\\t&quot;hideAnimationEnabled&quot;: false,\\n\\t\\t\\t\\t\\t\\t&quot;preloadInitialized&quot;: false,\\n\\t\\t\\t\\t\\t\\t&quot;lightboxAnimation&quot;: &quot;zoom&quot;,\\n\\t\\t\\t\\t\\t\\t&quot;imageUploadedSrc&quot;: &quot;https://www.ladrome.fr/wp-content/uploads/2023/12/claps-2.jpg&quot;,\\n\\t\\t\\t\\t\\t\\t&quot;imageCurrentSrc&quot;: &quot;&quot;,\\n\\t\\t\\t\\t\\t\\t&quot;targetWidth&quot;: &quot;1600&quot;,\\n\\t\\t\\t\\t\\t\\t&quot;targetHeight&quot;: &quot;1068&quot;,\\n\\t\\t\\t\\t\\t\\t&quot;scaleAttr&quot;: &quot;&quot;,\\n\\t\\t\\t\\t\\t\\t&quot;dialogLabel&quot;: &quot;Image agrandie&quot;\\n\\t\\t\\t\\t\\t}\\n\\t\\t\\t\\t}\\n\\t\\t\\t}\\\" data-wp-interactive class=\\\"wp-block-image size-full wp-lightbox-container\\\"><img loading=\\\"lazy\\\" decoding=\\\"async\\\" width=\\\"1600\\\" height=\\\"1068\\\" data-wp-effect--setStylesOnResize=\\\"effects.core.image.setStylesOnResize\\\" data-wp-effect=\\\"effects.core.image.setButtonStyles\\\" data-wp-init=\\\"effects.core.image.initOriginImage\\\" data-wp-on--click=\\\"actions.core.image.showLightbox\\\" data-wp-on--load=\\\"actions.core.image.handleLoad\\\" data-id=\\\"582095\\\" src=\\\"https://www.ladrome.fr/wp-content/uploads/2023/12/claps-2.jpg\\\" alt=\\\"\\\" class=\\\"wp-image-582095\\\" srcset=\\\"https://www.ladrome.fr/wp-content/uploads/2023/12/claps-2.jpg 1600w, https://www.ladrome.fr/wp-content/uploads/2023/12/claps-2-850x567.jpg 850w, https://www.ladrome.fr/wp-content/uploads/2023/12/claps-2-300x200.jpg 300w, https://www.ladrome.fr/wp-content/uploads/2023/12/claps-2-768x513.jpg 768w, https://www.ladrome.fr/wp-content/uploads/2023/12/claps-2-1536x1025.jpg 1536w, https://www.ladrome.fr/wp-content/uploads/2023/12/claps-2-1320x881.jpg 1320w\\\" sizes=\\\"(max-width: 1600px) 100vw, 1600px\\\" /><button\\n\\t\\t\\tclass=\\\"lightbox-trigger\\\"\\n\\t\\t\\ttype=\\\"button\\\"\\n\\t\\t\\taria-haspopup=\\\"dialog\\\"\\n\\t\\t\\taria-label=\\\"Agrandir l‘image\\\"\\n\\t\\t\\tdata-wp-on--click=\\\"actions.core.image.showLightbox\\\"\\n\\t\\t\\tdata-wp-style--right=\\\"context.core.image.imageButtonRight\\\"\\n\\t\\t\\tdata-wp-style--top=\\\"context.core.image.imageButtonTop\\\"\\n\\t\\t>\\n\\t\\t\\t<svg xmlns=\\\"http://www.w3.org/2000/svg\\\" width=\\\"12\\\" height=\\\"12\\\" fill=\\\"none\\\" viewBox=\\\"0 0 12 12\\\">\\n\\t\\t\\t\\t<path fill=\\\"#fff\\\" d=\\\"M2 0a2 2 0 0 0-2 2v2h1.5V2a.5.5 0 0 1 .5-.5h2V0H2Zm2 10.5H2a.5.5 0 0 1-.5-.5V8H0v2a2 2 0 0 0 2 2h2v-1.5ZM8 12v-1.5h2a.5.5 0 0 0 .5-.5V8H12v2a2 2 0 0 1-2 2H8Zm2-12a2 2 0 0 1 2 2v2h-1.5V2a.5.5 0 0 0-.5-.5H8V0h2Z\\\" />\\n\\t\\t\\t</svg>\\n\\t\\t</button>        <div data-wp-body=\\\"\\\" class=\\\"wp-lightbox-overlay zoom\\\"\\n            data-wp-bind--role=\\\"selectors.core.image.roleAttribute\\\"\\n            data-wp-bind--aria-label=\\\"selectors.core.image.dialogLabel\\\"\\n            data-wp-class--initialized=\\\"context.core.image.initialized\\\"\\n            data-wp-class--active=\\\"context.core.image.lightboxEnabled\\\"\\n            data-wp-class--hideAnimationEnabled=\\\"context.core.image.hideAnimationEnabled\\\"\\n            data-wp-bind--aria-modal=\\\"selectors.core.image.ariaModal\\\"\\n            data-wp-effect=\\\"effects.core.image.initLightbox\\\"\\n            data-wp-on--keydown=\\\"actions.core.image.handleKeydown\\\"\\n            data-wp-on--touchstart=\\\"actions.core.image.handleTouchStart\\\"\\n            data-wp-on--touchmove=\\\"actions.core.image.handleTouchMove\\\"\\n            data-wp-on--touchend=\\\"actions.core.image.handleTouchEnd\\\"\\n            data-wp-on--click=\\\"actions.core.image.hideLightbox\\\"\\n            tabindex=\\\"-1\\\"\\n            >\\n                <button type=\\\"button\\\" aria-label=\\\"Fermer\\\" style=\\\"fill: #000\\\" class=\\\"close-button\\\" data-wp-on--click=\\\"actions.core.image.hideLightbox\\\">\\n                    <svg xmlns=\\\"http://www.w3.org/2000/svg\\\" viewBox=\\\"0 0 24 24\\\" width=\\\"20\\\" height=\\\"20\\\" aria-hidden=\\\"true\\\" focusable=\\\"false\\\"><path d=\\\"M13 11.8l6.1-6.3-1-1-6.1 6.2-6.1-6.2-1 1 6.1 6.3-6.5 6.7 1 1 6.5-6.6 6.5 6.6 1-1z\\\"></path></svg>\\n                </button>\\n                <div class=\\\"lightbox-image-container\\\">\\n<figure class=\\\"wp-block-image size-full responsive-image\\\"><img decoding=\\\"async\\\" data-wp-bind--src=\\\"context.core.image.imageCurrentSrc\\\" data-wp-style--object-fit=\\\"selectors.core.image.lightboxObjectFit\\\" data-id=\\\"582095\\\" src=\\\"\\\" alt=\\\"\\\" class=\\\"wp-image-582095\\\"/></figure>\\n</div>\\n                <div class=\\\"lightbox-image-container\\\">\\n<figure class=\\\"wp-block-image size-full enlarged-image\\\"><img decoding=\\\"async\\\" data-wp-bind--src=\\\"selectors.core.image.enlargedImgSrc\\\" data-wp-style--object-fit=\\\"selectors.core.image.lightboxObjectFit\\\" data-id=\\\"582095\\\" src=\\\"\\\" alt=\\\"\\\" class=\\\"wp-image-582095\\\"/></figure>\\n</div>\\n                <div class=\\\"scrim\\\" style=\\\"background-color: #fff\\\" aria-hidden=\\\"true\\\"></div>\\n        </div></figure>\\n\\n\\n\\n<figure data-wp-context=\\\"{ &quot;core&quot;:\\n\\t\\t\\t\\t{ &quot;image&quot;:\\n\\t\\t\\t\\t\\t{   &quot;imageLoaded&quot;: false,\\n\\t\\t\\t\\t\\t\\t&quot;initialized&quot;: false,\\n\\t\\t\\t\\t\\t\\t&quot;lightboxEnabled&quot;: false,\\n\\t\\t\\t\\t\\t\\t&quot;hideAnimationEnabled&quot;: false,\\n\\t\\t\\t\\t\\t\\t&quot;preloadInitialized&quot;: false,\\n\\t\\t\\t\\t\\t\\t&quot;lightboxAnimation&quot;: &quot;zoom&quot;,\\n\\t\\t\\t\\t\\t\\t&quot;imageUploadedSrc&quot;: &quot;https://www.ladrome.fr/wp-content/uploads/2023/12/claps-4.jpg&quot;,\\n\\t\\t\\t\\t\\t\\t&quot;imageCurrentSrc&quot;: &quot;&quot;,\\n\\t\\t\\t\\t\\t\\t&quot;targetWidth&quot;: &quot;1600&quot;,\\n\\t\\t\\t\\t\\t\\t&quot;targetHeight&quot;: &quot;1065&quot;,\\n\\t\\t\\t\\t\\t\\t&quot;scaleAttr&quot;: &quot;&quot;,\\n\\t\\t\\t\\t\\t\\t&quot;dialogLabel&quot;: &quot;Image agrandie&quot;\\n\\t\\t\\t\\t\\t}\\n\\t\\t\\t\\t}\\n\\t\\t\\t}\\\" data-wp-interactive class=\\\"wp-block-image size-full wp-lightbox-container\\\"><img loading=\\\"lazy\\\" decoding=\\\"async\\\" width=\\\"1600\\\" height=\\\"1065\\\" data-wp-effect--setStylesOnResize=\\\"effects.core.image.setStylesOnResize\\\" data-wp-effect=\\\"effects.core.image.setButtonStyles\\\" data-wp-init=\\\"effects.core.image.initOriginImage\\\" data-wp-on--click=\\\"actions.core.image.showLightbox\\\" data-wp-on--load=\\\"actions.core.image.handleLoad\\\" data-id=\\\"582096\\\" src=\\\"https://www.ladrome.fr/wp-content/uploads/2023/12/claps-4.jpg\\\" alt=\\\"\\\" class=\\\"wp-image-582096\\\" srcset=\\\"https://www.ladrome.fr/wp-content/uploads/2023/12/claps-4.jpg 1600w, https://www.ladrome.fr/wp-content/uploads/2023/12/claps-4-850x566.jpg 850w, https://www.ladrome.fr/wp-content/uploads/2023/12/claps-4-300x200.jpg 300w, https://www.ladrome.fr/wp-content/uploads/2023/12/claps-4-768x511.jpg 768w, https://www.ladrome.fr/wp-content/uploads/2023/12/claps-4-1536x1022.jpg 1536w, https://www.ladrome.fr/wp-content/uploads/2023/12/claps-4-1320x879.jpg 1320w\\\" sizes=\\\"(max-width: 1600px) 100vw, 1600px\\\" /><button\\n\\t\\t\\tclass=\\\"lightbox-trigger\\\"\\n\\t\\t\\ttype=\\\"button\\\"\\n\\t\\t\\taria-haspopup=\\\"dialog\\\"\\n\\t\\t\\taria-label=\\\"Agrandir l‘image\\\"\\n\\t\\t\\tdata-wp-on--click=\\\"actions.core.image.showLightbox\\\"\\n\\t\\t\\tdata-wp-style--right=\\\"context.core.image.imageButtonRight\\\"\\n\\t\\t\\tdata-wp-style--top=\\\"context.core.image.imageButtonTop\\\"\\n\\t\\t>\\n\\t\\t\\t<svg xmlns=\\\"http://www.w3.org/2000/svg\\\" width=\\\"12\\\" height=\\\"12\\\" fill=\\\"none\\\" viewBox=\\\"0 0 12 12\\\">\\n\\t\\t\\t\\t<path fill=\\\"#fff\\\" d=\\\"M2 0a2 2 0 0 0-2 2v2h1.5V2a.5.5 0 0 1 .5-.5h2V0H2Zm2 10.5H2a.5.5 0 0 1-.5-.5V8H0v2a2 2 0 0 0 2 2h2v-1.5ZM8 12v-1.5h2a.5.5 0 0 0 .5-.5V8H12v2a2 2 0 0 1-2 2H8Zm2-12a2 2 0 0 1 2 2v2h-1.5V2a.5.5 0 0 0-.5-.5H8V0h2Z\\\" />\\n\\t\\t\\t</svg>\\n\\t\\t</button>        <div data-wp-body=\\\"\\\" class=\\\"wp-lightbox-overlay zoom\\\"\\n            data-wp-bind--role=\\\"selectors.core.image.roleAttribute\\\"\\n            data-wp-bind--aria-label=\\\"selectors.core.image.dialogLabel\\\"\\n            data-wp-class--initialized=\\\"context.core.image.initialized\\\"\\n            data-wp-class--active=\\\"context.core.image.lightboxEnabled\\\"\\n            data-wp-class--hideAnimationEnabled=\\\"context.core.image.hideAnimationEnabled\\\"\\n            data-wp-bind--aria-modal=\\\"selectors.core.image.ariaModal\\\"\\n            data-wp-effect=\\\"effects.core.image.initLightbox\\\"\\n            data-wp-on--keydown=\\\"actions.core.image.handleKeydown\\\"\\n            data-wp-on--touchstart=\\\"actions.core.image.handleTouchStart\\\"\\n            data-wp-on--touchmove=\\\"actions.core.image.handleTouchMove\\\"\\n            data-wp-on--touchend=\\\"actions.core.image.handleTouchEnd\\\"\\n            data-wp-on--click=\\\"actions.core.image.hideLightbox\\\"\\n            tabindex=\\\"-1\\\"\\n            >\\n                <button type=\\\"button\\\" aria-label=\\\"Fermer\\\" style=\\\"fill: #000\\\" class=\\\"close-button\\\" data-wp-on--click=\\\"actions.core.image.hideLightbox\\\">\\n                    <svg xmlns=\\\"http://www.w3.org/2000/svg\\\" viewBox=\\\"0 0 24 24\\\" width=\\\"20\\\" height=\\\"20\\\" aria-hidden=\\\"true\\\" focusable=\\\"false\\\"><path d=\\\"M13 11.8l6.1-6.3-1-1-6.1 6.2-6.1-6.2-1 1 6.1 6.3-6.5 6.7 1 1 6.5-6.6 6.5 6.6 1-1z\\\"></path></svg>\\n                </button>\\n                <div class=\\\"lightbox-image-container\\\">\\n<figure class=\\\"wp-block-image size-full responsive-image\\\"><img decoding=\\\"async\\\" data-wp-bind--src=\\\"context.core.image.imageCurrentSrc\\\" data-wp-style--object-fit=\\\"selectors.core.image.lightboxObjectFit\\\" data-id=\\\"582096\\\" src=\\\"\\\" alt=\\\"\\\" class=\\\"wp-image-582096\\\"/></figure>\\n</div>\\n                <div class=\\\"lightbox-image-container\\\">\\n<figure class=\\\"wp-block-image size-full enlarged-image\\\"><img decoding=\\\"async\\\" data-wp-bind--src=\\\"selectors.core.image.enlargedImgSrc\\\" data-wp-style--object-fit=\\\"selectors.core.image.lightboxObjectFit\\\" data-id=\\\"582096\\\" src=\\\"\\\" alt=\\\"\\\" class=\\\"wp-image-582096\\\"/></figure>\\n</div>\\n                <div class=\\\"scrim\\\" style=\\\"background-color: #fff\\\" aria-hidden=\\\"true\\\"></div>\\n        </div></figure>\\n</figure>\\n\\n\\n\\n<p><strong>Informations équipe maîtrise d’œuvre / travaux</strong></p>\\n<ul>\\n<li>Équipe de maîtrise d’œuvre composée d’Atelier L Paysage (paysagiste concepteur), Corène Caubel (Artiste), Suez (VRD et hydraulique) et Géovallées (géomètre)</li>\\n</ul>\\n\\n\\n\\n<div style=\\\"height:15px\\\" aria-hidden=\\\"true\\\" class=\\\"wp-block-spacer\\\"></div>\\n\\n\\n\\n<h3>Pont du Tram</h3>\\n<p>Ce projet consiste en la réouverture du pont entre les communes de St Jean en Royans et de St Laurent en Royans, destiné aux <strong>modes doux uniquement (piéton et cyclo)</strong>.</p>\\n<p>Ce viaduc de 55 m et d’une hauteur de 34 m au-dessus du ruisseau du Cholet est un rare témoignage du tramway reliant Bourg-de-Péage à Sainte Eulalie-en-Royans et du développement du chemin de fer dans la Drôme. De ce pont patrimonial se dévoile le panorama de l’un des plus beaux sites du Royans, la Combe Laval.</p>\\n<p>L’étude technique en cours, lancée en octobre 2023 par le Département, concerne la remise en l’état de la structure du pont.</p>\\n\\n\\n\\n<h4 class=\\\"wp-block-heading\\\">Où en est-on ?</h4>\\n\\n\\n\\n<figure data-wp-context=\\\"{ &quot;core&quot;:\\n\\t\\t\\t\\t{ &quot;image&quot;:\\n\\t\\t\\t\\t\\t{   &quot;imageLoaded&quot;: false,\\n\\t\\t\\t\\t\\t\\t&quot;initialized&quot;: false,\\n\\t\\t\\t\\t\\t\\t&quot;lightboxEnabled&quot;: false,\\n\\t\\t\\t\\t\\t\\t&quot;hideAnimationEnabled&quot;: false,\\n\\t\\t\\t\\t\\t\\t&quot;preloadInitialized&quot;: false,\\n\\t\\t\\t\\t\\t\\t&quot;lightboxAnimation&quot;: &quot;zoom&quot;,\\n\\t\\t\\t\\t\\t\\t&quot;imageUploadedSrc&quot;: &quot;https://www.ladrome.fr/wp-content/uploads/2023/12/calendrier-pontdutram.png&quot;,\\n\\t\\t\\t\\t\\t\\t&quot;imageCurrentSrc&quot;: &quot;&quot;,\\n\\t\\t\\t\\t\\t\\t&quot;targetWidth&quot;: &quot;1199&quot;,\\n\\t\\t\\t\\t\\t\\t&quot;targetHeight&quot;: &quot;541&quot;,\\n\\t\\t\\t\\t\\t\\t&quot;scaleAttr&quot;: &quot;&quot;,\\n\\t\\t\\t\\t\\t\\t&quot;dialogLabel&quot;: &quot;Image agrandie&quot;\\n\\t\\t\\t\\t\\t}\\n\\t\\t\\t\\t}\\n\\t\\t\\t}\\\" data-wp-interactive class=\\\"wp-block-image size-full wp-lightbox-container\\\"><img loading=\\\"lazy\\\" decoding=\\\"async\\\" width=\\\"1199\\\" height=\\\"541\\\" data-wp-effect--setStylesOnResize=\\\"effects.core.image.setStylesOnResize\\\" data-wp-effect=\\\"effects.core.image.setButtonStyles\\\" data-wp-init=\\\"effects.core.image.initOriginImage\\\" data-wp-on--click=\\\"actions.core.image.showLightbox\\\" data-wp-on--load=\\\"actions.core.image.handleLoad\\\" src=\\\"https://www.ladrome.fr/wp-content/uploads/2023/12/calendrier-pontdutram.png\\\" alt=\\\"\\\" class=\\\"wp-image-582097\\\" srcset=\\\"https://www.ladrome.fr/wp-content/uploads/2023/12/calendrier-pontdutram.png 1199w, https://www.ladrome.fr/wp-content/uploads/2023/12/calendrier-pontdutram-850x384.png 850w, https://www.ladrome.fr/wp-content/uploads/2023/12/calendrier-pontdutram-300x135.png 300w, https://www.ladrome.fr/wp-content/uploads/2023/12/calendrier-pontdutram-768x347.png 768w\\\" sizes=\\\"(max-width: 1199px) 100vw, 1199px\\\" /><button\\n\\t\\t\\tclass=\\\"lightbox-trigger\\\"\\n\\t\\t\\ttype=\\\"button\\\"\\n\\t\\t\\taria-haspopup=\\\"dialog\\\"\\n\\t\\t\\taria-label=\\\"Agrandir l‘image\\\"\\n\\t\\t\\tdata-wp-on--click=\\\"actions.core.image.showLightbox\\\"\\n\\t\\t\\tdata-wp-style--right=\\\"context.core.image.imageButtonRight\\\"\\n\\t\\t\\tdata-wp-style--top=\\\"context.core.image.imageButtonTop\\\"\\n\\t\\t>\\n\\t\\t\\t<svg xmlns=\\\"http://www.w3.org/2000/svg\\\" width=\\\"12\\\" height=\\\"12\\\" fill=\\\"none\\\" viewBox=\\\"0 0 12 12\\\">\\n\\t\\t\\t\\t<path fill=\\\"#fff\\\" d=\\\"M2 0a2 2 0 0 0-2 2v2h1.5V2a.5.5 0 0 1 .5-.5h2V0H2Zm2 10.5H2a.5.5 0 0 1-.5-.5V8H0v2a2 2 0 0 0 2 2h2v-1.5ZM8 12v-1.5h2a.5.5 0 0 0 .5-.5V8H12v2a2 2 0 0 1-2 2H8Zm2-12a2 2 0 0 1 2 2v2h-1.5V2a.5.5 0 0 0-.5-.5H8V0h2Z\\\" />\\n\\t\\t\\t</svg>\\n\\t\\t</button>        <div data-wp-body=\\\"\\\" class=\\\"wp-lightbox-overlay zoom\\\"\\n            data-wp-bind--role=\\\"selectors.core.image.roleAttribute\\\"\\n            data-wp-bind--aria-label=\\\"selectors.core.image.dialogLabel\\\"\\n            data-wp-class--initialized=\\\"context.core.image.initialized\\\"\\n            data-wp-class--active=\\\"context.core.image.lightboxEnabled\\\"\\n            data-wp-class--hideAnimationEnabled=\\\"context.core.image.hideAnimationEnabled\\\"\\n            data-wp-bind--aria-modal=\\\"selectors.core.image.ariaModal\\\"\\n            data-wp-effect=\\\"effects.core.image.initLightbox\\\"\\n            data-wp-on--keydown=\\\"actions.core.image.handleKeydown\\\"\\n            data-wp-on--touchstart=\\\"actions.core.image.handleTouchStart\\\"\\n            data-wp-on--touchmove=\\\"actions.core.image.handleTouchMove\\\"\\n            data-wp-on--touchend=\\\"actions.core.image.handleTouchEnd\\\"\\n            data-wp-on--click=\\\"actions.core.image.hideLightbox\\\"\\n            tabindex=\\\"-1\\\"\\n            >\\n                <button type=\\\"button\\\" aria-label=\\\"Fermer\\\" style=\\\"fill: #000\\\" class=\\\"close-button\\\" data-wp-on--click=\\\"actions.core.image.hideLightbox\\\">\\n                    <svg xmlns=\\\"http://www.w3.org/2000/svg\\\" viewBox=\\\"0 0 24 24\\\" width=\\\"20\\\" height=\\\"20\\\" aria-hidden=\\\"true\\\" focusable=\\\"false\\\"><path d=\\\"M13 11.8l6.1-6.3-1-1-6.1 6.2-6.1-6.2-1 1 6.1 6.3-6.5 6.7 1 1 6.5-6.6 6.5 6.6 1-1z\\\"></path></svg>\\n                </button>\\n                <div class=\\\"lightbox-image-container\\\">\\n<figure class=\\\"wp-block-image size-full responsive-image\\\"><img decoding=\\\"async\\\" data-wp-bind--src=\\\"context.core.image.imageCurrentSrc\\\" data-wp-style--object-fit=\\\"selectors.core.image.lightboxObjectFit\\\" src=\\\"\\\" alt=\\\"\\\" class=\\\"wp-image-582097\\\"/></figure>\\n</div>\\n                <div class=\\\"lightbox-image-container\\\">\\n<figure class=\\\"wp-block-image size-full enlarged-image\\\"><img decoding=\\\"async\\\" data-wp-bind--src=\\\"selectors.core.image.enlargedImgSrc\\\" data-wp-style--object-fit=\\\"selectors.core.image.lightboxObjectFit\\\" src=\\\"\\\" alt=\\\"\\\" class=\\\"wp-image-582097\\\"/></figure>\\n</div>\\n                <div class=\\\"scrim\\\" style=\\\"background-color: #fff\\\" aria-hidden=\\\"true\\\"></div>\\n        </div></figure>\\n\\n\\n\\n<figure class=\\\"wp-block-gallery has-nested-images columns-default is-cropped wp-block-gallery-5 is-layout-flex wp-block-gallery-is-layout-flex\\\">\\n<figure data-wp-context=\\\"{ &quot;core&quot;:\\n\\t\\t\\t\\t{ &quot;image&quot;:\\n\\t\\t\\t\\t\\t{   &quot;imageLoaded&quot;: false,\\n\\t\\t\\t\\t\\t\\t&quot;initialized&quot;: false,\\n\\t\\t\\t\\t\\t\\t&quot;lightboxEnabled&quot;: false,\\n\\t\\t\\t\\t\\t\\t&quot;hideAnimationEnabled&quot;: false,\\n\\t\\t\\t\\t\\t\\t&quot;preloadInitialized&quot;: false,\\n\\t\\t\\t\\t\\t\\t&quot;lightboxAnimation&quot;: &quot;zoom&quot;,\\n\\t\\t\\t\\t\\t\\t&quot;imageUploadedSrc&quot;: &quot;https://www.ladrome.fr/wp-content/uploads/2023/12/pont-du-tram-matras-001.jpg&quot;,\\n\\t\\t\\t\\t\\t\\t&quot;imageCurrentSrc&quot;: &quot;&quot;,\\n\\t\\t\\t\\t\\t\\t&quot;targetWidth&quot;: &quot;1600&quot;,\\n\\t\\t\\t\\t\\t\\t&quot;targetHeight&quot;: &quot;1067&quot;,\\n\\t\\t\\t\\t\\t\\t&quot;scaleAttr&quot;: &quot;&quot;,\\n\\t\\t\\t\\t\\t\\t&quot;dialogLabel&quot;: &quot;Image agrandie&quot;\\n\\t\\t\\t\\t\\t}\\n\\t\\t\\t\\t}\\n\\t\\t\\t}\\\" data-wp-interactive class=\\\"wp-block-image size-full wp-lightbox-container\\\"><img loading=\\\"lazy\\\" decoding=\\\"async\\\" width=\\\"1600\\\" height=\\\"1067\\\" data-wp-effect--setStylesOnResize=\\\"effects.core.image.setStylesOnResize\\\" data-wp-effect=\\\"effects.core.image.setButtonStyles\\\" data-wp-init=\\\"effects.core.image.initOriginImage\\\" data-wp-on--click=\\\"actions.core.image.showLightbox\\\" data-wp-on--load=\\\"actions.core.image.handleLoad\\\" data-id=\\\"582098\\\" src=\\\"https://www.ladrome.fr/wp-content/uploads/2023/12/pont-du-tram-matras-001.jpg\\\" alt=\\\"\\\" class=\\\"wp-image-582098\\\" srcset=\\\"https://www.ladrome.fr/wp-content/uploads/2023/12/pont-du-tram-matras-001.jpg 1600w, https://www.ladrome.fr/wp-content/uploads/2023/12/pont-du-tram-matras-001-850x567.jpg 850w, https://www.ladrome.fr/wp-content/uploads/2023/12/pont-du-tram-matras-001-300x200.jpg 300w, https://www.ladrome.fr/wp-content/uploads/2023/12/pont-du-tram-matras-001-768x512.jpg 768w, https://www.ladrome.fr/wp-content/uploads/2023/12/pont-du-tram-matras-001-1536x1024.jpg 1536w, https://www.ladrome.fr/wp-content/uploads/2023/12/pont-du-tram-matras-001-1320x880.jpg 1320w\\\" sizes=\\\"(max-width: 1600px) 100vw, 1600px\\\" /><button\\n\\t\\t\\tclass=\\\"lightbox-trigger\\\"\\n\\t\\t\\ttype=\\\"button\\\"\\n\\t\\t\\taria-haspopup=\\\"dialog\\\"\\n\\t\\t\\taria-label=\\\"Agrandir l‘image\\\"\\n\\t\\t\\tdata-wp-on--click=\\\"actions.core.image.showLightbox\\\"\\n\\t\\t\\tdata-wp-style--right=\\\"context.core.image.imageButtonRight\\\"\\n\\t\\t\\tdata-wp-style--top=\\\"context.core.image.imageButtonTop\\\"\\n\\t\\t>\\n\\t\\t\\t<svg xmlns=\\\"http://www.w3.org/2000/svg\\\" width=\\\"12\\\" height=\\\"12\\\" fill=\\\"none\\\" viewBox=\\\"0 0 12 12\\\">\\n\\t\\t\\t\\t<path fill=\\\"#fff\\\" d=\\\"M2 0a2 2 0 0 0-2 2v2h1.5V2a.5.5 0 0 1 .5-.5h2V0H2Zm2 10.5H2a.5.5 0 0 1-.5-.5V8H0v2a2 2 0 0 0 2 2h2v-1.5ZM8 12v-1.5h2a.5.5 0 0 0 .5-.5V8H12v2a2 2 0 0 1-2 2H8Zm2-12a2 2 0 0 1 2 2v2h-1.5V2a.5.5 0 0 0-.5-.5H8V0h2Z\\\" />\\n\\t\\t\\t</svg>\\n\\t\\t</button>        <div data-wp-body=\\\"\\\" class=\\\"wp-lightbox-overlay zoom\\\"\\n            data-wp-bind--role=\\\"selectors.core.image.roleAttribute\\\"\\n            data-wp-bind--aria-label=\\\"selectors.core.image.dialogLabel\\\"\\n            data-wp-class--initialized=\\\"context.core.image.initialized\\\"\\n            data-wp-class--active=\\\"context.core.image.lightboxEnabled\\\"\\n            data-wp-class--hideAnimationEnabled=\\\"context.core.image.hideAnimationEnabled\\\"\\n            data-wp-bind--aria-modal=\\\"selectors.core.image.ariaModal\\\"\\n            data-wp-effect=\\\"effects.core.image.initLightbox\\\"\\n            data-wp-on--keydown=\\\"actions.core.image.handleKeydown\\\"\\n            data-wp-on--touchstart=\\\"actions.core.image.handleTouchStart\\\"\\n            data-wp-on--touchmove=\\\"actions.core.image.handleTouchMove\\\"\\n            data-wp-on--touchend=\\\"actions.core.image.handleTouchEnd\\\"\\n            data-wp-on--click=\\\"actions.core.image.hideLightbox\\\"\\n            tabindex=\\\"-1\\\"\\n            >\\n                <button type=\\\"button\\\" aria-label=\\\"Fermer\\\" style=\\\"fill: #000\\\" class=\\\"close-button\\\" data-wp-on--click=\\\"actions.core.image.hideLightbox\\\">\\n                    <svg xmlns=\\\"http://www.w3.org/2000/svg\\\" viewBox=\\\"0 0 24 24\\\" width=\\\"20\\\" height=\\\"20\\\" aria-hidden=\\\"true\\\" focusable=\\\"false\\\"><path d=\\\"M13 11.8l6.1-6.3-1-1-6.1 6.2-6.1-6.2-1 1 6.1 6.3-6.5 6.7 1 1 6.5-6.6 6.5 6.6 1-1z\\\"></path></svg>\\n                </button>\\n                <div class=\\\"lightbox-image-container\\\">\\n<figure class=\\\"wp-block-image size-full responsive-image\\\"><img decoding=\\\"async\\\" data-wp-bind--src=\\\"context.core.image.imageCurrentSrc\\\" data-wp-style--object-fit=\\\"selectors.core.image.lightboxObjectFit\\\" data-id=\\\"582098\\\" src=\\\"\\\" alt=\\\"\\\" class=\\\"wp-image-582098\\\"/></figure>\\n</div>\\n                <div class=\\\"lightbox-image-container\\\">\\n<figure class=\\\"wp-block-image size-full enlarged-image\\\"><img decoding=\\\"async\\\" data-wp-bind--src=\\\"selectors.core.image.enlargedImgSrc\\\" data-wp-style--object-fit=\\\"selectors.core.image.lightboxObjectFit\\\" data-id=\\\"582098\\\" src=\\\"\\\" alt=\\\"\\\" class=\\\"wp-image-582098\\\"/></figure>\\n</div>\\n                <div class=\\\"scrim\\\" style=\\\"background-color: #fff\\\" aria-hidden=\\\"true\\\"></div>\\n        </div></figure>\\n\\n\\n\\n<figure data-wp-context=\\\"{ &quot;core&quot;:\\n\\t\\t\\t\\t{ &quot;image&quot;:\\n\\t\\t\\t\\t\\t{   &quot;imageLoaded&quot;: false,\\n\\t\\t\\t\\t\\t\\t&quot;initialized&quot;: false,\\n\\t\\t\\t\\t\\t\\t&quot;lightboxEnabled&quot;: false,\\n\\t\\t\\t\\t\\t\\t&quot;hideAnimationEnabled&quot;: false,\\n\\t\\t\\t\\t\\t\\t&quot;preloadInitialized&quot;: false,\\n\\t\\t\\t\\t\\t\\t&quot;lightboxAnimation&quot;: &quot;zoom&quot;,\\n\\t\\t\\t\\t\\t\\t&quot;imageUploadedSrc&quot;: &quot;https://www.ladrome.fr/wp-content/uploads/2023/12/pont-du-tram-matras-006.jpg&quot;,\\n\\t\\t\\t\\t\\t\\t&quot;imageCurrentSrc&quot;: &quot;&quot;,\\n\\t\\t\\t\\t\\t\\t&quot;targetWidth&quot;: &quot;1600&quot;,\\n\\t\\t\\t\\t\\t\\t&quot;targetHeight&quot;: &quot;1067&quot;,\\n\\t\\t\\t\\t\\t\\t&quot;scaleAttr&quot;: &quot;&quot;,\\n\\t\\t\\t\\t\\t\\t&quot;dialogLabel&quot;: &quot;Image agrandie&quot;\\n\\t\\t\\t\\t\\t}\\n\\t\\t\\t\\t}\\n\\t\\t\\t}\\\" data-wp-interactive class=\\\"wp-block-image size-full wp-lightbox-container\\\"><img loading=\\\"lazy\\\" decoding=\\\"async\\\" width=\\\"1600\\\" height=\\\"1067\\\" data-wp-effect--setStylesOnResize=\\\"effects.core.image.setStylesOnResize\\\" data-wp-effect=\\\"effects.core.image.setButtonStyles\\\" data-wp-init=\\\"effects.core.image.initOriginImage\\\" data-wp-on--click=\\\"actions.core.image.showLightbox\\\" data-wp-on--load=\\\"actions.core.image.handleLoad\\\" data-id=\\\"582099\\\" src=\\\"https://www.ladrome.fr/wp-content/uploads/2023/12/pont-du-tram-matras-006.jpg\\\" alt=\\\"\\\" class=\\\"wp-image-582099\\\" srcset=\\\"https://www.ladrome.fr/wp-content/uploads/2023/12/pont-du-tram-matras-006.jpg 1600w, https://www.ladrome.fr/wp-content/uploads/2023/12/pont-du-tram-matras-006-850x567.jpg 850w, https://www.ladrome.fr/wp-content/uploads/2023/12/pont-du-tram-matras-006-300x200.jpg 300w, https://www.ladrome.fr/wp-content/uploads/2023/12/pont-du-tram-matras-006-768x512.jpg 768w, https://www.ladrome.fr/wp-content/uploads/2023/12/pont-du-tram-matras-006-1536x1024.jpg 1536w, https://www.ladrome.fr/wp-content/uploads/2023/12/pont-du-tram-matras-006-1320x880.jpg 1320w\\\" sizes=\\\"(max-width: 1600px) 100vw, 1600px\\\" /><button\\n\\t\\t\\tclass=\\\"lightbox-trigger\\\"\\n\\t\\t\\ttype=\\\"button\\\"\\n\\t\\t\\taria-haspopup=\\\"dialog\\\"\\n\\t\\t\\taria-label=\\\"Agrandir l‘image\\\"\\n\\t\\t\\tdata-wp-on--click=\\\"actions.core.image.showLightbox\\\"\\n\\t\\t\\tdata-wp-style--right=\\\"context.core.image.imageButtonRight\\\"\\n\\t\\t\\tdata-wp-style--top=\\\"context.core.image.imageButtonTop\\\"\\n\\t\\t>\\n\\t\\t\\t<svg xmlns=\\\"http://www.w3.org/2000/svg\\\" width=\\\"12\\\" height=\\\"12\\\" fill=\\\"none\\\" viewBox=\\\"0 0 12 12\\\">\\n\\t\\t\\t\\t<path fill=\\\"#fff\\\" d=\\\"M2 0a2 2 0 0 0-2 2v2h1.5V2a.5.5 0 0 1 .5-.5h2V0H2Zm2 10.5H2a.5.5 0 0 1-.5-.5V8H0v2a2 2 0 0 0 2 2h2v-1.5ZM8 12v-1.5h2a.5.5 0 0 0 .5-.5V8H12v2a2 2 0 0 1-2 2H8Zm2-12a2 2 0 0 1 2 2v2h-1.5V2a.5.5 0 0 0-.5-.5H8V0h2Z\\\" />\\n\\t\\t\\t</svg>\\n\\t\\t</button>        <div data-wp-body=\\\"\\\" class=\\\"wp-lightbox-overlay zoom\\\"\\n            data-wp-bind--role=\\\"selectors.core.image.roleAttribute\\\"\\n            data-wp-bind--aria-label=\\\"selectors.core.image.dialogLabel\\\"\\n            data-wp-class--initialized=\\\"context.core.image.initialized\\\"\\n            data-wp-class--active=\\\"context.core.image.lightboxEnabled\\\"\\n            data-wp-class--hideAnimationEnabled=\\\"context.core.image.hideAnimationEnabled\\\"\\n            data-wp-bind--aria-modal=\\\"selectors.core.image.ariaModal\\\"\\n            data-wp-effect=\\\"effects.core.image.initLightbox\\\"\\n            data-wp-on--keydown=\\\"actions.core.image.handleKeydown\\\"\\n            data-wp-on--touchstart=\\\"actions.core.image.handleTouchStart\\\"\\n            data-wp-on--touchmove=\\\"actions.core.image.handleTouchMove\\\"\\n            data-wp-on--touchend=\\\"actions.core.image.handleTouchEnd\\\"\\n            data-wp-on--click=\\\"actions.core.image.hideLightbox\\\"\\n            tabindex=\\\"-1\\\"\\n            >\\n                <button type=\\\"button\\\" aria-label=\\\"Fermer\\\" style=\\\"fill: #000\\\" class=\\\"close-button\\\" data-wp-on--click=\\\"actions.core.image.hideLightbox\\\">\\n                    <svg xmlns=\\\"http://www.w3.org/2000/svg\\\" viewBox=\\\"0 0 24 24\\\" width=\\\"20\\\" height=\\\"20\\\" aria-hidden=\\\"true\\\" focusable=\\\"false\\\"><path d=\\\"M13 11.8l6.1-6.3-1-1-6.1 6.2-6.1-6.2-1 1 6.1 6.3-6.5 6.7 1 1 6.5-6.6 6.5 6.6 1-1z\\\"></path></svg>\\n                </button>\\n                <div class=\\\"lightbox-image-container\\\">\\n<figure class=\\\"wp-block-image size-full responsive-image\\\"><img decoding=\\\"async\\\" data-wp-bind--src=\\\"context.core.image.imageCurrentSrc\\\" data-wp-style--object-fit=\\\"selectors.core.image.lightboxObjectFit\\\" data-id=\\\"582099\\\" src=\\\"\\\" alt=\\\"\\\" class=\\\"wp-image-582099\\\"/></figure>\\n</div>\\n                <div class=\\\"lightbox-image-container\\\">\\n<figure class=\\\"wp-block-image size-full enlarged-image\\\"><img decoding=\\\"async\\\" data-wp-bind--src=\\\"selectors.core.image.enlargedImgSrc\\\" data-wp-style--object-fit=\\\"selectors.core.image.lightboxObjectFit\\\" data-id=\\\"582099\\\" src=\\\"\\\" alt=\\\"\\\" class=\\\"wp-image-582099\\\"/></figure>\\n</div>\\n                <div class=\\\"scrim\\\" style=\\\"background-color: #fff\\\" aria-hidden=\\\"true\\\"></div>\\n        </div></figure>\\n</figure>\\n\\n\\n\\n<div style=\\\"height:100px\\\" aria-hidden=\\\"true\\\" class=\\\"wp-block-spacer\\\"></div>\\n\\n\\n\\n<p><strong>Avant de vous rendre sur les sublimes routes, pensez à vérifier les infos routes en cliquant <a href=\\\"https://inforoutes.ladrome.fr\\\" target=\\\"_blank\\\" rel=\\\"noopener\\\">ici.</a></strong></p>\\n\")"
   ]
  },
  {
   "cell_type": "code",
   "execution_count": 3,
   "metadata": {},
   "outputs": [
    {
     "data": {
      "text/plain": [
       "'Les projets en cours\\n====================\\n\\n\\nL’ambition est de conjuguer la mise en valeur du territoire avec sa préservation. Les aménagements créés dans l’initiative des Sublimes Routes proposeront au visiteur une nouvelle expérience de visite, sensible et artistique, pour un face-à-face en immersion dans ces paysages sublimes. Une attention particulière a été apportée à l’accessibilité de chacun des belvédères, des places de stationnement sont réservées au plus près des aménagements.\\n\\n\\n### **Col de la Bataille**\\n\\n\\nA voir dès à présent : la passerelle du belvédère de l’Arche et le belvédère de l’Aubasse. Deux ouvrages intégrés aux sites, qui ouvrent aux visiteurs un nouvel espace de contemplation sur la combe de Bouvante et le milieu vertical environnant. Les deux ouvrages sont en acier Corten (aspect rouillé), un matériau spécialement conçu pour l’extérieur, tout comme le belvédère sur le site des Lames en passe d’être prochainement terminé. Une passerelle métallique en encorbellement et une table d’orientation singulière l’«anneau de pierre» compléteront l’ensemble au col de la Bataille.\\n\\n\\n#### Où en est-on ?\\n\\n\\n![](https://www.ladrome.fr/wp-content/uploads/2023/12/calendrier-colbataille.jpg)\\n\\n\\n\\n \\n\\n\\n\\n\\n![]()\\n\\n\\n![]()\\n\\n\\n\\n\\n![](https://www.ladrome.fr/wp-content/uploads/2023/12/pas-de-laubasse-claire-matras-017.jpg)\\n\\n\\n\\nBelvédère de l’Aubasse \\n\\n\\n\\n\\n![]()Belvédère de l’Aubasse\\n\\n\\n![]()Belvédère de l’Aubasse\\n\\n\\n\\n![](https://www.ladrome.fr/wp-content/uploads/2023/12/col-de-la-bataille-claire-matras-009.jpg)\\n\\n\\n\\nBelvédère de l’Arche \\n\\n\\n\\n\\n![]()Belvédère de l’Arche\\n\\n\\n![]()Belvédère de l’Arche\\n\\n\\n\\n\\n**Informations équipe maîtrise d’œuvre / travaux**\\n\\n\\n* Équipe de maîtrise d’œuvre composée de BigBang (MOE Paysage) et Christophe Gonnet (artiste plasticien)\\n* Réalisation du projet : C Cube (artisan ferronnier) et Laquet (Maçonnerie et mobilier Pierre)\\n\\n\\n\\n### **Col de Rousset**\\n\\n\\nCe projet vise à réaménager le belvédère existant côté Chamaloc correspondant à l’ancienne route (ouverture du tunnel actuel en 1976). Une grande place sera laissée au végétal pour cet aménagement, et l’ancien tunnel sera réhabilité pour permettre un accès piétons, reliant ainsi le cœur de station au belvédère. Une œuvre artistique sera également créée avec un cheminement dédié jusqu’au col naturel du Rousset. « [Le lieu Décisif](https://www.ladrome.fr/actualites/sublimes-routes-une-oeuvre-dart-au-col-de-rousset/) », œuvre paysagère et artistique conçue par Liliana Motta, offrira un lieu de contemplation du grand paysage du Vercors et du Diois.\\n\\n\\n#### Où en est-on ?\\n\\n\\n![](https://www.ladrome.fr/wp-content/uploads/2023/12/calendrier-colrousset.jpg)\\n\\n\\n\\n \\n\\n\\n\\n\\n![]()\\n\\n\\n![]()\\n\\n\\n\\n\\n![](https://www.ladrome.fr/wp-content/uploads/2023/12/rousset-avp-photomontage-01-230614-2480x1653.jpg)\\n\\n\\n\\nProjection belvédère \\n\\n\\n\\n\\n![]()Projection belvédère\\n\\n\\n![]()Projection belvédère\\n\\n\\n\\n![](https://www.ladrome.fr/wp-content/uploads/2023/12/rousset-avp-photomontage-03-230614-2480x1653.jpg)\\n\\n\\n\\nProjection entrée du tunnel \\n\\n\\n\\n\\n![]()Projection entrée du tunnel\\n\\n\\n![]()Projection entrée du tunnel\\n\\n\\n\\n\\n**Informations équipe maîtrise d’œuvre / travaux**\\n\\n\\n* Pour l’aménagement du belvédère : Équipe de maîtrise d’œuvre composée de Wald, Bipolar Production, Ressources Events, Atelier Tombolo et Liliana Motta ([Laboratoire du Dehors](https://www.instagram.com/laboratoiredudehors/))\\n* Pour la réouverture du tunnel : Maîtres d’œuvres : Les éclaireurs (mise en lumière) – Artélia (mise en sécurité)\\n\\n\\n\\n### **Le Claps**\\n\\n\\nCe projet vise à mettre en valeur ce site classé par le retrait des stationnements du cœur du site, le confortement et la création de cheminements. L’artiste Corène Caubel accompagne ce projet en y infusant des détails artistiques et proposera une installation présentant l’histoire marquant la création des lieux.\\n\\n\\n#### Où en est-on ?\\n\\n\\n![](https://www.ladrome.fr/wp-content/uploads/2023/12/calendrier-claps.jpg)\\n\\n\\n\\n \\n\\n\\n\\n\\n![]()\\n\\n\\n![]()\\n\\n\\n\\n\\n![](https://www.ladrome.fr/wp-content/uploads/2023/12/claps-2.jpg)\\n\\n\\n\\n \\n\\n\\n\\n\\n![]()\\n\\n\\n![]()\\n\\n\\n\\n![](https://www.ladrome.fr/wp-content/uploads/2023/12/claps-4.jpg)\\n\\n\\n\\n \\n\\n\\n\\n\\n![]()\\n\\n\\n![]()\\n\\n\\n\\n\\n**Informations équipe maîtrise d’œuvre / travaux**\\n\\n\\n* Équipe de maîtrise d’œuvre composée d’Atelier L Paysage (paysagiste concepteur), Corène Caubel (Artiste), Suez (VRD et hydraulique) et Géovallées (géomètre)\\n\\n\\n\\n### Pont du Tram\\n\\n\\nCe projet consiste en la réouverture du pont entre les communes de St Jean en Royans et de St Laurent en Royans, destiné aux **modes doux uniquement (piéton et cyclo)**.\\n\\n\\nCe viaduc de 55 m et d’une hauteur de 34 m au-dessus du ruisseau du Cholet est un rare témoignage du tramway reliant Bourg-de-Péage à Sainte Eulalie-en-Royans et du développement du chemin de fer dans la Drôme. De ce pont patrimonial se dévoile le panorama de l’un des plus beaux sites du Royans, la Combe Laval.\\n\\n\\nL’étude technique en cours, lancée en octobre 2023 par le Département, concerne la remise en l’état de la structure du pont.\\n\\n\\n#### Où en est-on ?\\n\\n\\n![](https://www.ladrome.fr/wp-content/uploads/2023/12/calendrier-pontdutram.png)\\n\\n\\n\\n \\n\\n\\n\\n\\n![]()\\n\\n\\n![]()\\n\\n\\n\\n\\n![](https://www.ladrome.fr/wp-content/uploads/2023/12/pont-du-tram-matras-001.jpg)\\n\\n\\n\\n \\n\\n\\n\\n\\n![]()\\n\\n\\n![]()\\n\\n\\n\\n![](https://www.ladrome.fr/wp-content/uploads/2023/12/pont-du-tram-matras-006.jpg)\\n\\n\\n\\n \\n\\n\\n\\n\\n![]()\\n\\n\\n![]()\\n\\n\\n\\n\\n\\n**Avant de vous rendre sur les sublimes routes, pensez à vérifier les infos routes en cliquant [ici.](https://inforoutes.ladrome.fr)**\\n\\n\\n'"
      ]
     },
     "execution_count": 3,
     "metadata": {},
     "output_type": "execute_result"
    }
   ],
   "source": [
    "text"
   ]
  },
  {
   "cell_type": "code",
   "execution_count": null,
   "metadata": {},
   "outputs": [],
   "source": []
  }
 ],
 "metadata": {
  "kernelspec": {
   "display_name": "d26",
   "language": "python",
   "name": "python3"
  },
  "language_info": {
   "codemirror_mode": {
    "name": "ipython",
    "version": 3
   },
   "file_extension": ".py",
   "mimetype": "text/x-python",
   "name": "python",
   "nbconvert_exporter": "python",
   "pygments_lexer": "ipython3",
   "version": "3.10.13"
  }
 },
 "nbformat": 4,
 "nbformat_minor": 2
}
