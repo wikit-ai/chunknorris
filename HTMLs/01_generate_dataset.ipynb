{
 "cells": [
  {
   "cell_type": "code",
   "execution_count": 1,
   "metadata": {},
   "outputs": [],
   "source": [
    "import json\n",
    "import os\n",
    "import pandas as pd\n",
    "from src.RAG_dataset_generator import RAGDatasetGenerator"
   ]
  },
  {
   "cell_type": "code",
   "execution_count": 2,
   "metadata": {},
   "outputs": [],
   "source": [
    "CHUNKS_FOLDER = \"../../data\\D26\\ladrome-2023-12-22-page-chunked-v1\""
   ]
  },
  {
   "cell_type": "code",
   "execution_count": 9,
   "metadata": {},
   "outputs": [
    {
     "ename": "TypeError",
     "evalue": "RAGDatasetGenerator.generate_RAG_dataset() got an unexpected keyword argument 'max_retries'",
     "output_type": "error",
     "traceback": [
      "\u001b[1;31m---------------------------------------------------------------------------\u001b[0m",
      "\u001b[1;31mTypeError\u001b[0m                                 Traceback (most recent call last)",
      "Cell \u001b[1;32mIn[9], line 9\u001b[0m\n\u001b[0;32m      6\u001b[0m filenames \u001b[38;5;241m=\u001b[39m [fn[\u001b[38;5;241m0\u001b[39m] \u001b[38;5;28;01mfor\u001b[39;00m fn \u001b[38;5;129;01min\u001b[39;00m filenames]\n\u001b[0;32m      8\u001b[0m dataset_generator \u001b[38;5;241m=\u001b[39m RAGDatasetGenerator(\u001b[38;5;124m\"\u001b[39m\u001b[38;5;124mmistral\u001b[39m\u001b[38;5;124m\"\u001b[39m, model\u001b[38;5;241m=\u001b[39m\u001b[38;5;124m\"\u001b[39m\u001b[38;5;124mmistral_small\u001b[39m\u001b[38;5;124m\"\u001b[39m)\n\u001b[1;32m----> 9\u001b[0m dataset_generator\u001b[38;5;241m.\u001b[39mgenerate_RAG_dataset(CHUNKS_FOLDER, filenames, \u001b[38;5;241m*\u001b[39m\u001b[38;5;241m*\u001b[39m\u001b[38;5;28mdict\u001b[39m(max_retries\u001b[38;5;241m=\u001b[39m\u001b[38;5;241m5\u001b[39m))\n",
      "\u001b[1;31mTypeError\u001b[0m: RAGDatasetGenerator.generate_RAG_dataset() got an unexpected keyword argument 'max_retries'"
     ]
    }
   ],
   "source": [
    "handmade_dataset = pd.read_excel(\"../../data/D26/D26_dataset_handmade.xlsx\")\n",
    "handmade_dataset[\"relevant_chunk_ids\"] = handmade_dataset[\"relevant_chunk_ids\"].str.split(\" \")\n",
    "handmade_dataset.dropna(subset=\"relevant_chunk_ids\", inplace=True)\n",
    "\n",
    "filenames = handmade_dataset[\"relevant_chunk_ids\"].tolist()\n",
    "filenames = [fn[0] for fn in filenames]\n",
    "\n",
    "dataset_generator = RAGDatasetGenerator(\"mistral\", model=\"mistral_small\")\n",
    "dataset_generator.generate_RAG_dataset(CHUNKS_FOLDER, filenames, max_retries=5)"
   ]
  },
  {
   "cell_type": "code",
   "execution_count": null,
   "metadata": {},
   "outputs": [],
   "source": []
  }
 ],
 "metadata": {
  "kernelspec": {
   "display_name": "d26",
   "language": "python",
   "name": "python3"
  },
  "language_info": {
   "codemirror_mode": {
    "name": "ipython",
    "version": 3
   },
   "file_extension": ".py",
   "mimetype": "text/x-python",
   "name": "python",
   "nbconvert_exporter": "python",
   "pygments_lexer": "ipython3",
   "version": "3.10.13"
  }
 },
 "nbformat": 4,
 "nbformat_minor": 2
}
